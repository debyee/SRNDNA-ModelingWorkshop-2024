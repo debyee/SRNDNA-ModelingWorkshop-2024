{
  "cells": [
    {
      "cell_type": "markdown",
      "id": "9ecc15b5-726f-4065-a095-26117b8a4f9c",
      "metadata": {
        "id": "9ecc15b5-726f-4065-a095-26117b8a4f9c"
      },
      "source": [
        "<center> <img src=\"https://github.com/lnccbrown/HSSM/blob/srndna24/docs/tutorials/images/HSSM_logo.png?raw=1\"> </center>"
      ]
    },
    {
      "cell_type": "markdown",
      "id": "0aaef866",
      "metadata": {
        "id": "0aaef866"
      },
      "source": [
        "This tutorial provides a comprehensive introduction to the HSSM package for Hierarchical Bayesian Estimation of Sequential Sampling Models.\n",
        "\n",
        "To make the most of the tutorial, let us cover the functionality of the key supporting packages that we use along the way."
      ]
    },
    {
      "cell_type": "markdown",
      "id": "c5b6ce99",
      "metadata": {
        "id": "c5b6ce99"
      },
      "source": [
        "## Colab Instructions\n",
        "\n",
        "If you would like to run this tutorial on Google colab, please click this [link](https://github.com/lnccbrown/HSSM/blob/main/docs/tutorials/main_tutorial.ipynb).\n",
        "\n",
        "Once you are *in the colab*, follow the *installation instructions below* and then **restart your runtime**.\n",
        "\n",
        "Just **uncomment the code in the next code cell** and run it!\n",
        "\n",
        "**NOTE**:\n",
        "\n",
        "You may want to *switch your runtime* to have a GPU or TPU. To do so, go to *Runtime* > *Change runtime type* and select the desired hardware accelerator.\n",
        "\n",
        "Note that if you switch your runtime you have to follow the installation instructions again."
      ]
    },
    {
      "cell_type": "code",
      "execution_count": 1,
      "id": "5fdf6df2",
      "metadata": {
        "id": "5fdf6df2",
        "outputId": "75694ac6-b208-427c-fe1d-482d91321643",
        "colab": {
          "base_uri": "https://localhost:8080/"
        }
      },
      "outputs": [
        {
          "output_type": "stream",
          "name": "stdout",
          "text": [
            "Collecting git+https://github.com/lnccbrown/HSSM@srndna24\n",
            "  Cloning https://github.com/lnccbrown/HSSM (to revision srndna24) to /tmp/pip-req-build-_gjbtxev\n",
            "  Running command git clone --filter=blob:none --quiet https://github.com/lnccbrown/HSSM /tmp/pip-req-build-_gjbtxev\n",
            "  Running command git checkout -b srndna24 --track origin/srndna24\n",
            "  Switched to a new branch 'srndna24'\n",
            "  Branch 'srndna24' set up to track remote branch 'srndna24' from 'origin'.\n",
            "  Resolved https://github.com/lnccbrown/HSSM to commit ed9eb48f04b4ee873230f050073eea0f5093bba9\n",
            "  Installing build dependencies ... \u001b[?25l\u001b[?25hdone\n",
            "  Getting requirements to build wheel ... \u001b[?25l\u001b[?25hdone\n",
            "  Preparing metadata (pyproject.toml) ... \u001b[?25l\u001b[?25hdone\n",
            "Requirement already satisfied: arviz<0.19.0,>=0.18.0 in /usr/local/lib/python3.10/dist-packages (from HSSM==0.2.3) (0.18.0)\n",
            "Collecting bambi<0.14.0,>=0.13.0 (from HSSM==0.2.3)\n",
            "  Downloading bambi-0.13.0-py3-none-any.whl.metadata (7.1 kB)\n",
            "Collecting hddm-wfpt<0.2.0,>=0.1.4 (from HSSM==0.2.3)\n",
            "  Downloading hddm_wfpt-0.1.4-cp310-cp310-manylinux_2_5_x86_64.manylinux1_x86_64.manylinux_2_17_x86_64.manylinux2014_x86_64.whl.metadata (2.0 kB)\n",
            "Requirement already satisfied: huggingface-hub<0.24.0,>=0.23.0 in /usr/local/lib/python3.10/dist-packages (from HSSM==0.2.3) (0.23.5)\n",
            "Collecting numpyro<0.16.0,>=0.15.0 (from HSSM==0.2.3)\n",
            "  Downloading numpyro-0.15.1-py3-none-any.whl.metadata (36 kB)\n",
            "Collecting onnx<2.0.0,>=1.16.0 (from HSSM==0.2.3)\n",
            "  Downloading onnx-1.16.1-cp310-cp310-manylinux_2_17_x86_64.manylinux2014_x86_64.whl.metadata (16 kB)\n",
            "Requirement already satisfied: pymc<=5.16.1 in /usr/local/lib/python3.10/dist-packages (from HSSM==0.2.3) (5.10.4)\n",
            "Collecting seaborn<0.14.0,>=0.13.2 (from HSSM==0.2.3)\n",
            "  Downloading seaborn-0.13.2-py3-none-any.whl.metadata (5.4 kB)\n",
            "Collecting ssm-simulators<0.8.0,>=0.7.2 (from HSSM==0.2.3)\n",
            "  Downloading ssm_simulators-0.7.2-cp310-cp310-manylinux_2_17_x86_64.manylinux2014_x86_64.whl.metadata (8.8 kB)\n",
            "Requirement already satisfied: setuptools>=60.0.0 in /usr/local/lib/python3.10/dist-packages (from arviz<0.19.0,>=0.18.0->HSSM==0.2.3) (71.0.4)\n",
            "Requirement already satisfied: matplotlib>=3.5 in /usr/local/lib/python3.10/dist-packages (from arviz<0.19.0,>=0.18.0->HSSM==0.2.3) (3.7.1)\n",
            "Requirement already satisfied: numpy<2.0,>=1.23.0 in /usr/local/lib/python3.10/dist-packages (from arviz<0.19.0,>=0.18.0->HSSM==0.2.3) (1.25.2)\n",
            "Requirement already satisfied: scipy>=1.9.0 in /usr/local/lib/python3.10/dist-packages (from arviz<0.19.0,>=0.18.0->HSSM==0.2.3) (1.13.1)\n",
            "Requirement already satisfied: packaging in /usr/local/lib/python3.10/dist-packages (from arviz<0.19.0,>=0.18.0->HSSM==0.2.3) (24.1)\n",
            "Requirement already satisfied: pandas>=1.5.0 in /usr/local/lib/python3.10/dist-packages (from arviz<0.19.0,>=0.18.0->HSSM==0.2.3) (2.0.3)\n",
            "Requirement already satisfied: dm-tree>=0.1.8 in /usr/local/lib/python3.10/dist-packages (from arviz<0.19.0,>=0.18.0->HSSM==0.2.3) (0.1.8)\n",
            "Requirement already satisfied: xarray>=2022.6.0 in /usr/local/lib/python3.10/dist-packages (from arviz<0.19.0,>=0.18.0->HSSM==0.2.3) (2024.6.0)\n",
            "Requirement already satisfied: h5netcdf>=1.0.2 in /usr/local/lib/python3.10/dist-packages (from arviz<0.19.0,>=0.18.0->HSSM==0.2.3) (1.3.0)\n",
            "Requirement already satisfied: typing-extensions>=4.1.0 in /usr/local/lib/python3.10/dist-packages (from arviz<0.19.0,>=0.18.0->HSSM==0.2.3) (4.12.2)\n",
            "Requirement already satisfied: xarray-einstats>=0.3 in /usr/local/lib/python3.10/dist-packages (from arviz<0.19.0,>=0.18.0->HSSM==0.2.3) (0.7.0)\n",
            "Collecting formulae>=0.5.0 (from bambi<0.14.0,>=0.13.0->HSSM==0.2.3)\n",
            "  Downloading formulae-0.5.4-py3-none-any.whl.metadata (4.5 kB)\n",
            "Requirement already satisfied: graphviz in /usr/local/lib/python3.10/dist-packages (from bambi<0.14.0,>=0.13.0->HSSM==0.2.3) (0.20.3)\n",
            "Requirement already satisfied: filelock in /usr/local/lib/python3.10/dist-packages (from huggingface-hub<0.24.0,>=0.23.0->HSSM==0.2.3) (3.15.4)\n",
            "Requirement already satisfied: fsspec>=2023.5.0 in /usr/local/lib/python3.10/dist-packages (from huggingface-hub<0.24.0,>=0.23.0->HSSM==0.2.3) (2024.6.1)\n",
            "Requirement already satisfied: pyyaml>=5.1 in /usr/local/lib/python3.10/dist-packages (from huggingface-hub<0.24.0,>=0.23.0->HSSM==0.2.3) (6.0.1)\n",
            "Requirement already satisfied: requests in /usr/local/lib/python3.10/dist-packages (from huggingface-hub<0.24.0,>=0.23.0->HSSM==0.2.3) (2.31.0)\n",
            "Requirement already satisfied: tqdm>=4.42.1 in /usr/local/lib/python3.10/dist-packages (from huggingface-hub<0.24.0,>=0.23.0->HSSM==0.2.3) (4.66.4)\n",
            "Requirement already satisfied: jax>=0.4.25 in /usr/local/lib/python3.10/dist-packages (from numpyro<0.16.0,>=0.15.0->HSSM==0.2.3) (0.4.26)\n",
            "Requirement already satisfied: jaxlib>=0.4.25 in /usr/local/lib/python3.10/dist-packages (from numpyro<0.16.0,>=0.15.0->HSSM==0.2.3) (0.4.26+cuda12.cudnn89)\n",
            "Requirement already satisfied: multipledispatch in /usr/local/lib/python3.10/dist-packages (from numpyro<0.16.0,>=0.15.0->HSSM==0.2.3) (1.0.0)\n",
            "Requirement already satisfied: protobuf>=3.20.2 in /usr/local/lib/python3.10/dist-packages (from onnx<2.0.0,>=1.16.0->HSSM==0.2.3) (3.20.3)\n",
            "Requirement already satisfied: cachetools>=4.2.1 in /usr/local/lib/python3.10/dist-packages (from pymc<=5.16.1->HSSM==0.2.3) (5.4.0)\n",
            "Requirement already satisfied: cloudpickle in /usr/local/lib/python3.10/dist-packages (from pymc<=5.16.1->HSSM==0.2.3) (2.2.1)\n",
            "Requirement already satisfied: fastprogress>=0.2.0 in /usr/local/lib/python3.10/dist-packages (from pymc<=5.16.1->HSSM==0.2.3) (1.0.3)\n",
            "Requirement already satisfied: pytensor<2.19,>=2.18.1 in /usr/local/lib/python3.10/dist-packages (from pymc<=5.16.1->HSSM==0.2.3) (2.18.6)\n",
            "Requirement already satisfied: scikit-learn>=0.24.0 in /usr/local/lib/python3.10/dist-packages (from ssm-simulators<0.8.0,>=0.7.2->HSSM==0.2.3) (1.3.2)\n",
            "Requirement already satisfied: psutil>=5.0.0 in /usr/local/lib/python3.10/dist-packages (from ssm-simulators<0.8.0,>=0.7.2->HSSM==0.2.3) (5.9.5)\n",
            "Requirement already satisfied: h5py in /usr/local/lib/python3.10/dist-packages (from h5netcdf>=1.0.2->arviz<0.19.0,>=0.18.0->HSSM==0.2.3) (3.11.0)\n",
            "Requirement already satisfied: ml-dtypes>=0.2.0 in /usr/local/lib/python3.10/dist-packages (from jax>=0.4.25->numpyro<0.16.0,>=0.15.0->HSSM==0.2.3) (0.2.0)\n",
            "Requirement already satisfied: opt-einsum in /usr/local/lib/python3.10/dist-packages (from jax>=0.4.25->numpyro<0.16.0,>=0.15.0->HSSM==0.2.3) (3.3.0)\n",
            "Requirement already satisfied: contourpy>=1.0.1 in /usr/local/lib/python3.10/dist-packages (from matplotlib>=3.5->arviz<0.19.0,>=0.18.0->HSSM==0.2.3) (1.2.1)\n",
            "Requirement already satisfied: cycler>=0.10 in /usr/local/lib/python3.10/dist-packages (from matplotlib>=3.5->arviz<0.19.0,>=0.18.0->HSSM==0.2.3) (0.12.1)\n",
            "Requirement already satisfied: fonttools>=4.22.0 in /usr/local/lib/python3.10/dist-packages (from matplotlib>=3.5->arviz<0.19.0,>=0.18.0->HSSM==0.2.3) (4.53.1)\n",
            "Requirement already satisfied: kiwisolver>=1.0.1 in /usr/local/lib/python3.10/dist-packages (from matplotlib>=3.5->arviz<0.19.0,>=0.18.0->HSSM==0.2.3) (1.4.5)\n",
            "Requirement already satisfied: pillow>=6.2.0 in /usr/local/lib/python3.10/dist-packages (from matplotlib>=3.5->arviz<0.19.0,>=0.18.0->HSSM==0.2.3) (9.4.0)\n",
            "Requirement already satisfied: pyparsing>=2.3.1 in /usr/local/lib/python3.10/dist-packages (from matplotlib>=3.5->arviz<0.19.0,>=0.18.0->HSSM==0.2.3) (3.1.2)\n",
            "Requirement already satisfied: python-dateutil>=2.7 in /usr/local/lib/python3.10/dist-packages (from matplotlib>=3.5->arviz<0.19.0,>=0.18.0->HSSM==0.2.3) (2.8.2)\n",
            "Requirement already satisfied: pytz>=2020.1 in /usr/local/lib/python3.10/dist-packages (from pandas>=1.5.0->arviz<0.19.0,>=0.18.0->HSSM==0.2.3) (2024.1)\n",
            "Requirement already satisfied: tzdata>=2022.1 in /usr/local/lib/python3.10/dist-packages (from pandas>=1.5.0->arviz<0.19.0,>=0.18.0->HSSM==0.2.3) (2024.1)\n",
            "Requirement already satisfied: etuples in /usr/local/lib/python3.10/dist-packages (from pytensor<2.19,>=2.18.1->pymc<=5.16.1->HSSM==0.2.3) (0.3.9)\n",
            "Requirement already satisfied: logical-unification in /usr/local/lib/python3.10/dist-packages (from pytensor<2.19,>=2.18.1->pymc<=5.16.1->HSSM==0.2.3) (0.4.6)\n",
            "Requirement already satisfied: miniKanren in /usr/local/lib/python3.10/dist-packages (from pytensor<2.19,>=2.18.1->pymc<=5.16.1->HSSM==0.2.3) (1.0.3)\n",
            "Requirement already satisfied: cons in /usr/local/lib/python3.10/dist-packages (from pytensor<2.19,>=2.18.1->pymc<=5.16.1->HSSM==0.2.3) (0.4.6)\n",
            "Requirement already satisfied: joblib>=1.1.1 in /usr/local/lib/python3.10/dist-packages (from scikit-learn>=0.24.0->ssm-simulators<0.8.0,>=0.7.2->HSSM==0.2.3) (1.4.2)\n",
            "Requirement already satisfied: threadpoolctl>=2.0.0 in /usr/local/lib/python3.10/dist-packages (from scikit-learn>=0.24.0->ssm-simulators<0.8.0,>=0.7.2->HSSM==0.2.3) (3.5.0)\n",
            "Requirement already satisfied: charset-normalizer<4,>=2 in /usr/local/lib/python3.10/dist-packages (from requests->huggingface-hub<0.24.0,>=0.23.0->HSSM==0.2.3) (3.3.2)\n",
            "Requirement already satisfied: idna<4,>=2.5 in /usr/local/lib/python3.10/dist-packages (from requests->huggingface-hub<0.24.0,>=0.23.0->HSSM==0.2.3) (3.7)\n",
            "Requirement already satisfied: urllib3<3,>=1.21.1 in /usr/local/lib/python3.10/dist-packages (from requests->huggingface-hub<0.24.0,>=0.23.0->HSSM==0.2.3) (2.0.7)\n",
            "Requirement already satisfied: certifi>=2017.4.17 in /usr/local/lib/python3.10/dist-packages (from requests->huggingface-hub<0.24.0,>=0.23.0->HSSM==0.2.3) (2024.7.4)\n",
            "Requirement already satisfied: six>=1.5 in /usr/local/lib/python3.10/dist-packages (from python-dateutil>=2.7->matplotlib>=3.5->arviz<0.19.0,>=0.18.0->HSSM==0.2.3) (1.16.0)\n",
            "Requirement already satisfied: toolz in /usr/local/lib/python3.10/dist-packages (from logical-unification->pytensor<2.19,>=2.18.1->pymc<=5.16.1->HSSM==0.2.3) (0.12.1)\n",
            "Downloading bambi-0.13.0-py3-none-any.whl (96 kB)\n",
            "\u001b[2K   \u001b[90m━━━━━━━━━━━━━━━━━━━━━━━━━━━━━━━━━━━━━━━━\u001b[0m \u001b[32m96.1/96.1 kB\u001b[0m \u001b[31m4.0 MB/s\u001b[0m eta \u001b[36m0:00:00\u001b[0m\n",
            "\u001b[?25hDownloading hddm_wfpt-0.1.4-cp310-cp310-manylinux_2_5_x86_64.manylinux1_x86_64.manylinux_2_17_x86_64.manylinux2014_x86_64.whl (764 kB)\n",
            "\u001b[2K   \u001b[90m━━━━━━━━━━━━━━━━━━━━━━━━━━━━━━━━━━━━━━━━\u001b[0m \u001b[32m764.9/764.9 kB\u001b[0m \u001b[31m15.3 MB/s\u001b[0m eta \u001b[36m0:00:00\u001b[0m\n",
            "\u001b[?25hDownloading numpyro-0.15.1-py3-none-any.whl (348 kB)\n",
            "\u001b[2K   \u001b[90m━━━━━━━━━━━━━━━━━━━━━━━━━━━━━━━━━━━━━━━━\u001b[0m \u001b[32m348.2/348.2 kB\u001b[0m \u001b[31m7.0 MB/s\u001b[0m eta \u001b[36m0:00:00\u001b[0m\n",
            "\u001b[?25hDownloading onnx-1.16.1-cp310-cp310-manylinux_2_17_x86_64.manylinux2014_x86_64.whl (15.9 MB)\n",
            "\u001b[2K   \u001b[90m━━━━━━━━━━━━━━━━━━━━━━━━━━━━━━━━━━━━━━━━\u001b[0m \u001b[32m15.9/15.9 MB\u001b[0m \u001b[31m29.8 MB/s\u001b[0m eta \u001b[36m0:00:00\u001b[0m\n",
            "\u001b[?25hDownloading seaborn-0.13.2-py3-none-any.whl (294 kB)\n",
            "\u001b[2K   \u001b[90m━━━━━━━━━━━━━━━━━━━━━━━━━━━━━━━━━━━━━━━━\u001b[0m \u001b[32m294.9/294.9 kB\u001b[0m \u001b[31m23.3 MB/s\u001b[0m eta \u001b[36m0:00:00\u001b[0m\n",
            "\u001b[?25hDownloading ssm_simulators-0.7.2-cp310-cp310-manylinux_2_17_x86_64.manylinux2014_x86_64.whl (2.2 MB)\n",
            "\u001b[2K   \u001b[90m━━━━━━━━━━━━━━━━━━━━━━━━━━━━━━━━━━━━━━━━\u001b[0m \u001b[32m2.2/2.2 MB\u001b[0m \u001b[31m25.6 MB/s\u001b[0m eta \u001b[36m0:00:00\u001b[0m\n",
            "\u001b[?25hDownloading formulae-0.5.4-py3-none-any.whl (53 kB)\n",
            "\u001b[2K   \u001b[90m━━━━━━━━━━━━━━━━━━━━━━━━━━━━━━━━━━━━━━━━\u001b[0m \u001b[32m53.7/53.7 kB\u001b[0m \u001b[31m4.3 MB/s\u001b[0m eta \u001b[36m0:00:00\u001b[0m\n",
            "\u001b[?25hBuilding wheels for collected packages: HSSM\n",
            "  Building wheel for HSSM (pyproject.toml) ... \u001b[?25l\u001b[?25hdone\n",
            "  Created wheel for HSSM: filename=hssm-0.2.3-py3-none-any.whl size=176579 sha256=cc5e281cfa87bf45f4b014c50214e32d799d98bbad037760f77379cb55f526c5\n",
            "  Stored in directory: /tmp/pip-ephem-wheel-cache-b139om0q/wheels/5f/1e/a7/a3318190d96c834b02b04dc92bd9684c3c8ca7fbaf4e3c905e\n",
            "Successfully built HSSM\n",
            "Installing collected packages: onnx, hddm-wfpt, ssm-simulators, seaborn, numpyro, formulae, bambi, HSSM\n",
            "  Attempting uninstall: seaborn\n",
            "    Found existing installation: seaborn 0.13.1\n",
            "    Uninstalling seaborn-0.13.1:\n",
            "      Successfully uninstalled seaborn-0.13.1\n",
            "Successfully installed HSSM-0.2.3 bambi-0.13.0 formulae-0.5.4 hddm-wfpt-0.1.4 numpyro-0.15.1 onnx-1.16.1 seaborn-0.13.2 ssm-simulators-0.7.2\n",
            "Collecting pymc==5.16.1\n",
            "  Downloading pymc-5.16.1-py3-none-any.whl.metadata (15 kB)\n",
            "Requirement already satisfied: arviz>=0.13.0 in /usr/local/lib/python3.10/dist-packages (from pymc==5.16.1) (0.18.0)\n",
            "Requirement already satisfied: cachetools>=4.2.1 in /usr/local/lib/python3.10/dist-packages (from pymc==5.16.1) (5.4.0)\n",
            "Requirement already satisfied: cloudpickle in /usr/local/lib/python3.10/dist-packages (from pymc==5.16.1) (2.2.1)\n",
            "Requirement already satisfied: numpy>=1.15.0 in /usr/local/lib/python3.10/dist-packages (from pymc==5.16.1) (1.25.2)\n",
            "Requirement already satisfied: pandas>=0.24.0 in /usr/local/lib/python3.10/dist-packages (from pymc==5.16.1) (2.0.3)\n",
            "Collecting pytensor<2.24,>=2.23 (from pymc==5.16.1)\n",
            "  Downloading pytensor-2.23.0-cp310-cp310-manylinux_2_17_x86_64.manylinux2014_x86_64.whl.metadata (9.8 kB)\n",
            "Requirement already satisfied: rich>=13.7.1 in /usr/local/lib/python3.10/dist-packages (from pymc==5.16.1) (13.7.1)\n",
            "Requirement already satisfied: scipy>=1.4.1 in /usr/local/lib/python3.10/dist-packages (from pymc==5.16.1) (1.13.1)\n",
            "Requirement already satisfied: threadpoolctl<4.0.0,>=3.1.0 in /usr/local/lib/python3.10/dist-packages (from pymc==5.16.1) (3.5.0)\n",
            "Requirement already satisfied: typing-extensions>=3.7.4 in /usr/local/lib/python3.10/dist-packages (from pymc==5.16.1) (4.12.2)\n",
            "Requirement already satisfied: setuptools>=60.0.0 in /usr/local/lib/python3.10/dist-packages (from arviz>=0.13.0->pymc==5.16.1) (71.0.4)\n",
            "Requirement already satisfied: matplotlib>=3.5 in /usr/local/lib/python3.10/dist-packages (from arviz>=0.13.0->pymc==5.16.1) (3.7.1)\n",
            "Requirement already satisfied: packaging in /usr/local/lib/python3.10/dist-packages (from arviz>=0.13.0->pymc==5.16.1) (24.1)\n",
            "Requirement already satisfied: dm-tree>=0.1.8 in /usr/local/lib/python3.10/dist-packages (from arviz>=0.13.0->pymc==5.16.1) (0.1.8)\n",
            "Requirement already satisfied: xarray>=2022.6.0 in /usr/local/lib/python3.10/dist-packages (from arviz>=0.13.0->pymc==5.16.1) (2024.6.0)\n",
            "Requirement already satisfied: h5netcdf>=1.0.2 in /usr/local/lib/python3.10/dist-packages (from arviz>=0.13.0->pymc==5.16.1) (1.3.0)\n",
            "Requirement already satisfied: xarray-einstats>=0.3 in /usr/local/lib/python3.10/dist-packages (from arviz>=0.13.0->pymc==5.16.1) (0.7.0)\n",
            "Requirement already satisfied: python-dateutil>=2.8.2 in /usr/local/lib/python3.10/dist-packages (from pandas>=0.24.0->pymc==5.16.1) (2.8.2)\n",
            "Requirement already satisfied: pytz>=2020.1 in /usr/local/lib/python3.10/dist-packages (from pandas>=0.24.0->pymc==5.16.1) (2024.1)\n",
            "Requirement already satisfied: tzdata>=2022.1 in /usr/local/lib/python3.10/dist-packages (from pandas>=0.24.0->pymc==5.16.1) (2024.1)\n",
            "Requirement already satisfied: filelock in /usr/local/lib/python3.10/dist-packages (from pytensor<2.24,>=2.23->pymc==5.16.1) (3.15.4)\n",
            "Requirement already satisfied: etuples in /usr/local/lib/python3.10/dist-packages (from pytensor<2.24,>=2.23->pymc==5.16.1) (0.3.9)\n",
            "Requirement already satisfied: logical-unification in /usr/local/lib/python3.10/dist-packages (from pytensor<2.24,>=2.23->pymc==5.16.1) (0.4.6)\n",
            "Requirement already satisfied: miniKanren in /usr/local/lib/python3.10/dist-packages (from pytensor<2.24,>=2.23->pymc==5.16.1) (1.0.3)\n",
            "Requirement already satisfied: cons in /usr/local/lib/python3.10/dist-packages (from pytensor<2.24,>=2.23->pymc==5.16.1) (0.4.6)\n",
            "Requirement already satisfied: markdown-it-py>=2.2.0 in /usr/local/lib/python3.10/dist-packages (from rich>=13.7.1->pymc==5.16.1) (3.0.0)\n",
            "Requirement already satisfied: pygments<3.0.0,>=2.13.0 in /usr/local/lib/python3.10/dist-packages (from rich>=13.7.1->pymc==5.16.1) (2.16.1)\n",
            "Requirement already satisfied: h5py in /usr/local/lib/python3.10/dist-packages (from h5netcdf>=1.0.2->arviz>=0.13.0->pymc==5.16.1) (3.11.0)\n",
            "Requirement already satisfied: mdurl~=0.1 in /usr/local/lib/python3.10/dist-packages (from markdown-it-py>=2.2.0->rich>=13.7.1->pymc==5.16.1) (0.1.2)\n",
            "Requirement already satisfied: contourpy>=1.0.1 in /usr/local/lib/python3.10/dist-packages (from matplotlib>=3.5->arviz>=0.13.0->pymc==5.16.1) (1.2.1)\n",
            "Requirement already satisfied: cycler>=0.10 in /usr/local/lib/python3.10/dist-packages (from matplotlib>=3.5->arviz>=0.13.0->pymc==5.16.1) (0.12.1)\n",
            "Requirement already satisfied: fonttools>=4.22.0 in /usr/local/lib/python3.10/dist-packages (from matplotlib>=3.5->arviz>=0.13.0->pymc==5.16.1) (4.53.1)\n",
            "Requirement already satisfied: kiwisolver>=1.0.1 in /usr/local/lib/python3.10/dist-packages (from matplotlib>=3.5->arviz>=0.13.0->pymc==5.16.1) (1.4.5)\n",
            "Requirement already satisfied: pillow>=6.2.0 in /usr/local/lib/python3.10/dist-packages (from matplotlib>=3.5->arviz>=0.13.0->pymc==5.16.1) (9.4.0)\n",
            "Requirement already satisfied: pyparsing>=2.3.1 in /usr/local/lib/python3.10/dist-packages (from matplotlib>=3.5->arviz>=0.13.0->pymc==5.16.1) (3.1.2)\n",
            "Requirement already satisfied: six>=1.5 in /usr/local/lib/python3.10/dist-packages (from python-dateutil>=2.8.2->pandas>=0.24.0->pymc==5.16.1) (1.16.0)\n",
            "Requirement already satisfied: toolz in /usr/local/lib/python3.10/dist-packages (from logical-unification->pytensor<2.24,>=2.23->pymc==5.16.1) (0.12.1)\n",
            "Requirement already satisfied: multipledispatch in /usr/local/lib/python3.10/dist-packages (from logical-unification->pytensor<2.24,>=2.23->pymc==5.16.1) (1.0.0)\n",
            "Downloading pymc-5.16.1-py3-none-any.whl (489 kB)\n",
            "\u001b[2K   \u001b[90m━━━━━━━━━━━━━━━━━━━━━━━━━━━━━━━━━━━━━━━━\u001b[0m \u001b[32m489.0/489.0 kB\u001b[0m \u001b[31m14.9 MB/s\u001b[0m eta \u001b[36m0:00:00\u001b[0m\n",
            "\u001b[?25hDownloading pytensor-2.23.0-cp310-cp310-manylinux_2_17_x86_64.manylinux2014_x86_64.whl (1.8 MB)\n",
            "\u001b[2K   \u001b[90m━━━━━━━━━━━━━━━━━━━━━━━━━━━━━━━━━━━━━━━━\u001b[0m \u001b[32m1.8/1.8 MB\u001b[0m \u001b[31m53.7 MB/s\u001b[0m eta \u001b[36m0:00:00\u001b[0m\n",
            "\u001b[?25hInstalling collected packages: pytensor, pymc\n",
            "  Attempting uninstall: pytensor\n",
            "    Found existing installation: pytensor 2.18.6\n",
            "    Uninstalling pytensor-2.18.6:\n",
            "      Successfully uninstalled pytensor-2.18.6\n",
            "  Attempting uninstall: pymc\n",
            "    Found existing installation: pymc 5.10.4\n",
            "    Uninstalling pymc-5.10.4:\n",
            "      Successfully uninstalled pymc-5.10.4\n",
            "Successfully installed pymc-5.16.1 pytensor-2.23.0\n"
          ]
        }
      ],
      "source": [
        "# If running this on Colab, please uncomment the next line\n",
        "!pip install git+https://github.com/lnccbrown/HSSM@srndna24\n",
        "!pip install pymc==5.16.1"
      ]
    },
    {
      "cell_type": "markdown",
      "id": "c58561ef-cd0d-4391-be8c-9975213b4b51",
      "metadata": {
        "id": "c58561ef-cd0d-4391-be8c-9975213b4b51"
      },
      "source": [
        "## Basic Imports"
      ]
    },
    {
      "cell_type": "code",
      "execution_count": 3,
      "id": "74cd0ee8-3497-44ae-8a89-393d975a65db",
      "metadata": {
        "id": "74cd0ee8-3497-44ae-8a89-393d975a65db"
      },
      "outputs": [],
      "source": [
        "import warnings\n",
        "warnings.filterwarnings('ignore')\n",
        "#warnings.filterwarnings(action='once')\n",
        "\n",
        "# Basics\n",
        "import os\n",
        "import sys\n",
        "import time\n",
        "\n",
        "import numpy as np\n",
        "from matplotlib import pyplot as plt\n",
        "\n",
        "random_seed_sim = 134\n",
        "np.random.seed(random_seed_sim)"
      ]
    },
    {
      "cell_type": "markdown",
      "id": "e88a88ce",
      "metadata": {
        "id": "e88a88ce"
      },
      "source": [
        "## Data Simulation\n",
        "\n",
        "We will rely on the [ssms](https://github.com/AlexanderFengler/ssm-simulators) package for data simulation repeatedly. Let's look at a basic isolated use case below.\n",
        "\n",
        "As an example, let's use [ssms](https://github.com/AlexanderFengler/ssm-simulators) to simulate from the basic [Drift Diffusion Model](https://www.ncbi.nlm.nih.gov/pmc/articles/PMC2474742/) (a running example in this tutorial).\n",
        "\n",
        "<center> <img src=\"https://github.com/lnccbrown/HSSM/blob/srndna24/docs/tutorials/images/DDM_with_params_pic.png?raw=1\" height=\"400\" width=\"400\"> </center>\n",
        "\n",
        "If you are not familiar with the DDM. For now just consider that it has four parameters.\n",
        "\n",
        "- `v` the drift rate\n",
        "- `a` the boundary separation\n",
        "- `t` the non-decision time\n",
        "- `z` the a priori decision bias (starting point)"
      ]
    },
    {
      "cell_type": "markdown",
      "id": "acf31635-7e9c-44f8-ac83-0dd71e54eafe",
      "metadata": {
        "id": "acf31635-7e9c-44f8-ac83-0dd71e54eafe"
      },
      "source": [
        "### Using `simulate_data()`"
      ]
    },
    {
      "cell_type": "markdown",
      "id": "015aa049",
      "metadata": {
        "id": "015aa049"
      },
      "source": [
        "HSSM comes with a basic simulator function supplied the `simulate_data()` function. We can use this function to create synthetic datasets.\n",
        "\n",
        "Below we show the most basic usecase:\n",
        "\n",
        "We wish to generate `500` datapoints (trials) from the standard [Drift Diffusion Model](https://www.ncbi.nlm.nih.gov/pmc/articles/PMC2474742/) with a fixed parameters, `v = 0.5, a = 1.5, z = 0.5, t = 0.5`.\n",
        "\n",
        "\n",
        "**Note**:\n",
        "\n",
        "In the course of the tutorial, we will see multiple strategies for synthetic dataset generation, this being the most straightforward one.\n"
      ]
    },
    {
      "cell_type": "code",
      "execution_count": 5,
      "id": "eeb964f9",
      "metadata": {
        "id": "eeb964f9",
        "outputId": "c5a8a67d-2e23-429f-d227-9f1149acbd29",
        "colab": {
          "base_uri": "https://localhost:8080/",
          "height": 424
        }
      },
      "outputs": [
        {
          "output_type": "execute_result",
          "data": {
            "text/plain": [
              "           rt  response\n",
              "0    4.874712       1.0\n",
              "1    1.867731       1.0\n",
              "2    5.284047       1.0\n",
              "3    3.834563      -1.0\n",
              "4    3.584947       1.0\n",
              "..        ...       ...\n",
              "495  3.351213      -1.0\n",
              "496  1.735051       1.0\n",
              "497  1.019697       1.0\n",
              "498  4.829891       1.0\n",
              "499  1.457285      -1.0\n",
              "\n",
              "[500 rows x 2 columns]"
            ],
            "text/html": [
              "\n",
              "  <div id=\"df-b5a4ddcf-6956-4623-b3c0-d9aadb7999fb\" class=\"colab-df-container\">\n",
              "    <div>\n",
              "<style scoped>\n",
              "    .dataframe tbody tr th:only-of-type {\n",
              "        vertical-align: middle;\n",
              "    }\n",
              "\n",
              "    .dataframe tbody tr th {\n",
              "        vertical-align: top;\n",
              "    }\n",
              "\n",
              "    .dataframe thead th {\n",
              "        text-align: right;\n",
              "    }\n",
              "</style>\n",
              "<table border=\"1\" class=\"dataframe\">\n",
              "  <thead>\n",
              "    <tr style=\"text-align: right;\">\n",
              "      <th></th>\n",
              "      <th>rt</th>\n",
              "      <th>response</th>\n",
              "    </tr>\n",
              "  </thead>\n",
              "  <tbody>\n",
              "    <tr>\n",
              "      <th>0</th>\n",
              "      <td>4.874712</td>\n",
              "      <td>1.0</td>\n",
              "    </tr>\n",
              "    <tr>\n",
              "      <th>1</th>\n",
              "      <td>1.867731</td>\n",
              "      <td>1.0</td>\n",
              "    </tr>\n",
              "    <tr>\n",
              "      <th>2</th>\n",
              "      <td>5.284047</td>\n",
              "      <td>1.0</td>\n",
              "    </tr>\n",
              "    <tr>\n",
              "      <th>3</th>\n",
              "      <td>3.834563</td>\n",
              "      <td>-1.0</td>\n",
              "    </tr>\n",
              "    <tr>\n",
              "      <th>4</th>\n",
              "      <td>3.584947</td>\n",
              "      <td>1.0</td>\n",
              "    </tr>\n",
              "    <tr>\n",
              "      <th>...</th>\n",
              "      <td>...</td>\n",
              "      <td>...</td>\n",
              "    </tr>\n",
              "    <tr>\n",
              "      <th>495</th>\n",
              "      <td>3.351213</td>\n",
              "      <td>-1.0</td>\n",
              "    </tr>\n",
              "    <tr>\n",
              "      <th>496</th>\n",
              "      <td>1.735051</td>\n",
              "      <td>1.0</td>\n",
              "    </tr>\n",
              "    <tr>\n",
              "      <th>497</th>\n",
              "      <td>1.019697</td>\n",
              "      <td>1.0</td>\n",
              "    </tr>\n",
              "    <tr>\n",
              "      <th>498</th>\n",
              "      <td>4.829891</td>\n",
              "      <td>1.0</td>\n",
              "    </tr>\n",
              "    <tr>\n",
              "      <th>499</th>\n",
              "      <td>1.457285</td>\n",
              "      <td>-1.0</td>\n",
              "    </tr>\n",
              "  </tbody>\n",
              "</table>\n",
              "<p>500 rows × 2 columns</p>\n",
              "</div>\n",
              "    <div class=\"colab-df-buttons\">\n",
              "\n",
              "  <div class=\"colab-df-container\">\n",
              "    <button class=\"colab-df-convert\" onclick=\"convertToInteractive('df-b5a4ddcf-6956-4623-b3c0-d9aadb7999fb')\"\n",
              "            title=\"Convert this dataframe to an interactive table.\"\n",
              "            style=\"display:none;\">\n",
              "\n",
              "  <svg xmlns=\"http://www.w3.org/2000/svg\" height=\"24px\" viewBox=\"0 -960 960 960\">\n",
              "    <path d=\"M120-120v-720h720v720H120Zm60-500h600v-160H180v160Zm220 220h160v-160H400v160Zm0 220h160v-160H400v160ZM180-400h160v-160H180v160Zm440 0h160v-160H620v160ZM180-180h160v-160H180v160Zm440 0h160v-160H620v160Z\"/>\n",
              "  </svg>\n",
              "    </button>\n",
              "\n",
              "  <style>\n",
              "    .colab-df-container {\n",
              "      display:flex;\n",
              "      gap: 12px;\n",
              "    }\n",
              "\n",
              "    .colab-df-convert {\n",
              "      background-color: #E8F0FE;\n",
              "      border: none;\n",
              "      border-radius: 50%;\n",
              "      cursor: pointer;\n",
              "      display: none;\n",
              "      fill: #1967D2;\n",
              "      height: 32px;\n",
              "      padding: 0 0 0 0;\n",
              "      width: 32px;\n",
              "    }\n",
              "\n",
              "    .colab-df-convert:hover {\n",
              "      background-color: #E2EBFA;\n",
              "      box-shadow: 0px 1px 2px rgba(60, 64, 67, 0.3), 0px 1px 3px 1px rgba(60, 64, 67, 0.15);\n",
              "      fill: #174EA6;\n",
              "    }\n",
              "\n",
              "    .colab-df-buttons div {\n",
              "      margin-bottom: 4px;\n",
              "    }\n",
              "\n",
              "    [theme=dark] .colab-df-convert {\n",
              "      background-color: #3B4455;\n",
              "      fill: #D2E3FC;\n",
              "    }\n",
              "\n",
              "    [theme=dark] .colab-df-convert:hover {\n",
              "      background-color: #434B5C;\n",
              "      box-shadow: 0px 1px 3px 1px rgba(0, 0, 0, 0.15);\n",
              "      filter: drop-shadow(0px 1px 2px rgba(0, 0, 0, 0.3));\n",
              "      fill: #FFFFFF;\n",
              "    }\n",
              "  </style>\n",
              "\n",
              "    <script>\n",
              "      const buttonEl =\n",
              "        document.querySelector('#df-b5a4ddcf-6956-4623-b3c0-d9aadb7999fb button.colab-df-convert');\n",
              "      buttonEl.style.display =\n",
              "        google.colab.kernel.accessAllowed ? 'block' : 'none';\n",
              "\n",
              "      async function convertToInteractive(key) {\n",
              "        const element = document.querySelector('#df-b5a4ddcf-6956-4623-b3c0-d9aadb7999fb');\n",
              "        const dataTable =\n",
              "          await google.colab.kernel.invokeFunction('convertToInteractive',\n",
              "                                                    [key], {});\n",
              "        if (!dataTable) return;\n",
              "\n",
              "        const docLinkHtml = 'Like what you see? Visit the ' +\n",
              "          '<a target=\"_blank\" href=https://colab.research.google.com/notebooks/data_table.ipynb>data table notebook</a>'\n",
              "          + ' to learn more about interactive tables.';\n",
              "        element.innerHTML = '';\n",
              "        dataTable['output_type'] = 'display_data';\n",
              "        await google.colab.output.renderOutput(dataTable, element);\n",
              "        const docLink = document.createElement('div');\n",
              "        docLink.innerHTML = docLinkHtml;\n",
              "        element.appendChild(docLink);\n",
              "      }\n",
              "    </script>\n",
              "  </div>\n",
              "\n",
              "\n",
              "<div id=\"df-6abd0a52-0355-40f7-88d2-087438f6a7d9\">\n",
              "  <button class=\"colab-df-quickchart\" onclick=\"quickchart('df-6abd0a52-0355-40f7-88d2-087438f6a7d9')\"\n",
              "            title=\"Suggest charts\"\n",
              "            style=\"display:none;\">\n",
              "\n",
              "<svg xmlns=\"http://www.w3.org/2000/svg\" height=\"24px\"viewBox=\"0 0 24 24\"\n",
              "     width=\"24px\">\n",
              "    <g>\n",
              "        <path d=\"M19 3H5c-1.1 0-2 .9-2 2v14c0 1.1.9 2 2 2h14c1.1 0 2-.9 2-2V5c0-1.1-.9-2-2-2zM9 17H7v-7h2v7zm4 0h-2V7h2v10zm4 0h-2v-4h2v4z\"/>\n",
              "    </g>\n",
              "</svg>\n",
              "  </button>\n",
              "\n",
              "<style>\n",
              "  .colab-df-quickchart {\n",
              "      --bg-color: #E8F0FE;\n",
              "      --fill-color: #1967D2;\n",
              "      --hover-bg-color: #E2EBFA;\n",
              "      --hover-fill-color: #174EA6;\n",
              "      --disabled-fill-color: #AAA;\n",
              "      --disabled-bg-color: #DDD;\n",
              "  }\n",
              "\n",
              "  [theme=dark] .colab-df-quickchart {\n",
              "      --bg-color: #3B4455;\n",
              "      --fill-color: #D2E3FC;\n",
              "      --hover-bg-color: #434B5C;\n",
              "      --hover-fill-color: #FFFFFF;\n",
              "      --disabled-bg-color: #3B4455;\n",
              "      --disabled-fill-color: #666;\n",
              "  }\n",
              "\n",
              "  .colab-df-quickchart {\n",
              "    background-color: var(--bg-color);\n",
              "    border: none;\n",
              "    border-radius: 50%;\n",
              "    cursor: pointer;\n",
              "    display: none;\n",
              "    fill: var(--fill-color);\n",
              "    height: 32px;\n",
              "    padding: 0;\n",
              "    width: 32px;\n",
              "  }\n",
              "\n",
              "  .colab-df-quickchart:hover {\n",
              "    background-color: var(--hover-bg-color);\n",
              "    box-shadow: 0 1px 2px rgba(60, 64, 67, 0.3), 0 1px 3px 1px rgba(60, 64, 67, 0.15);\n",
              "    fill: var(--button-hover-fill-color);\n",
              "  }\n",
              "\n",
              "  .colab-df-quickchart-complete:disabled,\n",
              "  .colab-df-quickchart-complete:disabled:hover {\n",
              "    background-color: var(--disabled-bg-color);\n",
              "    fill: var(--disabled-fill-color);\n",
              "    box-shadow: none;\n",
              "  }\n",
              "\n",
              "  .colab-df-spinner {\n",
              "    border: 2px solid var(--fill-color);\n",
              "    border-color: transparent;\n",
              "    border-bottom-color: var(--fill-color);\n",
              "    animation:\n",
              "      spin 1s steps(1) infinite;\n",
              "  }\n",
              "\n",
              "  @keyframes spin {\n",
              "    0% {\n",
              "      border-color: transparent;\n",
              "      border-bottom-color: var(--fill-color);\n",
              "      border-left-color: var(--fill-color);\n",
              "    }\n",
              "    20% {\n",
              "      border-color: transparent;\n",
              "      border-left-color: var(--fill-color);\n",
              "      border-top-color: var(--fill-color);\n",
              "    }\n",
              "    30% {\n",
              "      border-color: transparent;\n",
              "      border-left-color: var(--fill-color);\n",
              "      border-top-color: var(--fill-color);\n",
              "      border-right-color: var(--fill-color);\n",
              "    }\n",
              "    40% {\n",
              "      border-color: transparent;\n",
              "      border-right-color: var(--fill-color);\n",
              "      border-top-color: var(--fill-color);\n",
              "    }\n",
              "    60% {\n",
              "      border-color: transparent;\n",
              "      border-right-color: var(--fill-color);\n",
              "    }\n",
              "    80% {\n",
              "      border-color: transparent;\n",
              "      border-right-color: var(--fill-color);\n",
              "      border-bottom-color: var(--fill-color);\n",
              "    }\n",
              "    90% {\n",
              "      border-color: transparent;\n",
              "      border-bottom-color: var(--fill-color);\n",
              "    }\n",
              "  }\n",
              "</style>\n",
              "\n",
              "  <script>\n",
              "    async function quickchart(key) {\n",
              "      const quickchartButtonEl =\n",
              "        document.querySelector('#' + key + ' button');\n",
              "      quickchartButtonEl.disabled = true;  // To prevent multiple clicks.\n",
              "      quickchartButtonEl.classList.add('colab-df-spinner');\n",
              "      try {\n",
              "        const charts = await google.colab.kernel.invokeFunction(\n",
              "            'suggestCharts', [key], {});\n",
              "      } catch (error) {\n",
              "        console.error('Error during call to suggestCharts:', error);\n",
              "      }\n",
              "      quickchartButtonEl.classList.remove('colab-df-spinner');\n",
              "      quickchartButtonEl.classList.add('colab-df-quickchart-complete');\n",
              "    }\n",
              "    (() => {\n",
              "      let quickchartButtonEl =\n",
              "        document.querySelector('#df-6abd0a52-0355-40f7-88d2-087438f6a7d9 button');\n",
              "      quickchartButtonEl.style.display =\n",
              "        google.colab.kernel.accessAllowed ? 'block' : 'none';\n",
              "    })();\n",
              "  </script>\n",
              "</div>\n",
              "\n",
              "  <div id=\"id_0b760f02-6ffd-46fc-a6de-0142d6b3ccd0\">\n",
              "    <style>\n",
              "      .colab-df-generate {\n",
              "        background-color: #E8F0FE;\n",
              "        border: none;\n",
              "        border-radius: 50%;\n",
              "        cursor: pointer;\n",
              "        display: none;\n",
              "        fill: #1967D2;\n",
              "        height: 32px;\n",
              "        padding: 0 0 0 0;\n",
              "        width: 32px;\n",
              "      }\n",
              "\n",
              "      .colab-df-generate:hover {\n",
              "        background-color: #E2EBFA;\n",
              "        box-shadow: 0px 1px 2px rgba(60, 64, 67, 0.3), 0px 1px 3px 1px rgba(60, 64, 67, 0.15);\n",
              "        fill: #174EA6;\n",
              "      }\n",
              "\n",
              "      [theme=dark] .colab-df-generate {\n",
              "        background-color: #3B4455;\n",
              "        fill: #D2E3FC;\n",
              "      }\n",
              "\n",
              "      [theme=dark] .colab-df-generate:hover {\n",
              "        background-color: #434B5C;\n",
              "        box-shadow: 0px 1px 3px 1px rgba(0, 0, 0, 0.15);\n",
              "        filter: drop-shadow(0px 1px 2px rgba(0, 0, 0, 0.3));\n",
              "        fill: #FFFFFF;\n",
              "      }\n",
              "    </style>\n",
              "    <button class=\"colab-df-generate\" onclick=\"generateWithVariable('dataset')\"\n",
              "            title=\"Generate code using this dataframe.\"\n",
              "            style=\"display:none;\">\n",
              "\n",
              "  <svg xmlns=\"http://www.w3.org/2000/svg\" height=\"24px\"viewBox=\"0 0 24 24\"\n",
              "       width=\"24px\">\n",
              "    <path d=\"M7,19H8.4L18.45,9,17,7.55,7,17.6ZM5,21V16.75L18.45,3.32a2,2,0,0,1,2.83,0l1.4,1.43a1.91,1.91,0,0,1,.58,1.4,1.91,1.91,0,0,1-.58,1.4L9.25,21ZM18.45,9,17,7.55Zm-12,3A5.31,5.31,0,0,0,4.9,8.1,5.31,5.31,0,0,0,1,6.5,5.31,5.31,0,0,0,4.9,4.9,5.31,5.31,0,0,0,6.5,1,5.31,5.31,0,0,0,8.1,4.9,5.31,5.31,0,0,0,12,6.5,5.46,5.46,0,0,0,6.5,12Z\"/>\n",
              "  </svg>\n",
              "    </button>\n",
              "    <script>\n",
              "      (() => {\n",
              "      const buttonEl =\n",
              "        document.querySelector('#id_0b760f02-6ffd-46fc-a6de-0142d6b3ccd0 button.colab-df-generate');\n",
              "      buttonEl.style.display =\n",
              "        google.colab.kernel.accessAllowed ? 'block' : 'none';\n",
              "\n",
              "      buttonEl.onclick = () => {\n",
              "        google.colab.notebook.generateWithVariable('dataset');\n",
              "      }\n",
              "      })();\n",
              "    </script>\n",
              "  </div>\n",
              "\n",
              "    </div>\n",
              "  </div>\n"
            ],
            "application/vnd.google.colaboratory.intrinsic+json": {
              "type": "dataframe",
              "variable_name": "dataset",
              "summary": "{\n  \"name\": \"dataset\",\n  \"rows\": 500,\n  \"fields\": [\n    {\n      \"column\": \"rt\",\n      \"properties\": {\n        \"dtype\": \"number\",\n        \"std\": 1.3344658663465438,\n        \"min\": 0.7201723456382751,\n        \"max\": 8.867156982421875,\n        \"num_unique_values\": 500,\n        \"samples\": [\n          0.9433889985084534,\n          1.5273360013961792,\n          2.3864550590515137\n        ],\n        \"semantic_type\": \"\",\n        \"description\": \"\"\n      }\n    },\n    {\n      \"column\": \"response\",\n      \"properties\": {\n        \"dtype\": \"number\",\n        \"std\": 0.7624031197693699,\n        \"min\": -1.0,\n        \"max\": 1.0,\n        \"num_unique_values\": 2,\n        \"samples\": [\n          -1.0,\n          1.0\n        ],\n        \"semantic_type\": \"\",\n        \"description\": \"\"\n      }\n    }\n  ]\n}"
            }
          },
          "metadata": {},
          "execution_count": 5
        }
      ],
      "source": [
        "# Single dataset\n",
        "import hddm_wfpt\n",
        "import hssm\n",
        "import pytensor  # Graph-based tensor library\n",
        "import jax\n",
        "import bambi as bmb # Model construction\n",
        "import arviz as az  # Visualization\n",
        "\n",
        "pytensor.config.floatX = \"float32\"\n",
        "jax.config.update(\"jax_enable_x64\", False)\n",
        "\n",
        "v_true = 0.5\n",
        "a_true = 1.5\n",
        "z_true = 0.5\n",
        "t_true = 0.5\n",
        "\n",
        "# Call the simulator function\n",
        "dataset = hssm.simulate_data(model = 'ddm',\n",
        "\t\t\t\t\t\t\t theta = dict(v = v_true,\n",
        "\t\t\t\t\t\t\t\t\t\t  a = a_true,\n",
        "\t\t\t\t\t\t\t\t\t\t  z = z_true,\n",
        "\t\t\t\t\t\t\t\t\t\t  t = t_true),\n",
        "\t\t\t\t\t\t\t size = 500)\n",
        "\n",
        "dataset"
      ]
    },
    {
      "cell_type": "markdown",
      "id": "0db5e983",
      "metadata": {
        "id": "0db5e983"
      },
      "source": [
        "If instead you wish to supply a parameter that *varies by trial* (a lot more on this later), you can simply supply a vector of parameters to the `theta` dictionary, when calling the simulator.\n",
        "\n",
        "**Note**:\n",
        "\n",
        "The `size` argument conceptually functions as *number of synthetic datasets*. So if you supply a parameter as a `(1000,)` vector, then the simulator assumes that one dataset consists of `1000` trials, hence if we set the `size = 1` as below, we expect in return a dataset with `1000` trials."
      ]
    },
    {
      "cell_type": "code",
      "execution_count": 6,
      "id": "126783dc-19b7-47e0-95ac-c6314454bb02",
      "metadata": {
        "id": "126783dc-19b7-47e0-95ac-c6314454bb02",
        "outputId": "0074d16d-e1bb-4b9d-fbfa-85645f1726b2",
        "colab": {
          "base_uri": "https://localhost:8080/",
          "height": 424
        }
      },
      "outputs": [
        {
          "output_type": "execute_result",
          "data": {
            "text/plain": [
              "            rt  response\n",
              "0     8.947054       1.0\n",
              "1     6.438150       1.0\n",
              "2     3.159343       1.0\n",
              "3     2.517294       1.0\n",
              "4     6.382209       1.0\n",
              "...        ...       ...\n",
              "9995  7.519947       1.0\n",
              "9996  1.762158       1.0\n",
              "9997  3.011461      -1.0\n",
              "9998  2.474410       1.0\n",
              "9999  3.892878       1.0\n",
              "\n",
              "[10000 rows x 2 columns]"
            ],
            "text/html": [
              "\n",
              "  <div id=\"df-0b8bcc42-c7c7-45b3-869b-df3ef7190d7a\" class=\"colab-df-container\">\n",
              "    <div>\n",
              "<style scoped>\n",
              "    .dataframe tbody tr th:only-of-type {\n",
              "        vertical-align: middle;\n",
              "    }\n",
              "\n",
              "    .dataframe tbody tr th {\n",
              "        vertical-align: top;\n",
              "    }\n",
              "\n",
              "    .dataframe thead th {\n",
              "        text-align: right;\n",
              "    }\n",
              "</style>\n",
              "<table border=\"1\" class=\"dataframe\">\n",
              "  <thead>\n",
              "    <tr style=\"text-align: right;\">\n",
              "      <th></th>\n",
              "      <th>rt</th>\n",
              "      <th>response</th>\n",
              "    </tr>\n",
              "  </thead>\n",
              "  <tbody>\n",
              "    <tr>\n",
              "      <th>0</th>\n",
              "      <td>8.947054</td>\n",
              "      <td>1.0</td>\n",
              "    </tr>\n",
              "    <tr>\n",
              "      <th>1</th>\n",
              "      <td>6.438150</td>\n",
              "      <td>1.0</td>\n",
              "    </tr>\n",
              "    <tr>\n",
              "      <th>2</th>\n",
              "      <td>3.159343</td>\n",
              "      <td>1.0</td>\n",
              "    </tr>\n",
              "    <tr>\n",
              "      <th>3</th>\n",
              "      <td>2.517294</td>\n",
              "      <td>1.0</td>\n",
              "    </tr>\n",
              "    <tr>\n",
              "      <th>4</th>\n",
              "      <td>6.382209</td>\n",
              "      <td>1.0</td>\n",
              "    </tr>\n",
              "    <tr>\n",
              "      <th>...</th>\n",
              "      <td>...</td>\n",
              "      <td>...</td>\n",
              "    </tr>\n",
              "    <tr>\n",
              "      <th>9995</th>\n",
              "      <td>7.519947</td>\n",
              "      <td>1.0</td>\n",
              "    </tr>\n",
              "    <tr>\n",
              "      <th>9996</th>\n",
              "      <td>1.762158</td>\n",
              "      <td>1.0</td>\n",
              "    </tr>\n",
              "    <tr>\n",
              "      <th>9997</th>\n",
              "      <td>3.011461</td>\n",
              "      <td>-1.0</td>\n",
              "    </tr>\n",
              "    <tr>\n",
              "      <th>9998</th>\n",
              "      <td>2.474410</td>\n",
              "      <td>1.0</td>\n",
              "    </tr>\n",
              "    <tr>\n",
              "      <th>9999</th>\n",
              "      <td>3.892878</td>\n",
              "      <td>1.0</td>\n",
              "    </tr>\n",
              "  </tbody>\n",
              "</table>\n",
              "<p>10000 rows × 2 columns</p>\n",
              "</div>\n",
              "    <div class=\"colab-df-buttons\">\n",
              "\n",
              "  <div class=\"colab-df-container\">\n",
              "    <button class=\"colab-df-convert\" onclick=\"convertToInteractive('df-0b8bcc42-c7c7-45b3-869b-df3ef7190d7a')\"\n",
              "            title=\"Convert this dataframe to an interactive table.\"\n",
              "            style=\"display:none;\">\n",
              "\n",
              "  <svg xmlns=\"http://www.w3.org/2000/svg\" height=\"24px\" viewBox=\"0 -960 960 960\">\n",
              "    <path d=\"M120-120v-720h720v720H120Zm60-500h600v-160H180v160Zm220 220h160v-160H400v160Zm0 220h160v-160H400v160ZM180-400h160v-160H180v160Zm440 0h160v-160H620v160ZM180-180h160v-160H180v160Zm440 0h160v-160H620v160Z\"/>\n",
              "  </svg>\n",
              "    </button>\n",
              "\n",
              "  <style>\n",
              "    .colab-df-container {\n",
              "      display:flex;\n",
              "      gap: 12px;\n",
              "    }\n",
              "\n",
              "    .colab-df-convert {\n",
              "      background-color: #E8F0FE;\n",
              "      border: none;\n",
              "      border-radius: 50%;\n",
              "      cursor: pointer;\n",
              "      display: none;\n",
              "      fill: #1967D2;\n",
              "      height: 32px;\n",
              "      padding: 0 0 0 0;\n",
              "      width: 32px;\n",
              "    }\n",
              "\n",
              "    .colab-df-convert:hover {\n",
              "      background-color: #E2EBFA;\n",
              "      box-shadow: 0px 1px 2px rgba(60, 64, 67, 0.3), 0px 1px 3px 1px rgba(60, 64, 67, 0.15);\n",
              "      fill: #174EA6;\n",
              "    }\n",
              "\n",
              "    .colab-df-buttons div {\n",
              "      margin-bottom: 4px;\n",
              "    }\n",
              "\n",
              "    [theme=dark] .colab-df-convert {\n",
              "      background-color: #3B4455;\n",
              "      fill: #D2E3FC;\n",
              "    }\n",
              "\n",
              "    [theme=dark] .colab-df-convert:hover {\n",
              "      background-color: #434B5C;\n",
              "      box-shadow: 0px 1px 3px 1px rgba(0, 0, 0, 0.15);\n",
              "      filter: drop-shadow(0px 1px 2px rgba(0, 0, 0, 0.3));\n",
              "      fill: #FFFFFF;\n",
              "    }\n",
              "  </style>\n",
              "\n",
              "    <script>\n",
              "      const buttonEl =\n",
              "        document.querySelector('#df-0b8bcc42-c7c7-45b3-869b-df3ef7190d7a button.colab-df-convert');\n",
              "      buttonEl.style.display =\n",
              "        google.colab.kernel.accessAllowed ? 'block' : 'none';\n",
              "\n",
              "      async function convertToInteractive(key) {\n",
              "        const element = document.querySelector('#df-0b8bcc42-c7c7-45b3-869b-df3ef7190d7a');\n",
              "        const dataTable =\n",
              "          await google.colab.kernel.invokeFunction('convertToInteractive',\n",
              "                                                    [key], {});\n",
              "        if (!dataTable) return;\n",
              "\n",
              "        const docLinkHtml = 'Like what you see? Visit the ' +\n",
              "          '<a target=\"_blank\" href=https://colab.research.google.com/notebooks/data_table.ipynb>data table notebook</a>'\n",
              "          + ' to learn more about interactive tables.';\n",
              "        element.innerHTML = '';\n",
              "        dataTable['output_type'] = 'display_data';\n",
              "        await google.colab.output.renderOutput(dataTable, element);\n",
              "        const docLink = document.createElement('div');\n",
              "        docLink.innerHTML = docLinkHtml;\n",
              "        element.appendChild(docLink);\n",
              "      }\n",
              "    </script>\n",
              "  </div>\n",
              "\n",
              "\n",
              "<div id=\"df-065d4f8a-ee8e-4318-9f10-194a344bd643\">\n",
              "  <button class=\"colab-df-quickchart\" onclick=\"quickchart('df-065d4f8a-ee8e-4318-9f10-194a344bd643')\"\n",
              "            title=\"Suggest charts\"\n",
              "            style=\"display:none;\">\n",
              "\n",
              "<svg xmlns=\"http://www.w3.org/2000/svg\" height=\"24px\"viewBox=\"0 0 24 24\"\n",
              "     width=\"24px\">\n",
              "    <g>\n",
              "        <path d=\"M19 3H5c-1.1 0-2 .9-2 2v14c0 1.1.9 2 2 2h14c1.1 0 2-.9 2-2V5c0-1.1-.9-2-2-2zM9 17H7v-7h2v7zm4 0h-2V7h2v10zm4 0h-2v-4h2v4z\"/>\n",
              "    </g>\n",
              "</svg>\n",
              "  </button>\n",
              "\n",
              "<style>\n",
              "  .colab-df-quickchart {\n",
              "      --bg-color: #E8F0FE;\n",
              "      --fill-color: #1967D2;\n",
              "      --hover-bg-color: #E2EBFA;\n",
              "      --hover-fill-color: #174EA6;\n",
              "      --disabled-fill-color: #AAA;\n",
              "      --disabled-bg-color: #DDD;\n",
              "  }\n",
              "\n",
              "  [theme=dark] .colab-df-quickchart {\n",
              "      --bg-color: #3B4455;\n",
              "      --fill-color: #D2E3FC;\n",
              "      --hover-bg-color: #434B5C;\n",
              "      --hover-fill-color: #FFFFFF;\n",
              "      --disabled-bg-color: #3B4455;\n",
              "      --disabled-fill-color: #666;\n",
              "  }\n",
              "\n",
              "  .colab-df-quickchart {\n",
              "    background-color: var(--bg-color);\n",
              "    border: none;\n",
              "    border-radius: 50%;\n",
              "    cursor: pointer;\n",
              "    display: none;\n",
              "    fill: var(--fill-color);\n",
              "    height: 32px;\n",
              "    padding: 0;\n",
              "    width: 32px;\n",
              "  }\n",
              "\n",
              "  .colab-df-quickchart:hover {\n",
              "    background-color: var(--hover-bg-color);\n",
              "    box-shadow: 0 1px 2px rgba(60, 64, 67, 0.3), 0 1px 3px 1px rgba(60, 64, 67, 0.15);\n",
              "    fill: var(--button-hover-fill-color);\n",
              "  }\n",
              "\n",
              "  .colab-df-quickchart-complete:disabled,\n",
              "  .colab-df-quickchart-complete:disabled:hover {\n",
              "    background-color: var(--disabled-bg-color);\n",
              "    fill: var(--disabled-fill-color);\n",
              "    box-shadow: none;\n",
              "  }\n",
              "\n",
              "  .colab-df-spinner {\n",
              "    border: 2px solid var(--fill-color);\n",
              "    border-color: transparent;\n",
              "    border-bottom-color: var(--fill-color);\n",
              "    animation:\n",
              "      spin 1s steps(1) infinite;\n",
              "  }\n",
              "\n",
              "  @keyframes spin {\n",
              "    0% {\n",
              "      border-color: transparent;\n",
              "      border-bottom-color: var(--fill-color);\n",
              "      border-left-color: var(--fill-color);\n",
              "    }\n",
              "    20% {\n",
              "      border-color: transparent;\n",
              "      border-left-color: var(--fill-color);\n",
              "      border-top-color: var(--fill-color);\n",
              "    }\n",
              "    30% {\n",
              "      border-color: transparent;\n",
              "      border-left-color: var(--fill-color);\n",
              "      border-top-color: var(--fill-color);\n",
              "      border-right-color: var(--fill-color);\n",
              "    }\n",
              "    40% {\n",
              "      border-color: transparent;\n",
              "      border-right-color: var(--fill-color);\n",
              "      border-top-color: var(--fill-color);\n",
              "    }\n",
              "    60% {\n",
              "      border-color: transparent;\n",
              "      border-right-color: var(--fill-color);\n",
              "    }\n",
              "    80% {\n",
              "      border-color: transparent;\n",
              "      border-right-color: var(--fill-color);\n",
              "      border-bottom-color: var(--fill-color);\n",
              "    }\n",
              "    90% {\n",
              "      border-color: transparent;\n",
              "      border-bottom-color: var(--fill-color);\n",
              "    }\n",
              "  }\n",
              "</style>\n",
              "\n",
              "  <script>\n",
              "    async function quickchart(key) {\n",
              "      const quickchartButtonEl =\n",
              "        document.querySelector('#' + key + ' button');\n",
              "      quickchartButtonEl.disabled = true;  // To prevent multiple clicks.\n",
              "      quickchartButtonEl.classList.add('colab-df-spinner');\n",
              "      try {\n",
              "        const charts = await google.colab.kernel.invokeFunction(\n",
              "            'suggestCharts', [key], {});\n",
              "      } catch (error) {\n",
              "        console.error('Error during call to suggestCharts:', error);\n",
              "      }\n",
              "      quickchartButtonEl.classList.remove('colab-df-spinner');\n",
              "      quickchartButtonEl.classList.add('colab-df-quickchart-complete');\n",
              "    }\n",
              "    (() => {\n",
              "      let quickchartButtonEl =\n",
              "        document.querySelector('#df-065d4f8a-ee8e-4318-9f10-194a344bd643 button');\n",
              "      quickchartButtonEl.style.display =\n",
              "        google.colab.kernel.accessAllowed ? 'block' : 'none';\n",
              "    })();\n",
              "  </script>\n",
              "</div>\n",
              "\n",
              "  <div id=\"id_3841f7e2-184b-4703-99cb-cadd30bb6df2\">\n",
              "    <style>\n",
              "      .colab-df-generate {\n",
              "        background-color: #E8F0FE;\n",
              "        border: none;\n",
              "        border-radius: 50%;\n",
              "        cursor: pointer;\n",
              "        display: none;\n",
              "        fill: #1967D2;\n",
              "        height: 32px;\n",
              "        padding: 0 0 0 0;\n",
              "        width: 32px;\n",
              "      }\n",
              "\n",
              "      .colab-df-generate:hover {\n",
              "        background-color: #E2EBFA;\n",
              "        box-shadow: 0px 1px 2px rgba(60, 64, 67, 0.3), 0px 1px 3px 1px rgba(60, 64, 67, 0.15);\n",
              "        fill: #174EA6;\n",
              "      }\n",
              "\n",
              "      [theme=dark] .colab-df-generate {\n",
              "        background-color: #3B4455;\n",
              "        fill: #D2E3FC;\n",
              "      }\n",
              "\n",
              "      [theme=dark] .colab-df-generate:hover {\n",
              "        background-color: #434B5C;\n",
              "        box-shadow: 0px 1px 3px 1px rgba(0, 0, 0, 0.15);\n",
              "        filter: drop-shadow(0px 1px 2px rgba(0, 0, 0, 0.3));\n",
              "        fill: #FFFFFF;\n",
              "      }\n",
              "    </style>\n",
              "    <button class=\"colab-df-generate\" onclick=\"generateWithVariable('dataset_a_trialwise')\"\n",
              "            title=\"Generate code using this dataframe.\"\n",
              "            style=\"display:none;\">\n",
              "\n",
              "  <svg xmlns=\"http://www.w3.org/2000/svg\" height=\"24px\"viewBox=\"0 0 24 24\"\n",
              "       width=\"24px\">\n",
              "    <path d=\"M7,19H8.4L18.45,9,17,7.55,7,17.6ZM5,21V16.75L18.45,3.32a2,2,0,0,1,2.83,0l1.4,1.43a1.91,1.91,0,0,1,.58,1.4,1.91,1.91,0,0,1-.58,1.4L9.25,21ZM18.45,9,17,7.55Zm-12,3A5.31,5.31,0,0,0,4.9,8.1,5.31,5.31,0,0,0,1,6.5,5.31,5.31,0,0,0,4.9,4.9,5.31,5.31,0,0,0,6.5,1,5.31,5.31,0,0,0,8.1,4.9,5.31,5.31,0,0,0,12,6.5,5.46,5.46,0,0,0,6.5,12Z\"/>\n",
              "  </svg>\n",
              "    </button>\n",
              "    <script>\n",
              "      (() => {\n",
              "      const buttonEl =\n",
              "        document.querySelector('#id_3841f7e2-184b-4703-99cb-cadd30bb6df2 button.colab-df-generate');\n",
              "      buttonEl.style.display =\n",
              "        google.colab.kernel.accessAllowed ? 'block' : 'none';\n",
              "\n",
              "      buttonEl.onclick = () => {\n",
              "        google.colab.notebook.generateWithVariable('dataset_a_trialwise');\n",
              "      }\n",
              "      })();\n",
              "    </script>\n",
              "  </div>\n",
              "\n",
              "    </div>\n",
              "  </div>\n"
            ],
            "application/vnd.google.colaboratory.intrinsic+json": {
              "type": "dataframe",
              "variable_name": "dataset_a_trialwise",
              "summary": "{\n  \"name\": \"dataset_a_trialwise\",\n  \"rows\": 10000,\n  \"fields\": [\n    {\n      \"column\": \"rt\",\n      \"properties\": {\n        \"dtype\": \"number\",\n        \"std\": 2.59364930815842,\n        \"min\": 0.7029848694801331,\n        \"max\": 20.50063705444336,\n        \"num_unique_values\": 9992,\n        \"samples\": [\n          6.936933994293213,\n          1.4082211256027222,\n          1.682809829711914\n        ],\n        \"semantic_type\": \"\",\n        \"description\": \"\"\n      }\n    },\n    {\n      \"column\": \"response\",\n      \"properties\": {\n        \"dtype\": \"number\",\n        \"std\": 0.6423957559252109,\n        \"min\": -1.0,\n        \"max\": 1.0,\n        \"num_unique_values\": 2,\n        \"samples\": [\n          -1.0,\n          1.0\n        ],\n        \"semantic_type\": \"\",\n        \"description\": \"\"\n      }\n    }\n  ]\n}"
            }
          },
          "metadata": {},
          "execution_count": 6
        }
      ],
      "source": [
        "# a changes trial wise\n",
        "a_trialwise = np.random.normal(loc=2, scale=0.3, size=1000)\n",
        "\n",
        "dataset_a_trialwise = hssm.simulate_data(model = 'ddm',\n",
        "                                         theta = dict(v = v_true,\n",
        "                                                      a = a_trialwise,\n",
        "                                                      z = z_true,\n",
        "                                                      t = t_true,\n",
        "                                                      ),\n",
        "                                         size = 10)\n",
        "\n",
        "dataset_a_trialwise"
      ]
    },
    {
      "cell_type": "markdown",
      "id": "13d2787b-8bea-43d3-acb6-53d02c7eabe5",
      "metadata": {
        "id": "13d2787b-8bea-43d3-acb6-53d02c7eabe5"
      },
      "source": [
        "If we wish to simulate from another model, we can do so by changing the `model` string.\n",
        "\n",
        "The number of models we can simulate differs from the number of models for which we have likelihoods available (both will increase over time). To get the models for which likelihood functions are supplied out of the box, we should check the `SupportedModels` under `hssm.defaults`."
      ]
    },
    {
      "cell_type": "code",
      "execution_count": 7,
      "id": "641b0d58-a9e4-43b3-9f6a-2a706256cb1d",
      "metadata": {
        "id": "641b0d58-a9e4-43b3-9f6a-2a706256cb1d",
        "outputId": "90f6887b-b322-4f22-af53-dee0be94df56",
        "colab": {
          "base_uri": "https://localhost:8080/"
        }
      },
      "outputs": [
        {
          "output_type": "execute_result",
          "data": {
            "text/plain": [
              "typing.Literal['ddm', 'ddm_sdv', 'full_ddm', 'angle', 'levy', 'ornstein', 'weibull', 'race_no_bias_angle_4', 'ddm_seq2_no_bias']"
            ]
          },
          "metadata": {},
          "execution_count": 7
        }
      ],
      "source": [
        "hssm.defaults.SupportedModels"
      ]
    },
    {
      "cell_type": "markdown",
      "id": "43703bd7-f50c-40eb-a130-2070b160a8ec",
      "metadata": {
        "id": "43703bd7-f50c-40eb-a130-2070b160a8ec"
      },
      "source": [
        "If we wish to check more detailed information about a given model, we can use the `default_model_config` under `hssm.default`.\n",
        "\n",
        "Let's look at the `ddm`:"
      ]
    },
    {
      "cell_type": "code",
      "execution_count": 8,
      "id": "1a526455-37e4-428c-a478-43ef387e496e",
      "metadata": {
        "id": "1a526455-37e4-428c-a478-43ef387e496e",
        "outputId": "3a6390d8-1346-4e94-e554-5b387de23f44",
        "colab": {
          "base_uri": "https://localhost:8080/"
        }
      },
      "outputs": [
        {
          "output_type": "execute_result",
          "data": {
            "text/plain": [
              "{'response': ['rt', 'response'],\n",
              " 'list_params': ['v', 'a', 'z', 't'],\n",
              " 'description': 'The Drift Diffusion Model (DDM)',\n",
              " 'likelihoods': {'analytical': {'loglik': <function hssm.likelihoods.analytical.logp_ddm(data: numpy.ndarray, v: float, a: float, z: float, t: float, err: float = 1e-15, k_terms: int = 20, epsilon: float = 1e-15) -> numpy.ndarray>,\n",
              "   'backend': None,\n",
              "   'bounds': {'v': (-inf, inf),\n",
              "    'a': (0.0, inf),\n",
              "    'z': (0.0, 1.0),\n",
              "    't': (0.0, inf)},\n",
              "   'default_priors': {'t': {'name': 'HalfNormal', 'sigma': 2.0}},\n",
              "   'extra_fields': None},\n",
              "  'approx_differentiable': {'loglik': 'ddm.onnx',\n",
              "   'backend': 'jax',\n",
              "   'default_priors': {'t': {'name': 'HalfNormal', 'sigma': 2.0}},\n",
              "   'bounds': {'v': (-3.0, 3.0),\n",
              "    'a': (0.3, 2.5),\n",
              "    'z': (0.0, 1.0),\n",
              "    't': (0.0, 2.0)},\n",
              "   'extra_fields': None},\n",
              "  'blackbox': {'loglik': <function hssm.likelihoods.blackbox.hddm_to_hssm.<locals>.outer(data: numpy.ndarray, *args, **kwargs)>,\n",
              "   'backend': None,\n",
              "   'bounds': {'v': (-inf, inf),\n",
              "    'a': (0.0, inf),\n",
              "    'z': (0.0, 1.0),\n",
              "    't': (0.0, inf)},\n",
              "   'default_priors': {'t': {'name': 'HalfNormal', 'sigma': 2.0}},\n",
              "   'extra_fields': None}}}"
            ]
          },
          "metadata": {},
          "execution_count": 8
        }
      ],
      "source": [
        "hssm.defaults.default_model_config['ddm']"
      ]
    },
    {
      "cell_type": "markdown",
      "id": "02343768-82f3-475b-8c9f-94869b35c7c4",
      "metadata": {
        "id": "02343768-82f3-475b-8c9f-94869b35c7c4"
      },
      "source": [
        "This dictionary contains quite a bit of information. For purposes of *simulating data from a given model*, we will highlight two aspects:\n",
        "\n",
        "1.  The key `list_of_params` provides us with the necessary information to define out `theta` dictionary\n",
        "2.  The `bounds` key inside the `likelihoods` sub-dictionaries, provides us with an indication of reasonable parameter values.\n",
        "\n",
        "The `likelihoods` dictionary inhabits three sub-directories for the `ddm` model, since we have all three, an `analytical`, an `approx_differentiable` (LAN) and a `blackbox` likelihood available. For many models, we will be able to access only one or two types of likelihoods."
      ]
    },
    {
      "cell_type": "markdown",
      "id": "da49fe22-7e9a-4fb7-919c-d759baf08250",
      "metadata": {
        "id": "da49fe22-7e9a-4fb7-919c-d759baf08250"
      },
      "source": [
        "### Using `ssm-simulators`\n",
        "\n",
        "Internally, HSSM natively makes use of the [ssm-simulators](https://github.com/AlexanderFengler/ssm-simulators) package for forward simulation of models.\n",
        "`hssm.simulate_data()` functions essentially as a convenience-wrapper.\n",
        "\n",
        "Below we illustrate how to simulate data using the `ssm-simulators` package directly, to generate an equivalent dataset as created above. We will use the *third* way of passing parameters to the simulator, which is as a parameter-*matrix*.\n",
        "\n",
        "**Notes**:\n",
        "\n",
        "1. If you pass parameters as a parameter matrix, make sure the column ordering is correct. You can follow the parameter ordering under `hssm.defaults.default_model_config['ddm']['list_params']`.\n",
        "\n",
        "2. This is a minimal example, for more information about the package, check the associated [github-page](https://github.com/AlexanderFengler/ssm-simulators).\n",
        "\n",
        "\n",
        "\n"
      ]
    },
    {
      "cell_type": "code",
      "execution_count": 9,
      "id": "e128e932",
      "metadata": {
        "id": "e128e932",
        "outputId": "c863d6ab-4b0f-48d6-a0f8-18a7f2f4b837",
        "colab": {
          "base_uri": "https://localhost:8080/",
          "height": 424
        }
      },
      "outputs": [
        {
          "output_type": "execute_result",
          "data": {
            "text/plain": [
              "            rt  response\n",
              "0     3.004237       1.0\n",
              "1     3.767167       1.0\n",
              "2     5.340664       1.0\n",
              "3    11.524458       1.0\n",
              "4     5.983621      -1.0\n",
              "..         ...       ...\n",
              "995   1.989064      -1.0\n",
              "996   2.217127       1.0\n",
              "997   1.776171       1.0\n",
              "998   2.415405      -1.0\n",
              "999   3.655141      -1.0\n",
              "\n",
              "[1000 rows x 2 columns]"
            ],
            "text/html": [
              "\n",
              "  <div id=\"df-c0eb3c75-f8c0-4c6d-855c-8c76a17a325a\" class=\"colab-df-container\">\n",
              "    <div>\n",
              "<style scoped>\n",
              "    .dataframe tbody tr th:only-of-type {\n",
              "        vertical-align: middle;\n",
              "    }\n",
              "\n",
              "    .dataframe tbody tr th {\n",
              "        vertical-align: top;\n",
              "    }\n",
              "\n",
              "    .dataframe thead th {\n",
              "        text-align: right;\n",
              "    }\n",
              "</style>\n",
              "<table border=\"1\" class=\"dataframe\">\n",
              "  <thead>\n",
              "    <tr style=\"text-align: right;\">\n",
              "      <th></th>\n",
              "      <th>rt</th>\n",
              "      <th>response</th>\n",
              "    </tr>\n",
              "  </thead>\n",
              "  <tbody>\n",
              "    <tr>\n",
              "      <th>0</th>\n",
              "      <td>3.004237</td>\n",
              "      <td>1.0</td>\n",
              "    </tr>\n",
              "    <tr>\n",
              "      <th>1</th>\n",
              "      <td>3.767167</td>\n",
              "      <td>1.0</td>\n",
              "    </tr>\n",
              "    <tr>\n",
              "      <th>2</th>\n",
              "      <td>5.340664</td>\n",
              "      <td>1.0</td>\n",
              "    </tr>\n",
              "    <tr>\n",
              "      <th>3</th>\n",
              "      <td>11.524458</td>\n",
              "      <td>1.0</td>\n",
              "    </tr>\n",
              "    <tr>\n",
              "      <th>4</th>\n",
              "      <td>5.983621</td>\n",
              "      <td>-1.0</td>\n",
              "    </tr>\n",
              "    <tr>\n",
              "      <th>...</th>\n",
              "      <td>...</td>\n",
              "      <td>...</td>\n",
              "    </tr>\n",
              "    <tr>\n",
              "      <th>995</th>\n",
              "      <td>1.989064</td>\n",
              "      <td>-1.0</td>\n",
              "    </tr>\n",
              "    <tr>\n",
              "      <th>996</th>\n",
              "      <td>2.217127</td>\n",
              "      <td>1.0</td>\n",
              "    </tr>\n",
              "    <tr>\n",
              "      <th>997</th>\n",
              "      <td>1.776171</td>\n",
              "      <td>1.0</td>\n",
              "    </tr>\n",
              "    <tr>\n",
              "      <th>998</th>\n",
              "      <td>2.415405</td>\n",
              "      <td>-1.0</td>\n",
              "    </tr>\n",
              "    <tr>\n",
              "      <th>999</th>\n",
              "      <td>3.655141</td>\n",
              "      <td>-1.0</td>\n",
              "    </tr>\n",
              "  </tbody>\n",
              "</table>\n",
              "<p>1000 rows × 2 columns</p>\n",
              "</div>\n",
              "    <div class=\"colab-df-buttons\">\n",
              "\n",
              "  <div class=\"colab-df-container\">\n",
              "    <button class=\"colab-df-convert\" onclick=\"convertToInteractive('df-c0eb3c75-f8c0-4c6d-855c-8c76a17a325a')\"\n",
              "            title=\"Convert this dataframe to an interactive table.\"\n",
              "            style=\"display:none;\">\n",
              "\n",
              "  <svg xmlns=\"http://www.w3.org/2000/svg\" height=\"24px\" viewBox=\"0 -960 960 960\">\n",
              "    <path d=\"M120-120v-720h720v720H120Zm60-500h600v-160H180v160Zm220 220h160v-160H400v160Zm0 220h160v-160H400v160ZM180-400h160v-160H180v160Zm440 0h160v-160H620v160ZM180-180h160v-160H180v160Zm440 0h160v-160H620v160Z\"/>\n",
              "  </svg>\n",
              "    </button>\n",
              "\n",
              "  <style>\n",
              "    .colab-df-container {\n",
              "      display:flex;\n",
              "      gap: 12px;\n",
              "    }\n",
              "\n",
              "    .colab-df-convert {\n",
              "      background-color: #E8F0FE;\n",
              "      border: none;\n",
              "      border-radius: 50%;\n",
              "      cursor: pointer;\n",
              "      display: none;\n",
              "      fill: #1967D2;\n",
              "      height: 32px;\n",
              "      padding: 0 0 0 0;\n",
              "      width: 32px;\n",
              "    }\n",
              "\n",
              "    .colab-df-convert:hover {\n",
              "      background-color: #E2EBFA;\n",
              "      box-shadow: 0px 1px 2px rgba(60, 64, 67, 0.3), 0px 1px 3px 1px rgba(60, 64, 67, 0.15);\n",
              "      fill: #174EA6;\n",
              "    }\n",
              "\n",
              "    .colab-df-buttons div {\n",
              "      margin-bottom: 4px;\n",
              "    }\n",
              "\n",
              "    [theme=dark] .colab-df-convert {\n",
              "      background-color: #3B4455;\n",
              "      fill: #D2E3FC;\n",
              "    }\n",
              "\n",
              "    [theme=dark] .colab-df-convert:hover {\n",
              "      background-color: #434B5C;\n",
              "      box-shadow: 0px 1px 3px 1px rgba(0, 0, 0, 0.15);\n",
              "      filter: drop-shadow(0px 1px 2px rgba(0, 0, 0, 0.3));\n",
              "      fill: #FFFFFF;\n",
              "    }\n",
              "  </style>\n",
              "\n",
              "    <script>\n",
              "      const buttonEl =\n",
              "        document.querySelector('#df-c0eb3c75-f8c0-4c6d-855c-8c76a17a325a button.colab-df-convert');\n",
              "      buttonEl.style.display =\n",
              "        google.colab.kernel.accessAllowed ? 'block' : 'none';\n",
              "\n",
              "      async function convertToInteractive(key) {\n",
              "        const element = document.querySelector('#df-c0eb3c75-f8c0-4c6d-855c-8c76a17a325a');\n",
              "        const dataTable =\n",
              "          await google.colab.kernel.invokeFunction('convertToInteractive',\n",
              "                                                    [key], {});\n",
              "        if (!dataTable) return;\n",
              "\n",
              "        const docLinkHtml = 'Like what you see? Visit the ' +\n",
              "          '<a target=\"_blank\" href=https://colab.research.google.com/notebooks/data_table.ipynb>data table notebook</a>'\n",
              "          + ' to learn more about interactive tables.';\n",
              "        element.innerHTML = '';\n",
              "        dataTable['output_type'] = 'display_data';\n",
              "        await google.colab.output.renderOutput(dataTable, element);\n",
              "        const docLink = document.createElement('div');\n",
              "        docLink.innerHTML = docLinkHtml;\n",
              "        element.appendChild(docLink);\n",
              "      }\n",
              "    </script>\n",
              "  </div>\n",
              "\n",
              "\n",
              "<div id=\"df-3f001102-9b32-4941-8b66-7f05f96d755e\">\n",
              "  <button class=\"colab-df-quickchart\" onclick=\"quickchart('df-3f001102-9b32-4941-8b66-7f05f96d755e')\"\n",
              "            title=\"Suggest charts\"\n",
              "            style=\"display:none;\">\n",
              "\n",
              "<svg xmlns=\"http://www.w3.org/2000/svg\" height=\"24px\"viewBox=\"0 0 24 24\"\n",
              "     width=\"24px\">\n",
              "    <g>\n",
              "        <path d=\"M19 3H5c-1.1 0-2 .9-2 2v14c0 1.1.9 2 2 2h14c1.1 0 2-.9 2-2V5c0-1.1-.9-2-2-2zM9 17H7v-7h2v7zm4 0h-2V7h2v10zm4 0h-2v-4h2v4z\"/>\n",
              "    </g>\n",
              "</svg>\n",
              "  </button>\n",
              "\n",
              "<style>\n",
              "  .colab-df-quickchart {\n",
              "      --bg-color: #E8F0FE;\n",
              "      --fill-color: #1967D2;\n",
              "      --hover-bg-color: #E2EBFA;\n",
              "      --hover-fill-color: #174EA6;\n",
              "      --disabled-fill-color: #AAA;\n",
              "      --disabled-bg-color: #DDD;\n",
              "  }\n",
              "\n",
              "  [theme=dark] .colab-df-quickchart {\n",
              "      --bg-color: #3B4455;\n",
              "      --fill-color: #D2E3FC;\n",
              "      --hover-bg-color: #434B5C;\n",
              "      --hover-fill-color: #FFFFFF;\n",
              "      --disabled-bg-color: #3B4455;\n",
              "      --disabled-fill-color: #666;\n",
              "  }\n",
              "\n",
              "  .colab-df-quickchart {\n",
              "    background-color: var(--bg-color);\n",
              "    border: none;\n",
              "    border-radius: 50%;\n",
              "    cursor: pointer;\n",
              "    display: none;\n",
              "    fill: var(--fill-color);\n",
              "    height: 32px;\n",
              "    padding: 0;\n",
              "    width: 32px;\n",
              "  }\n",
              "\n",
              "  .colab-df-quickchart:hover {\n",
              "    background-color: var(--hover-bg-color);\n",
              "    box-shadow: 0 1px 2px rgba(60, 64, 67, 0.3), 0 1px 3px 1px rgba(60, 64, 67, 0.15);\n",
              "    fill: var(--button-hover-fill-color);\n",
              "  }\n",
              "\n",
              "  .colab-df-quickchart-complete:disabled,\n",
              "  .colab-df-quickchart-complete:disabled:hover {\n",
              "    background-color: var(--disabled-bg-color);\n",
              "    fill: var(--disabled-fill-color);\n",
              "    box-shadow: none;\n",
              "  }\n",
              "\n",
              "  .colab-df-spinner {\n",
              "    border: 2px solid var(--fill-color);\n",
              "    border-color: transparent;\n",
              "    border-bottom-color: var(--fill-color);\n",
              "    animation:\n",
              "      spin 1s steps(1) infinite;\n",
              "  }\n",
              "\n",
              "  @keyframes spin {\n",
              "    0% {\n",
              "      border-color: transparent;\n",
              "      border-bottom-color: var(--fill-color);\n",
              "      border-left-color: var(--fill-color);\n",
              "    }\n",
              "    20% {\n",
              "      border-color: transparent;\n",
              "      border-left-color: var(--fill-color);\n",
              "      border-top-color: var(--fill-color);\n",
              "    }\n",
              "    30% {\n",
              "      border-color: transparent;\n",
              "      border-left-color: var(--fill-color);\n",
              "      border-top-color: var(--fill-color);\n",
              "      border-right-color: var(--fill-color);\n",
              "    }\n",
              "    40% {\n",
              "      border-color: transparent;\n",
              "      border-right-color: var(--fill-color);\n",
              "      border-top-color: var(--fill-color);\n",
              "    }\n",
              "    60% {\n",
              "      border-color: transparent;\n",
              "      border-right-color: var(--fill-color);\n",
              "    }\n",
              "    80% {\n",
              "      border-color: transparent;\n",
              "      border-right-color: var(--fill-color);\n",
              "      border-bottom-color: var(--fill-color);\n",
              "    }\n",
              "    90% {\n",
              "      border-color: transparent;\n",
              "      border-bottom-color: var(--fill-color);\n",
              "    }\n",
              "  }\n",
              "</style>\n",
              "\n",
              "  <script>\n",
              "    async function quickchart(key) {\n",
              "      const quickchartButtonEl =\n",
              "        document.querySelector('#' + key + ' button');\n",
              "      quickchartButtonEl.disabled = true;  // To prevent multiple clicks.\n",
              "      quickchartButtonEl.classList.add('colab-df-spinner');\n",
              "      try {\n",
              "        const charts = await google.colab.kernel.invokeFunction(\n",
              "            'suggestCharts', [key], {});\n",
              "      } catch (error) {\n",
              "        console.error('Error during call to suggestCharts:', error);\n",
              "      }\n",
              "      quickchartButtonEl.classList.remove('colab-df-spinner');\n",
              "      quickchartButtonEl.classList.add('colab-df-quickchart-complete');\n",
              "    }\n",
              "    (() => {\n",
              "      let quickchartButtonEl =\n",
              "        document.querySelector('#df-3f001102-9b32-4941-8b66-7f05f96d755e button');\n",
              "      quickchartButtonEl.style.display =\n",
              "        google.colab.kernel.accessAllowed ? 'block' : 'none';\n",
              "    })();\n",
              "  </script>\n",
              "</div>\n",
              "\n",
              "  <div id=\"id_f6dcfdeb-4c4e-46b8-a794-8ef26322d3af\">\n",
              "    <style>\n",
              "      .colab-df-generate {\n",
              "        background-color: #E8F0FE;\n",
              "        border: none;\n",
              "        border-radius: 50%;\n",
              "        cursor: pointer;\n",
              "        display: none;\n",
              "        fill: #1967D2;\n",
              "        height: 32px;\n",
              "        padding: 0 0 0 0;\n",
              "        width: 32px;\n",
              "      }\n",
              "\n",
              "      .colab-df-generate:hover {\n",
              "        background-color: #E2EBFA;\n",
              "        box-shadow: 0px 1px 2px rgba(60, 64, 67, 0.3), 0px 1px 3px 1px rgba(60, 64, 67, 0.15);\n",
              "        fill: #174EA6;\n",
              "      }\n",
              "\n",
              "      [theme=dark] .colab-df-generate {\n",
              "        background-color: #3B4455;\n",
              "        fill: #D2E3FC;\n",
              "      }\n",
              "\n",
              "      [theme=dark] .colab-df-generate:hover {\n",
              "        background-color: #434B5C;\n",
              "        box-shadow: 0px 1px 3px 1px rgba(0, 0, 0, 0.15);\n",
              "        filter: drop-shadow(0px 1px 2px rgba(0, 0, 0, 0.3));\n",
              "        fill: #FFFFFF;\n",
              "      }\n",
              "    </style>\n",
              "    <button class=\"colab-df-generate\" onclick=\"generateWithVariable('dataset_trialwise')\"\n",
              "            title=\"Generate code using this dataframe.\"\n",
              "            style=\"display:none;\">\n",
              "\n",
              "  <svg xmlns=\"http://www.w3.org/2000/svg\" height=\"24px\"viewBox=\"0 0 24 24\"\n",
              "       width=\"24px\">\n",
              "    <path d=\"M7,19H8.4L18.45,9,17,7.55,7,17.6ZM5,21V16.75L18.45,3.32a2,2,0,0,1,2.83,0l1.4,1.43a1.91,1.91,0,0,1,.58,1.4,1.91,1.91,0,0,1-.58,1.4L9.25,21ZM18.45,9,17,7.55Zm-12,3A5.31,5.31,0,0,0,4.9,8.1,5.31,5.31,0,0,0,1,6.5,5.31,5.31,0,0,0,4.9,4.9,5.31,5.31,0,0,0,6.5,1,5.31,5.31,0,0,0,8.1,4.9,5.31,5.31,0,0,0,12,6.5,5.46,5.46,0,0,0,6.5,12Z\"/>\n",
              "  </svg>\n",
              "    </button>\n",
              "    <script>\n",
              "      (() => {\n",
              "      const buttonEl =\n",
              "        document.querySelector('#id_f6dcfdeb-4c4e-46b8-a794-8ef26322d3af button.colab-df-generate');\n",
              "      buttonEl.style.display =\n",
              "        google.colab.kernel.accessAllowed ? 'block' : 'none';\n",
              "\n",
              "      buttonEl.onclick = () => {\n",
              "        google.colab.notebook.generateWithVariable('dataset_trialwise');\n",
              "      }\n",
              "      })();\n",
              "    </script>\n",
              "  </div>\n",
              "\n",
              "    </div>\n",
              "  </div>\n"
            ],
            "application/vnd.google.colaboratory.intrinsic+json": {
              "type": "dataframe",
              "variable_name": "dataset_trialwise",
              "summary": "{\n  \"name\": \"dataset_trialwise\",\n  \"rows\": 1000,\n  \"fields\": [\n    {\n      \"column\": \"rt\",\n      \"properties\": {\n        \"dtype\": \"number\",\n        \"std\": 2.4368186044861826,\n        \"min\": 0.6627951860427856,\n        \"max\": 19.618080139160156,\n        \"num_unique_values\": 1000,\n        \"samples\": [\n          11.382933616638184,\n          4.1125640869140625,\n          1.1537879705429077\n        ],\n        \"semantic_type\": \"\",\n        \"description\": \"\"\n      }\n    },\n    {\n      \"column\": \"response\",\n      \"properties\": {\n        \"dtype\": \"number\",\n        \"std\": 0.672943424704375,\n        \"min\": -1.0,\n        \"max\": 1.0,\n        \"num_unique_values\": 2,\n        \"samples\": [\n          -1.0,\n          1.0\n        ],\n        \"semantic_type\": \"\",\n        \"description\": \"\"\n      }\n    }\n  ]\n}"
            }
          },
          "metadata": {},
          "execution_count": 9
        }
      ],
      "source": [
        "import ssms\n",
        "import pandas as pd\n",
        "from ssms.basic_simulators.simulator import simulator\n",
        "\n",
        "# a changes trial wise\n",
        "theta_mat = np.zeros((1000, 4))\n",
        "theta_mat[:, 0] = v_true # v\n",
        "theta_mat[:, 1] = a_trialwise # a\n",
        "theta_mat[:, 2] = z_true # z\n",
        "theta_mat[:, 3] = t_true # t\n",
        "\n",
        "# simulate data\n",
        "sim_out_trialwise = simulator(\n",
        "    theta=theta_mat,  # parameter_matrix\n",
        "    model=\"ddm\",  # specify model (many are included in ssms)\n",
        "    n_samples=1,  # number of samples for each set of parameters (plays the role of `size` parameter in `hssm.simulate_data`)\n",
        ")\n",
        "\n",
        "# Turn into nice dataset\n",
        "dataset_trialwise = pd.DataFrame(\n",
        "    np.column_stack(\n",
        "        [sim_out_trialwise[\"rts\"][:, 0], sim_out_trialwise[\"choices\"][:, 0]]\n",
        "    ),\n",
        "    columns=[\"rt\", \"response\"],\n",
        ")\n",
        "\n",
        "dataset_trialwise"
      ]
    },
    {
      "cell_type": "markdown",
      "id": "f51c6923",
      "metadata": {
        "id": "f51c6923"
      },
      "source": [
        "We will stick to `hssm.simulate_data()` in this tutorial, to keep things simple."
      ]
    },
    {
      "cell_type": "markdown",
      "id": "786303f5",
      "metadata": {
        "id": "786303f5"
      },
      "source": [
        "## ArviZ for Plotting\n",
        "\n",
        "<center> <img src=\"https://github.com/lnccbrown/HSSM/blob/srndna24/docs/tutorials/images/arviz.png?raw=1\" height=\"200\" width=\"200\"> </center>\n",
        "\n",
        "\n",
        "We use the [ArviZ](https://python.arviz.org/en/stable/) package for most of our plotting needs.\n",
        "ArviZ is a useful aid for plotting when doing anything Bayesian.\n",
        "\n",
        "It works with HSSM out of the box, by virtue of HSSMs reliance on [PyMC](https://www.pymc.io/welcome.html) for model construction and sampling.\n",
        "\n",
        "Checking out the [ArviZ Documentation](https://python.arviz.org/en/stable/getting_started/index.html) is a good idea to give you communication superpowers for not only your HSSM results, but also other libraries in the Bayesian Toolkit such as [NumPyro](https://num.pyro.ai/en/latest/index.html#introductory-tutorials) or [STAN](https://mc-stan.org/users/documentation/).\n",
        "\n",
        "We will see [ArviZ](https://python.arviz.org/en/stable/) plots throughout the notebook.  "
      ]
    },
    {
      "cell_type": "markdown",
      "id": "14480b75-45e3-4325-bcca-2675aa71743c",
      "metadata": {
        "id": "14480b75-45e3-4325-bcca-2675aa71743c"
      },
      "source": [
        "## Make Exercise Data"
      ]
    },
    {
      "cell_type": "code",
      "execution_count": 10,
      "id": "59b8f69b-211e-4346-815b-1d11ee63eb6c",
      "metadata": {
        "id": "59b8f69b-211e-4346-815b-1d11ee63eb6c"
      },
      "outputs": [],
      "source": [
        "# ex1:\n",
        "param_dict_ex1_1 = {\n",
        "                    'v': 0.0,\n",
        "                    'a': 1.25,\n",
        "                    'z': 0.7,\n",
        "                    't': 0.2\n",
        "                   }\n",
        "\n",
        "param_dict_ex1_2 = {\n",
        "                    'v': 0.75,\n",
        "                    'a': 1.25,\n",
        "                    'z':0.5,\n",
        "                    't': 0.2\n",
        "                   }\n",
        "\n",
        "ex1_condition_1 = hssm.simulate_data(model='ddm',\n",
        "                            theta = param_dict_ex1_1,\n",
        "                            size = 500)\n",
        "ex1_condition_1['condition'] = '1'\n",
        "\n",
        "\n",
        "ex1_condition_2 = hssm.simulate_data(model='ddm',\n",
        "                   theta=param_dict_ex1_2,\n",
        "                   size = 500)\n",
        "ex1_condition_2['condition'] = '2'\n",
        "\n",
        "# ex2:\n",
        "ex2_all_conditions = pd.concat([ex1_condition_1, ex1_condition_2])\n",
        "\n",
        "# ex3:\n",
        "# Make some hierarchical data\n",
        "\n",
        "n_participants = 15  # number of participants\n",
        "n_trials = 225  # number of trials per participant\n",
        "\n",
        "sd_v = 1.0  # sd for v-intercept\n",
        "mean_v = 1.0  # mean for v-intercept\n",
        "\n",
        "sd_a = 0.4 # sd for a-intercept\n",
        "mean_a = 1.5 # mean for a-intercept\n",
        "\n",
        "data_list = []\n",
        "for i in range(n_participants):\n",
        "    # Make parameters for participant i\n",
        "    v_intercept_hier = np.random.normal(mean_v, sd_v, size=1)\n",
        "    x = np.random.uniform(-1, 1, size=n_trials)\n",
        "    v_x_hier = 0.8\n",
        "    y = np.random.uniform(-1, 1, size=n_trials)\n",
        "    v_y_hier = 0.3\n",
        "    v_hier = v_intercept_hier # + (v_x_hier * x) + (v_y_hier * y)\n",
        "\n",
        "    a_hier = np.random.normal(mean_a, sd_a, size=1)\n",
        "    t_hier = 0.5\n",
        "    z_hier = 0.5\n",
        "\n",
        "    # true_values = np.column_stack(\n",
        "    #     [v, np.repeat([[1.5, 0.5, 0.5, 0.0]], axis=0, repeats=n_trials)]\n",
        "    # )\n",
        "\n",
        "    data_tmp = hssm.simulate_data(model = \"ddm\",\n",
        "                                  theta = dict(v = v_hier,\n",
        "                                                     a = a_hier,\n",
        "                                                     z = z_hier,\n",
        "                                                     t = t_hier),\n",
        "                                  size = n_trials)\n",
        "    data_tmp['participant_id'] = i\n",
        "    data_tmp['x'] = x\n",
        "    data_tmp['y'] = y\n",
        "\n",
        "    data_list.append(data_tmp)\n",
        "\n",
        "# Make single dataframe out of participant-wise datasets\n",
        "ex3_data = pd.concat(data_list)"
      ]
    },
    {
      "cell_type": "markdown",
      "id": "1fcb148a",
      "metadata": {
        "id": "1fcb148a"
      },
      "source": [
        "# Main Tutorial"
      ]
    },
    {
      "cell_type": "markdown",
      "id": "e8e41269-4c1e-4ec5-b2eb-82c35ee860c2",
      "metadata": {
        "id": "e8e41269-4c1e-4ec5-b2eb-82c35ee860c2"
      },
      "source": [
        "## Initial Dataset"
      ]
    },
    {
      "cell_type": "markdown",
      "id": "f7aa8a33",
      "metadata": {
        "id": "f7aa8a33"
      },
      "source": [
        "Let's proceed to simulate a simple dataset for our first example."
      ]
    },
    {
      "cell_type": "code",
      "execution_count": 13,
      "id": "99bd95f4-5775-4142-8d6c-a01bfab7c88e",
      "metadata": {
        "id": "99bd95f4-5775-4142-8d6c-a01bfab7c88e",
        "outputId": "5cf7c916-7dc3-4ea4-d041-5bf0e34768de",
        "colab": {
          "base_uri": "https://localhost:8080/",
          "height": 424
        }
      },
      "outputs": [
        {
          "output_type": "execute_result",
          "data": {
            "text/plain": [
              "           rt  response\n",
              "0    1.215592      -1.0\n",
              "1    4.505322      -1.0\n",
              "2    1.083327       1.0\n",
              "3    1.353387       1.0\n",
              "4    5.208323       1.0\n",
              "..        ...       ...\n",
              "495  2.137625       1.0\n",
              "496  2.770902       1.0\n",
              "497  1.250963      -1.0\n",
              "498  3.080439      -1.0\n",
              "499  2.119061       1.0\n",
              "\n",
              "[500 rows x 2 columns]"
            ],
            "text/html": [
              "\n",
              "  <div id=\"df-514405e3-9afa-438b-aaf9-38f7f5920cb4\" class=\"colab-df-container\">\n",
              "    <div>\n",
              "<style scoped>\n",
              "    .dataframe tbody tr th:only-of-type {\n",
              "        vertical-align: middle;\n",
              "    }\n",
              "\n",
              "    .dataframe tbody tr th {\n",
              "        vertical-align: top;\n",
              "    }\n",
              "\n",
              "    .dataframe thead th {\n",
              "        text-align: right;\n",
              "    }\n",
              "</style>\n",
              "<table border=\"1\" class=\"dataframe\">\n",
              "  <thead>\n",
              "    <tr style=\"text-align: right;\">\n",
              "      <th></th>\n",
              "      <th>rt</th>\n",
              "      <th>response</th>\n",
              "    </tr>\n",
              "  </thead>\n",
              "  <tbody>\n",
              "    <tr>\n",
              "      <th>0</th>\n",
              "      <td>1.215592</td>\n",
              "      <td>-1.0</td>\n",
              "    </tr>\n",
              "    <tr>\n",
              "      <th>1</th>\n",
              "      <td>4.505322</td>\n",
              "      <td>-1.0</td>\n",
              "    </tr>\n",
              "    <tr>\n",
              "      <th>2</th>\n",
              "      <td>1.083327</td>\n",
              "      <td>1.0</td>\n",
              "    </tr>\n",
              "    <tr>\n",
              "      <th>3</th>\n",
              "      <td>1.353387</td>\n",
              "      <td>1.0</td>\n",
              "    </tr>\n",
              "    <tr>\n",
              "      <th>4</th>\n",
              "      <td>5.208323</td>\n",
              "      <td>1.0</td>\n",
              "    </tr>\n",
              "    <tr>\n",
              "      <th>...</th>\n",
              "      <td>...</td>\n",
              "      <td>...</td>\n",
              "    </tr>\n",
              "    <tr>\n",
              "      <th>495</th>\n",
              "      <td>2.137625</td>\n",
              "      <td>1.0</td>\n",
              "    </tr>\n",
              "    <tr>\n",
              "      <th>496</th>\n",
              "      <td>2.770902</td>\n",
              "      <td>1.0</td>\n",
              "    </tr>\n",
              "    <tr>\n",
              "      <th>497</th>\n",
              "      <td>1.250963</td>\n",
              "      <td>-1.0</td>\n",
              "    </tr>\n",
              "    <tr>\n",
              "      <th>498</th>\n",
              "      <td>3.080439</td>\n",
              "      <td>-1.0</td>\n",
              "    </tr>\n",
              "    <tr>\n",
              "      <th>499</th>\n",
              "      <td>2.119061</td>\n",
              "      <td>1.0</td>\n",
              "    </tr>\n",
              "  </tbody>\n",
              "</table>\n",
              "<p>500 rows × 2 columns</p>\n",
              "</div>\n",
              "    <div class=\"colab-df-buttons\">\n",
              "\n",
              "  <div class=\"colab-df-container\">\n",
              "    <button class=\"colab-df-convert\" onclick=\"convertToInteractive('df-514405e3-9afa-438b-aaf9-38f7f5920cb4')\"\n",
              "            title=\"Convert this dataframe to an interactive table.\"\n",
              "            style=\"display:none;\">\n",
              "\n",
              "  <svg xmlns=\"http://www.w3.org/2000/svg\" height=\"24px\" viewBox=\"0 -960 960 960\">\n",
              "    <path d=\"M120-120v-720h720v720H120Zm60-500h600v-160H180v160Zm220 220h160v-160H400v160Zm0 220h160v-160H400v160ZM180-400h160v-160H180v160Zm440 0h160v-160H620v160ZM180-180h160v-160H180v160Zm440 0h160v-160H620v160Z\"/>\n",
              "  </svg>\n",
              "    </button>\n",
              "\n",
              "  <style>\n",
              "    .colab-df-container {\n",
              "      display:flex;\n",
              "      gap: 12px;\n",
              "    }\n",
              "\n",
              "    .colab-df-convert {\n",
              "      background-color: #E8F0FE;\n",
              "      border: none;\n",
              "      border-radius: 50%;\n",
              "      cursor: pointer;\n",
              "      display: none;\n",
              "      fill: #1967D2;\n",
              "      height: 32px;\n",
              "      padding: 0 0 0 0;\n",
              "      width: 32px;\n",
              "    }\n",
              "\n",
              "    .colab-df-convert:hover {\n",
              "      background-color: #E2EBFA;\n",
              "      box-shadow: 0px 1px 2px rgba(60, 64, 67, 0.3), 0px 1px 3px 1px rgba(60, 64, 67, 0.15);\n",
              "      fill: #174EA6;\n",
              "    }\n",
              "\n",
              "    .colab-df-buttons div {\n",
              "      margin-bottom: 4px;\n",
              "    }\n",
              "\n",
              "    [theme=dark] .colab-df-convert {\n",
              "      background-color: #3B4455;\n",
              "      fill: #D2E3FC;\n",
              "    }\n",
              "\n",
              "    [theme=dark] .colab-df-convert:hover {\n",
              "      background-color: #434B5C;\n",
              "      box-shadow: 0px 1px 3px 1px rgba(0, 0, 0, 0.15);\n",
              "      filter: drop-shadow(0px 1px 2px rgba(0, 0, 0, 0.3));\n",
              "      fill: #FFFFFF;\n",
              "    }\n",
              "  </style>\n",
              "\n",
              "    <script>\n",
              "      const buttonEl =\n",
              "        document.querySelector('#df-514405e3-9afa-438b-aaf9-38f7f5920cb4 button.colab-df-convert');\n",
              "      buttonEl.style.display =\n",
              "        google.colab.kernel.accessAllowed ? 'block' : 'none';\n",
              "\n",
              "      async function convertToInteractive(key) {\n",
              "        const element = document.querySelector('#df-514405e3-9afa-438b-aaf9-38f7f5920cb4');\n",
              "        const dataTable =\n",
              "          await google.colab.kernel.invokeFunction('convertToInteractive',\n",
              "                                                    [key], {});\n",
              "        if (!dataTable) return;\n",
              "\n",
              "        const docLinkHtml = 'Like what you see? Visit the ' +\n",
              "          '<a target=\"_blank\" href=https://colab.research.google.com/notebooks/data_table.ipynb>data table notebook</a>'\n",
              "          + ' to learn more about interactive tables.';\n",
              "        element.innerHTML = '';\n",
              "        dataTable['output_type'] = 'display_data';\n",
              "        await google.colab.output.renderOutput(dataTable, element);\n",
              "        const docLink = document.createElement('div');\n",
              "        docLink.innerHTML = docLinkHtml;\n",
              "        element.appendChild(docLink);\n",
              "      }\n",
              "    </script>\n",
              "  </div>\n",
              "\n",
              "\n",
              "<div id=\"df-72f82073-9031-4190-8224-64f683633022\">\n",
              "  <button class=\"colab-df-quickchart\" onclick=\"quickchart('df-72f82073-9031-4190-8224-64f683633022')\"\n",
              "            title=\"Suggest charts\"\n",
              "            style=\"display:none;\">\n",
              "\n",
              "<svg xmlns=\"http://www.w3.org/2000/svg\" height=\"24px\"viewBox=\"0 0 24 24\"\n",
              "     width=\"24px\">\n",
              "    <g>\n",
              "        <path d=\"M19 3H5c-1.1 0-2 .9-2 2v14c0 1.1.9 2 2 2h14c1.1 0 2-.9 2-2V5c0-1.1-.9-2-2-2zM9 17H7v-7h2v7zm4 0h-2V7h2v10zm4 0h-2v-4h2v4z\"/>\n",
              "    </g>\n",
              "</svg>\n",
              "  </button>\n",
              "\n",
              "<style>\n",
              "  .colab-df-quickchart {\n",
              "      --bg-color: #E8F0FE;\n",
              "      --fill-color: #1967D2;\n",
              "      --hover-bg-color: #E2EBFA;\n",
              "      --hover-fill-color: #174EA6;\n",
              "      --disabled-fill-color: #AAA;\n",
              "      --disabled-bg-color: #DDD;\n",
              "  }\n",
              "\n",
              "  [theme=dark] .colab-df-quickchart {\n",
              "      --bg-color: #3B4455;\n",
              "      --fill-color: #D2E3FC;\n",
              "      --hover-bg-color: #434B5C;\n",
              "      --hover-fill-color: #FFFFFF;\n",
              "      --disabled-bg-color: #3B4455;\n",
              "      --disabled-fill-color: #666;\n",
              "  }\n",
              "\n",
              "  .colab-df-quickchart {\n",
              "    background-color: var(--bg-color);\n",
              "    border: none;\n",
              "    border-radius: 50%;\n",
              "    cursor: pointer;\n",
              "    display: none;\n",
              "    fill: var(--fill-color);\n",
              "    height: 32px;\n",
              "    padding: 0;\n",
              "    width: 32px;\n",
              "  }\n",
              "\n",
              "  .colab-df-quickchart:hover {\n",
              "    background-color: var(--hover-bg-color);\n",
              "    box-shadow: 0 1px 2px rgba(60, 64, 67, 0.3), 0 1px 3px 1px rgba(60, 64, 67, 0.15);\n",
              "    fill: var(--button-hover-fill-color);\n",
              "  }\n",
              "\n",
              "  .colab-df-quickchart-complete:disabled,\n",
              "  .colab-df-quickchart-complete:disabled:hover {\n",
              "    background-color: var(--disabled-bg-color);\n",
              "    fill: var(--disabled-fill-color);\n",
              "    box-shadow: none;\n",
              "  }\n",
              "\n",
              "  .colab-df-spinner {\n",
              "    border: 2px solid var(--fill-color);\n",
              "    border-color: transparent;\n",
              "    border-bottom-color: var(--fill-color);\n",
              "    animation:\n",
              "      spin 1s steps(1) infinite;\n",
              "  }\n",
              "\n",
              "  @keyframes spin {\n",
              "    0% {\n",
              "      border-color: transparent;\n",
              "      border-bottom-color: var(--fill-color);\n",
              "      border-left-color: var(--fill-color);\n",
              "    }\n",
              "    20% {\n",
              "      border-color: transparent;\n",
              "      border-left-color: var(--fill-color);\n",
              "      border-top-color: var(--fill-color);\n",
              "    }\n",
              "    30% {\n",
              "      border-color: transparent;\n",
              "      border-left-color: var(--fill-color);\n",
              "      border-top-color: var(--fill-color);\n",
              "      border-right-color: var(--fill-color);\n",
              "    }\n",
              "    40% {\n",
              "      border-color: transparent;\n",
              "      border-right-color: var(--fill-color);\n",
              "      border-top-color: var(--fill-color);\n",
              "    }\n",
              "    60% {\n",
              "      border-color: transparent;\n",
              "      border-right-color: var(--fill-color);\n",
              "    }\n",
              "    80% {\n",
              "      border-color: transparent;\n",
              "      border-right-color: var(--fill-color);\n",
              "      border-bottom-color: var(--fill-color);\n",
              "    }\n",
              "    90% {\n",
              "      border-color: transparent;\n",
              "      border-bottom-color: var(--fill-color);\n",
              "    }\n",
              "  }\n",
              "</style>\n",
              "\n",
              "  <script>\n",
              "    async function quickchart(key) {\n",
              "      const quickchartButtonEl =\n",
              "        document.querySelector('#' + key + ' button');\n",
              "      quickchartButtonEl.disabled = true;  // To prevent multiple clicks.\n",
              "      quickchartButtonEl.classList.add('colab-df-spinner');\n",
              "      try {\n",
              "        const charts = await google.colab.kernel.invokeFunction(\n",
              "            'suggestCharts', [key], {});\n",
              "      } catch (error) {\n",
              "        console.error('Error during call to suggestCharts:', error);\n",
              "      }\n",
              "      quickchartButtonEl.classList.remove('colab-df-spinner');\n",
              "      quickchartButtonEl.classList.add('colab-df-quickchart-complete');\n",
              "    }\n",
              "    (() => {\n",
              "      let quickchartButtonEl =\n",
              "        document.querySelector('#df-72f82073-9031-4190-8224-64f683633022 button');\n",
              "      quickchartButtonEl.style.display =\n",
              "        google.colab.kernel.accessAllowed ? 'block' : 'none';\n",
              "    })();\n",
              "  </script>\n",
              "</div>\n",
              "\n",
              "  <div id=\"id_f78c4b02-9fa0-44a7-bef9-dd0207c66716\">\n",
              "    <style>\n",
              "      .colab-df-generate {\n",
              "        background-color: #E8F0FE;\n",
              "        border: none;\n",
              "        border-radius: 50%;\n",
              "        cursor: pointer;\n",
              "        display: none;\n",
              "        fill: #1967D2;\n",
              "        height: 32px;\n",
              "        padding: 0 0 0 0;\n",
              "        width: 32px;\n",
              "      }\n",
              "\n",
              "      .colab-df-generate:hover {\n",
              "        background-color: #E2EBFA;\n",
              "        box-shadow: 0px 1px 2px rgba(60, 64, 67, 0.3), 0px 1px 3px 1px rgba(60, 64, 67, 0.15);\n",
              "        fill: #174EA6;\n",
              "      }\n",
              "\n",
              "      [theme=dark] .colab-df-generate {\n",
              "        background-color: #3B4455;\n",
              "        fill: #D2E3FC;\n",
              "      }\n",
              "\n",
              "      [theme=dark] .colab-df-generate:hover {\n",
              "        background-color: #434B5C;\n",
              "        box-shadow: 0px 1px 3px 1px rgba(0, 0, 0, 0.15);\n",
              "        filter: drop-shadow(0px 1px 2px rgba(0, 0, 0, 0.3));\n",
              "        fill: #FFFFFF;\n",
              "      }\n",
              "    </style>\n",
              "    <button class=\"colab-df-generate\" onclick=\"generateWithVariable('dataset')\"\n",
              "            title=\"Generate code using this dataframe.\"\n",
              "            style=\"display:none;\">\n",
              "\n",
              "  <svg xmlns=\"http://www.w3.org/2000/svg\" height=\"24px\"viewBox=\"0 0 24 24\"\n",
              "       width=\"24px\">\n",
              "    <path d=\"M7,19H8.4L18.45,9,17,7.55,7,17.6ZM5,21V16.75L18.45,3.32a2,2,0,0,1,2.83,0l1.4,1.43a1.91,1.91,0,0,1,.58,1.4,1.91,1.91,0,0,1-.58,1.4L9.25,21ZM18.45,9,17,7.55Zm-12,3A5.31,5.31,0,0,0,4.9,8.1,5.31,5.31,0,0,0,1,6.5,5.31,5.31,0,0,0,4.9,4.9,5.31,5.31,0,0,0,6.5,1,5.31,5.31,0,0,0,8.1,4.9,5.31,5.31,0,0,0,12,6.5,5.46,5.46,0,0,0,6.5,12Z\"/>\n",
              "  </svg>\n",
              "    </button>\n",
              "    <script>\n",
              "      (() => {\n",
              "      const buttonEl =\n",
              "        document.querySelector('#id_f78c4b02-9fa0-44a7-bef9-dd0207c66716 button.colab-df-generate');\n",
              "      buttonEl.style.display =\n",
              "        google.colab.kernel.accessAllowed ? 'block' : 'none';\n",
              "\n",
              "      buttonEl.onclick = () => {\n",
              "        google.colab.notebook.generateWithVariable('dataset');\n",
              "      }\n",
              "      })();\n",
              "    </script>\n",
              "  </div>\n",
              "\n",
              "    </div>\n",
              "  </div>\n"
            ],
            "application/vnd.google.colaboratory.intrinsic+json": {
              "type": "dataframe",
              "variable_name": "dataset",
              "summary": "{\n  \"name\": \"dataset\",\n  \"rows\": 500,\n  \"fields\": [\n    {\n      \"column\": \"rt\",\n      \"properties\": {\n        \"dtype\": \"number\",\n        \"std\": 1.828485699061283,\n        \"min\": 0.6891907453536987,\n        \"max\": 14.12730598449707,\n        \"num_unique_values\": 500,\n        \"samples\": [\n          1.1020735502243042,\n          1.0960183143615723,\n          2.1562411785125732\n        ],\n        \"semantic_type\": \"\",\n        \"description\": \"\"\n      }\n    },\n    {\n      \"column\": \"response\",\n      \"properties\": {\n        \"dtype\": \"number\",\n        \"std\": 0.8293223445091809,\n        \"min\": -1.0,\n        \"max\": 1.0,\n        \"num_unique_values\": 2,\n        \"samples\": [\n          1.0,\n          -1.0\n        ],\n        \"semantic_type\": \"\",\n        \"description\": \"\"\n      }\n    }\n  ]\n}"
            }
          },
          "metadata": {},
          "execution_count": 13
        }
      ],
      "source": [
        "# Specify\n",
        "param_dict_init = dict(v = v_true,\n",
        "                       a = a_true,\n",
        "                       z = z_true,\n",
        "                       t = t_true,\n",
        "                      )\n",
        "\n",
        "\n",
        "dataset = hssm.simulate_data(model = 'ddm',\n",
        "                   theta = param_dict_init,\n",
        "                   size = 500,\n",
        "                   )\n",
        "\n",
        "dataset"
      ]
    },
    {
      "cell_type": "markdown",
      "id": "2e4c6129-ac7c-46d1-928f-96095f97dca6",
      "metadata": {
        "id": "2e4c6129-ac7c-46d1-928f-96095f97dca6"
      },
      "source": [
        "## First HSSM Model\n",
        "\n",
        "In this example we will use the *analytical likelihood function* computed as suggested in [this paper](https://psycnet.apa.org/record/2009-11068-003)."
      ]
    },
    {
      "cell_type": "markdown",
      "id": "408d4ac6-0138-493e-81f8-0a7c31edac3a",
      "metadata": {
        "id": "408d4ac6-0138-493e-81f8-0a7c31edac3a"
      },
      "source": [
        "### Instantiate the model\n",
        "\n",
        "To instantiate our `HSSM` class, in the simplest version, we only need to provide an appropriate dataset.\n",
        "The dataset is expected to be a `pandas.DataFrame` with at least two columns, respectively called `rt` (for reaction time) and `response`.\n",
        "Our data simulated above is already in the correct format, so let us try to construct the class.\n",
        "\n",
        "**NOTE:**\n",
        "\n",
        "If you are a user of the [HDDM](https://github.com/hddm-devs/hddm) python package, this workflow should seem very familiar."
      ]
    },
    {
      "cell_type": "code",
      "execution_count": 14,
      "id": "bde3e564-56f0-4689-886c-fc6f245c0833",
      "metadata": {
        "id": "bde3e564-56f0-4689-886c-fc6f245c0833"
      },
      "outputs": [],
      "source": [
        "simple_ddm_model = hssm.HSSM(data=dataset)"
      ]
    },
    {
      "cell_type": "code",
      "execution_count": null,
      "id": "a77ed306",
      "metadata": {
        "id": "a77ed306"
      },
      "outputs": [],
      "source": [
        "print(simple_ddm_model)"
      ]
    },
    {
      "cell_type": "markdown",
      "id": "a38905d9",
      "metadata": {
        "id": "a38905d9"
      },
      "source": [
        "The `print()` function gives us some basic information about our model including the *number of observations* the *parameters in the model* and their respective *prior setting*. We can also create a nice little graphical representation of our model..."
      ]
    },
    {
      "cell_type": "markdown",
      "id": "697137e0",
      "metadata": {
        "id": "697137e0"
      },
      "source": [
        "### Model Graph\n",
        "\n",
        "Since `HSSM` creates a `PyMC Model`, we can can use the `.graph()` function, to get a graphical representation of the the model we created."
      ]
    },
    {
      "cell_type": "code",
      "execution_count": 15,
      "id": "52d254c6-7145-46af-a546-180cc2974a9a",
      "metadata": {
        "id": "52d254c6-7145-46af-a546-180cc2974a9a",
        "outputId": "1479360e-ac44-4a57-c8ca-2c9751f4bdfe",
        "colab": {
          "base_uri": "https://localhost:8080/",
          "height": 332
        }
      },
      "outputs": [
        {
          "output_type": "execute_result",
          "data": {
            "image/svg+xml": "<?xml version=\"1.0\" encoding=\"UTF-8\" standalone=\"no\"?>\n<!DOCTYPE svg PUBLIC \"-//W3C//DTD SVG 1.1//EN\"\n \"http://www.w3.org/Graphics/SVG/1.1/DTD/svg11.dtd\">\n<!-- Generated by graphviz version 2.43.0 (0)\n -->\n<!-- Title: %3 Pages: 1 -->\n<svg width=\"470pt\" height=\"233pt\"\n viewBox=\"0.00 0.00 469.94 232.91\" xmlns=\"http://www.w3.org/2000/svg\" xmlns:xlink=\"http://www.w3.org/1999/xlink\">\n<g id=\"graph0\" class=\"graph\" transform=\"scale(1 1) rotate(0) translate(4 228.91)\">\n<title>%3</title>\n<polygon fill=\"white\" stroke=\"transparent\" points=\"-4,4 -4,-228.91 465.94,-228.91 465.94,4 -4,4\"/>\n<g id=\"clust1\" class=\"cluster\">\n<title>clusterrt,response_obs (500) x rt,response_extra_dim_0 (2)</title>\n<path fill=\"none\" stroke=\"black\" d=\"M96.69,-8C96.69,-8 375.69,-8 375.69,-8 381.69,-8 387.69,-14 387.69,-20 387.69,-20 387.69,-109.95 387.69,-109.95 387.69,-115.95 381.69,-121.95 375.69,-121.95 375.69,-121.95 96.69,-121.95 96.69,-121.95 90.69,-121.95 84.69,-115.95 84.69,-109.95 84.69,-109.95 84.69,-20 84.69,-20 84.69,-14 90.69,-8 96.69,-8\"/>\n<text text-anchor=\"middle\" x=\"236.19\" y=\"-15.8\" font-family=\"Times,serif\" font-size=\"14.00\">rt,response_obs (500) x rt,response_extra_dim_0 (2)</text>\n</g>\n<!-- t -->\n<g id=\"node1\" class=\"node\">\n<title>t</title>\n<ellipse fill=\"none\" stroke=\"black\" cx=\"58.69\" cy=\"-187.43\" rx=\"58.88\" ry=\"37.45\"/>\n<text text-anchor=\"middle\" x=\"58.69\" y=\"-198.73\" font-family=\"Times,serif\" font-size=\"14.00\">t</text>\n<text text-anchor=\"middle\" x=\"58.69\" y=\"-183.73\" font-family=\"Times,serif\" font-size=\"14.00\">~</text>\n<text text-anchor=\"middle\" x=\"58.69\" y=\"-168.73\" font-family=\"Times,serif\" font-size=\"14.00\">HalfNormal</text>\n</g>\n<!-- rt,response -->\n<g id=\"node5\" class=\"node\">\n<title>rt,response</title>\n<ellipse fill=\"lightgrey\" stroke=\"black\" cx=\"235.69\" cy=\"-76.48\" rx=\"96.33\" ry=\"37.45\"/>\n<text text-anchor=\"middle\" x=\"235.69\" y=\"-87.78\" font-family=\"Times,serif\" font-size=\"14.00\">rt,response</text>\n<text text-anchor=\"middle\" x=\"235.69\" y=\"-72.78\" font-family=\"Times,serif\" font-size=\"14.00\">~</text>\n<text text-anchor=\"middle\" x=\"235.69\" y=\"-57.78\" font-family=\"Times,serif\" font-size=\"14.00\">SSMRandomVariable</text>\n</g>\n<!-- t&#45;&gt;rt,response -->\n<g id=\"edge1\" class=\"edge\">\n<title>t&#45;&gt;rt,response</title>\n<path fill=\"none\" stroke=\"black\" d=\"M100.19,-160.89C122.95,-146.88 151.55,-129.27 176.6,-113.85\"/>\n<polygon fill=\"black\" stroke=\"black\" points=\"178.62,-116.72 185.3,-108.49 174.95,-110.76 178.62,-116.72\"/>\n</g>\n<!-- v -->\n<g id=\"node2\" class=\"node\">\n<title>v</title>\n<ellipse fill=\"none\" stroke=\"black\" cx=\"176.69\" cy=\"-187.43\" rx=\"41.94\" ry=\"37.45\"/>\n<text text-anchor=\"middle\" x=\"176.69\" y=\"-198.73\" font-family=\"Times,serif\" font-size=\"14.00\">v</text>\n<text text-anchor=\"middle\" x=\"176.69\" y=\"-183.73\" font-family=\"Times,serif\" font-size=\"14.00\">~</text>\n<text text-anchor=\"middle\" x=\"176.69\" y=\"-168.73\" font-family=\"Times,serif\" font-size=\"14.00\">Normal</text>\n</g>\n<!-- v&#45;&gt;rt,response -->\n<g id=\"edge2\" class=\"edge\">\n<title>v&#45;&gt;rt,response</title>\n<path fill=\"none\" stroke=\"black\" d=\"M194.55,-153.44C199.85,-143.66 205.75,-132.77 211.38,-122.37\"/>\n<polygon fill=\"black\" stroke=\"black\" points=\"214.56,-123.85 216.24,-113.39 208.4,-120.51 214.56,-123.85\"/>\n</g>\n<!-- a -->\n<g id=\"node3\" class=\"node\">\n<title>a</title>\n<ellipse fill=\"none\" stroke=\"black\" cx=\"294.69\" cy=\"-187.43\" rx=\"58.88\" ry=\"37.45\"/>\n<text text-anchor=\"middle\" x=\"294.69\" y=\"-198.73\" font-family=\"Times,serif\" font-size=\"14.00\">a</text>\n<text text-anchor=\"middle\" x=\"294.69\" y=\"-183.73\" font-family=\"Times,serif\" font-size=\"14.00\">~</text>\n<text text-anchor=\"middle\" x=\"294.69\" y=\"-168.73\" font-family=\"Times,serif\" font-size=\"14.00\">HalfNormal</text>\n</g>\n<!-- a&#45;&gt;rt,response -->\n<g id=\"edge3\" class=\"edge\">\n<title>a&#45;&gt;rt,response</title>\n<path fill=\"none\" stroke=\"black\" d=\"M275.86,-151.66C270.8,-142.31 265.25,-132.07 259.94,-122.27\"/>\n<polygon fill=\"black\" stroke=\"black\" points=\"262.99,-120.55 255.15,-113.42 256.84,-123.88 262.99,-120.55\"/>\n</g>\n<!-- z -->\n<g id=\"node4\" class=\"node\">\n<title>z</title>\n<ellipse fill=\"none\" stroke=\"black\" cx=\"416.69\" cy=\"-187.43\" rx=\"45.01\" ry=\"37.45\"/>\n<text text-anchor=\"middle\" x=\"416.69\" y=\"-198.73\" font-family=\"Times,serif\" font-size=\"14.00\">z</text>\n<text text-anchor=\"middle\" x=\"416.69\" y=\"-183.73\" font-family=\"Times,serif\" font-size=\"14.00\">~</text>\n<text text-anchor=\"middle\" x=\"416.69\" y=\"-168.73\" font-family=\"Times,serif\" font-size=\"14.00\">Uniform</text>\n</g>\n<!-- z&#45;&gt;rt,response -->\n<g id=\"edge4\" class=\"edge\">\n<title>z&#45;&gt;rt,response</title>\n<path fill=\"none\" stroke=\"black\" d=\"M382.38,-162.69C375.89,-158.36 369.13,-153.96 362.69,-149.95 342.31,-137.28 319.67,-124.09 299.22,-112.49\"/>\n<polygon fill=\"black\" stroke=\"black\" points=\"300.72,-109.32 290.29,-107.45 297.28,-115.41 300.72,-109.32\"/>\n</g>\n</g>\n</svg>\n",
            "text/plain": [
              "<graphviz.graphs.Digraph at 0x7fec3d535ea0>"
            ]
          },
          "metadata": {},
          "execution_count": 15
        }
      ],
      "source": [
        "simple_ddm_model.graph()"
      ]
    },
    {
      "cell_type": "markdown",
      "id": "c88deda4",
      "metadata": {
        "id": "c88deda4"
      },
      "source": [
        "This is the simplest model we can build. The graph above follows **plate notation**, commonly used for **probabilistic graphical models**.\n",
        "\n",
        "- We have our basic parameters (unobserved, **white nodes**), these are *random variables* in the model and we want to estimate them\n",
        "- Our observed reaction times and choices (`SSMRandomVariable`, **grey node**), are fixed (or conditioned on).\n",
        "- **Rounded rectangles** provide us with information about dimensionality of objects\n",
        "- **Rectangles with sharp edges** represent *deterministic*, but *computed* quantities (not shown here, but in later models)\n",
        "\n",
        "This notation is helpful to get a quick overview of the structure of a given model we construct.\n",
        "\n",
        "The `graph()` function of course becomes a lot more interesting and useful for more complicated models!"
      ]
    },
    {
      "cell_type": "markdown",
      "id": "705cf547",
      "metadata": {
        "id": "705cf547"
      },
      "source": [
        "### Sample from the Model\n",
        "\n",
        "We can now call the `.sample()` function, to get posterior samples. The main arguments you may want to change are listed in the function call below.\n",
        "\n",
        "Importantly, multiple backends are possible. We choose the `nuts_numpyro` backend below,\n",
        "which in turn compiles the model to a [`JAX`](https://github.com/google/jax) function."
      ]
    },
    {
      "cell_type": "code",
      "execution_count": 16,
      "id": "6de5037b-cb2c-4d0e-a5e3-5ede4006e50e",
      "metadata": {
        "id": "6de5037b-cb2c-4d0e-a5e3-5ede4006e50e",
        "outputId": "3ee35434-1079-45a9-bdb8-1636dba2fbfd",
        "colab": {
          "base_uri": "https://localhost:8080/"
        }
      },
      "outputs": [
        {
          "output_type": "stream",
          "name": "stderr",
          "text": [
            "sample: 100%|██████████| 1500/1500 [00:11<00:00, 134.89it/s, 3 steps of size 4.37e-01. acc. prob=0.93] \n",
            "sample: 100%|██████████| 1500/1500 [00:07<00:00, 206.05it/s, 3 steps of size 4.31e-01. acc. prob=0.92]\n"
          ]
        }
      ],
      "source": [
        "infer_data_simple_ddm_model = simple_ddm_model.sample(\n",
        "    sampler=\"nuts_numpyro\",  # type of sampler to choose, 'nuts_numpyro', 'nuts_blackjax' of default pymc nuts sampler\n",
        "    cores=1,  # how many cores to use\n",
        "    chains=2,  # how many chains to run\n",
        "    draws=500,  # number of draws from the markov chain\n",
        "    tune=1000,  # number of burn-in samples\n",
        "    idata_kwargs=dict(log_likelihood=True),  # return log likelihood\n",
        ")  # mp_ctx=\"forkserver\")"
      ]
    },
    {
      "cell_type": "markdown",
      "id": "80c9fb68-2e7d-4d8b-9828-568e7a330015",
      "metadata": {
        "id": "80c9fb68-2e7d-4d8b-9828-568e7a330015"
      },
      "source": [
        "We sampled from the model, let's look at the output..."
      ]
    },
    {
      "cell_type": "code",
      "execution_count": 11,
      "id": "a60244a4",
      "metadata": {
        "id": "a60244a4",
        "outputId": "458ca96a-f526-4ecc-9b94-b2ca46791bdc",
        "colab": {
          "base_uri": "https://localhost:8080/",
          "height": 144
        }
      },
      "outputs": [
        {
          "output_type": "error",
          "ename": "NameError",
          "evalue": "name 'infer_data_simple_ddm_model' is not defined",
          "traceback": [
            "\u001b[0;31m---------------------------------------------------------------------------\u001b[0m",
            "\u001b[0;31mNameError\u001b[0m                                 Traceback (most recent call last)",
            "\u001b[0;32m<ipython-input-11-d5e87c1af757>\u001b[0m in \u001b[0;36m<cell line: 1>\u001b[0;34m()\u001b[0m\n\u001b[0;32m----> 1\u001b[0;31m \u001b[0mtype\u001b[0m\u001b[0;34m(\u001b[0m\u001b[0minfer_data_simple_ddm_model\u001b[0m\u001b[0;34m)\u001b[0m\u001b[0;34m\u001b[0m\u001b[0;34m\u001b[0m\u001b[0m\n\u001b[0m",
            "\u001b[0;31mNameError\u001b[0m: name 'infer_data_simple_ddm_model' is not defined"
          ]
        }
      ],
      "source": [
        "type(infer_data_simple_ddm_model)"
      ]
    },
    {
      "cell_type": "markdown",
      "id": "7d9b00c7",
      "metadata": {
        "id": "7d9b00c7"
      },
      "source": [
        "Errr... a closer look might be needed here!"
      ]
    },
    {
      "cell_type": "markdown",
      "id": "536bd280",
      "metadata": {
        "id": "536bd280"
      },
      "source": [
        "### Inference Data / What gets returned from the sampler?\n",
        "\n",
        "The sampler returns an [ArviZ](https://python.arviz.org/en/stable/) `InferenceData` object.\n",
        "\n",
        "To understand all the logic behind these objects and how they mesh with the Bayesian Workflow, we refer you to the [ArviZ Documentation](https://python.arviz.org/en/stable/getting_started/index.html).\n",
        "\n",
        "`InferenceData` is build on top of [xarrays](https://docs.xarray.dev/en/stable/index.html). The [xarray documentation](https://docs.xarray.dev/en/stable/index.html) will help you understand in more detail how to manipulate these objects.\n",
        "\n",
        "But let's take a quick high-level look to understand roughly what we are dealing with here!"
      ]
    },
    {
      "cell_type": "code",
      "execution_count": 12,
      "id": "00997d8e",
      "metadata": {
        "id": "00997d8e",
        "outputId": "6469122a-018c-43c5-cf84-8fc396db3ad1",
        "colab": {
          "base_uri": "https://localhost:8080/",
          "height": 144
        }
      },
      "outputs": [
        {
          "output_type": "error",
          "ename": "NameError",
          "evalue": "name 'infer_data_simple_ddm_model' is not defined",
          "traceback": [
            "\u001b[0;31m---------------------------------------------------------------------------\u001b[0m",
            "\u001b[0;31mNameError\u001b[0m                                 Traceback (most recent call last)",
            "\u001b[0;32m<ipython-input-12-cdde8f7632df>\u001b[0m in \u001b[0;36m<cell line: 1>\u001b[0;34m()\u001b[0m\n\u001b[0;32m----> 1\u001b[0;31m \u001b[0minfer_data_simple_ddm_model\u001b[0m\u001b[0;34m\u001b[0m\u001b[0;34m\u001b[0m\u001b[0m\n\u001b[0m",
            "\u001b[0;31mNameError\u001b[0m: name 'infer_data_simple_ddm_model' is not defined"
          ]
        }
      ],
      "source": [
        "infer_data_simple_ddm_model"
      ]
    },
    {
      "cell_type": "markdown",
      "id": "5c3cf6d6",
      "metadata": {
        "id": "5c3cf6d6"
      },
      "source": [
        "We see that in our case, `infer_data_simple_ddm_model` contains four basic types of data (note: this is extensible!)\n",
        "\n",
        "- `posterior`\n",
        "- `log_likelihood`\n",
        "- `sample_stats`\n",
        "- `observed_data`\n",
        "\n",
        "The `posterior` object contains our traces for each of the parameters in the model. The `log_likelihood` field contains the trial wise log-likelihoods for each sample from the posterior. The `sample_stats` field contains information about the sampler run. This can be important for chain diagnostics, but we will not dwell on this here. Finally we retreive our `observed_data`.\n"
      ]
    },
    {
      "cell_type": "markdown",
      "id": "a9882230-0c70-45dc-8313-dd60385f20cc",
      "metadata": {
        "id": "a9882230-0c70-45dc-8313-dd60385f20cc"
      },
      "source": [
        "### Basic Manipulation"
      ]
    },
    {
      "cell_type": "markdown",
      "id": "bb86e16e-abb3-4b48-bf27-ec0559a8759d",
      "metadata": {
        "id": "bb86e16e-abb3-4b48-bf27-ec0559a8759d"
      },
      "source": [
        "#### Accessing groups and variables"
      ]
    },
    {
      "cell_type": "code",
      "execution_count": null,
      "id": "2b11a7a4-cebc-4860-bec5-120683d1d893",
      "metadata": {
        "id": "2b11a7a4-cebc-4860-bec5-120683d1d893"
      },
      "outputs": [],
      "source": [
        "infer_data_simple_ddm_model.posterior"
      ]
    },
    {
      "cell_type": "code",
      "execution_count": null,
      "id": "22f77bc6-89ab-490c-a9c2-51736c4768ba",
      "metadata": {
        "id": "22f77bc6-89ab-490c-a9c2-51736c4768ba"
      },
      "outputs": [],
      "source": [
        "infer_data_simple_ddm_model.posterior.a.head()"
      ]
    },
    {
      "cell_type": "code",
      "execution_count": null,
      "id": "9b9f0a6e-2055-40f1-8d78-2160eba2862e",
      "metadata": {
        "id": "9b9f0a6e-2055-40f1-8d78-2160eba2862e"
      },
      "outputs": [],
      "source": [
        "infer_data_simple_ddm_model.posterior.a.head()"
      ]
    },
    {
      "cell_type": "markdown",
      "id": "91fff235-0325-4f54-9445-1981e4c099c5",
      "metadata": {
        "id": "91fff235-0325-4f54-9445-1981e4c099c5"
      },
      "source": [
        "To simply access the underlying data as a `numpy.ndarray`, we can use `.values` (as e.g. when using `pandas.DataFrame` objects)."
      ]
    },
    {
      "cell_type": "code",
      "execution_count": null,
      "id": "cb441487-55ce-46ef-9864-47cc011a07d8",
      "metadata": {
        "id": "cb441487-55ce-46ef-9864-47cc011a07d8"
      },
      "outputs": [],
      "source": [
        "type(infer_data_simple_ddm_model.posterior.a.values)"
      ]
    },
    {
      "cell_type": "markdown",
      "id": "0b987685-6b8c-4542-8e5f-a52a0e6bc3a4",
      "metadata": {
        "id": "0b987685-6b8c-4542-8e5f-a52a0e6bc3a4"
      },
      "source": [
        "#### Combine `chain` and `draw` dimension\n",
        "\n",
        "When operating directly on the `xarray`, you will often find it useful to collapse the `chain` and `draw` coordinates into a single coordinate.\n",
        "**Arviz** makes this easy via the `extract` method."
      ]
    },
    {
      "cell_type": "code",
      "execution_count": null,
      "id": "3e9c761e-25d0-4157-a9e6-7d54148111ff",
      "metadata": {
        "id": "3e9c761e-25d0-4157-a9e6-7d54148111ff"
      },
      "outputs": [],
      "source": [
        "idata_extracted = az.extract(infer_data_simple_ddm_model)\n",
        "idata_extracted"
      ]
    },
    {
      "cell_type": "markdown",
      "id": "8a010409-b68f-455d-a2ba-abbc88e47f01",
      "metadata": {
        "id": "8a010409-b68f-455d-a2ba-abbc88e47f01"
      },
      "source": [
        "Since *Arviz* really just calls the `.stack()` method from *xarray*, here the corresponding example using the lower level `xarray` interface."
      ]
    },
    {
      "cell_type": "code",
      "execution_count": null,
      "id": "0f7ddb40-15fd-4231-80a6-fab9e3d1513f",
      "metadata": {
        "id": "0f7ddb40-15fd-4231-80a6-fab9e3d1513f"
      },
      "outputs": [],
      "source": [
        "infer_data_simple_ddm_model.posterior.stack(sample=('chain', 'draw'))"
      ]
    },
    {
      "cell_type": "markdown",
      "id": "35f12b46",
      "metadata": {
        "id": "35f12b46"
      },
      "source": [
        "### Making use of ArviZ\n",
        "\n",
        "Working with the `InferenceData` directly, is very helpful if you want to include custom computations into your workflow.\n",
        "For a basic Bayesian Workflow however, you will often find that standard functionality available through [ArviZ](https://python.arviz.org/en/stable/)\n",
        "suffices.\n",
        "\n",
        "Below we provide a few examples of useful **Arviz** outputs, which come handy for analyzing your traces (MCMC samples).\n",
        "\n",
        "#### Summary table\n",
        "\n",
        "Let's take a look at a summary table for our posterior."
      ]
    },
    {
      "cell_type": "code",
      "execution_count": null,
      "id": "bf9a4921",
      "metadata": {
        "id": "bf9a4921"
      },
      "outputs": [],
      "source": [
        "az.summary(infer_data_simple_ddm_model,\n",
        "           var_names = [var_name.name for var_name in simple_ddm_model.pymc_model.free_RVs])"
      ]
    },
    {
      "cell_type": "markdown",
      "id": "b43bc795",
      "metadata": {
        "id": "b43bc795"
      },
      "source": [
        "This table returns the parameter-wise mean of our posterior and a few extra statistics.\n",
        "\n",
        "Of these extra statistics, the one-stop shop for flagging convergence issues is the `r_hat` value, which\n",
        "is reported in the right-most column.\n",
        "\n",
        "To navigate this statistic, here is a rule of thumb widely used in applied Bayesian statistics.\n",
        "\n",
        "If you find an `r_hat` value `> 1.01`, it warrants investigation."
      ]
    },
    {
      "cell_type": "markdown",
      "id": "990d9097",
      "metadata": {
        "id": "990d9097"
      },
      "source": [
        "#### Trace plot"
      ]
    },
    {
      "cell_type": "code",
      "execution_count": null,
      "id": "b2a25b96",
      "metadata": {
        "id": "b2a25b96"
      },
      "outputs": [],
      "source": [
        "az.plot_trace(\n",
        "    infer_data_simple_ddm_model,  # we exclude the log_likelihood traces here\n",
        "    lines = [(key_, {}, param_dict_init[key_]) for key_ in param_dict_init],\n",
        ")\n",
        "plt.tight_layout()"
      ]
    },
    {
      "cell_type": "markdown",
      "id": "775ab0cb",
      "metadata": {
        "id": "775ab0cb"
      },
      "source": [
        "The `.sample()` function also sets a `trace` attribute, on our `hssm` class, so instead, we could call the plot like so:"
      ]
    },
    {
      "cell_type": "code",
      "execution_count": null,
      "id": "c018d083-d5fb-4a9d-9f89-583a97592dd7",
      "metadata": {
        "id": "c018d083-d5fb-4a9d-9f89-583a97592dd7"
      },
      "outputs": [],
      "source": [
        "az.plot_trace(simple_ddm_model.traces,\n",
        "              lines = [(key_, {}, param_dict_init[key_]) for key_ in param_dict_init],\n",
        "             );"
      ]
    },
    {
      "cell_type": "markdown",
      "id": "0874ffb3",
      "metadata": {
        "id": "0874ffb3"
      },
      "source": [
        "In this tutorial we are most often going to use the latter way of accessing the traces, but there is no preferred option.\n",
        "\n",
        "Let's look at a few more plots."
      ]
    },
    {
      "cell_type": "markdown",
      "id": "d6bebfa8",
      "metadata": {
        "id": "d6bebfa8"
      },
      "source": [
        "#### Forest Plot\n",
        "\n",
        "The forest plot is commonly used for a quick visual check of the marginal posteriors. It is very effective for intuitive communication of results."
      ]
    },
    {
      "cell_type": "code",
      "execution_count": null,
      "id": "5de8f8e3",
      "metadata": {
        "id": "5de8f8e3"
      },
      "outputs": [],
      "source": [
        "az.plot_forest(simple_ddm_model.traces)"
      ]
    },
    {
      "cell_type": "markdown",
      "id": "963b1690-52e9-4fdf-83e2-8afdf556ca97",
      "metadata": {
        "id": "963b1690-52e9-4fdf-83e2-8afdf556ca97"
      },
      "source": [
        "##### Combining Chains\n",
        "By default, chains are separated out into *separate caterpillars*, however\n",
        "sometimes, especially if you are looking at a forest plot which includes many posterior parameters at once, you want to declutter and collapse the chains into single caterpillars.\n",
        "In this case you can `combine` chains instead."
      ]
    },
    {
      "cell_type": "code",
      "execution_count": null,
      "id": "76d0449c-2f7c-48e0-8eac-924eb6769c48",
      "metadata": {
        "id": "76d0449c-2f7c-48e0-8eac-924eb6769c48"
      },
      "outputs": [],
      "source": [
        "az.plot_forest(simple_ddm_model.traces, combined=True)"
      ]
    },
    {
      "cell_type": "markdown",
      "id": "25bda8b3",
      "metadata": {
        "id": "25bda8b3"
      },
      "source": [
        "#### Basic Marginal Posterior Plot\n",
        "\n",
        "Another way to view the marginal posteriors is provided by the `plot_posterior()` function. It shows the mean and by default the $94\\%$ HDIs."
      ]
    },
    {
      "cell_type": "code",
      "execution_count": null,
      "id": "8293e79e",
      "metadata": {
        "id": "8293e79e"
      },
      "outputs": [],
      "source": [
        "az.plot_posterior(simple_ddm_model.traces)"
      ]
    },
    {
      "cell_type": "markdown",
      "id": "ac3ad079-feb2-4a83-9585-83edae1883a5",
      "metadata": {
        "id": "ac3ad079-feb2-4a83-9585-83edae1883a5"
      },
      "source": [
        "Especially for parameter recovery studies, you may want to include **reference values** for the parameters of interest.\n",
        "\n",
        "You can do so using the `ref_val` argument. See the example below:"
      ]
    },
    {
      "cell_type": "code",
      "execution_count": null,
      "id": "a0742e83-3523-484d-a960-d08a0a9312eb",
      "metadata": {
        "id": "a0742e83-3523-484d-a960-d08a0a9312eb"
      },
      "outputs": [],
      "source": [
        "az.plot_posterior(simple_ddm_model.traces,\n",
        "                  ref_val = [param_dict_init[var_name] for var_name in simple_ddm_model.traces.posterior.data_vars])"
      ]
    },
    {
      "cell_type": "markdown",
      "id": "3f705e9b-13c5-4d2f-9fd9-1ccbbced8364",
      "metadata": {
        "id": "3f705e9b-13c5-4d2f-9fd9-1ccbbced8364"
      },
      "source": [
        "Since it is sometimes useful, especially for more complex cases, below an alternative approach in which we pass `ref_val` as a dictionary.\n"
      ]
    },
    {
      "cell_type": "code",
      "execution_count": null,
      "id": "23397920-5ffa-4a58-b477-7f76b0682452",
      "metadata": {
        "id": "23397920-5ffa-4a58-b477-7f76b0682452"
      },
      "outputs": [],
      "source": [
        "az.plot_posterior(simple_ddm_model.traces, ref_val = {'v': [{'ref_val': param_dict_init['v']}],\n",
        "                                                      'a': [{'ref_val': param_dict_init['a']}],\n",
        "                                                      'z': [{'ref_val': param_dict_init['z']}],\n",
        "                                                      't': [{'ref_val': param_dict_init['t']}]})"
      ]
    },
    {
      "cell_type": "markdown",
      "id": "56f7bde4",
      "metadata": {
        "id": "56f7bde4"
      },
      "source": [
        "#### Posterior Pair Plot"
      ]
    },
    {
      "cell_type": "markdown",
      "id": "ec85e32b",
      "metadata": {
        "id": "ec85e32b"
      },
      "source": [
        "The posterior pair plot show us bi-variate traceplots and is useful to check for simple parameter tradeoffs that may emerge. The simplest (linear) tradeoff may be a high correlation between two parameters.\n",
        "This can be very helpful in diagnosing sampler issues for example. If such tradeoffs exist, one often see extremely *wide marginal distributions*.\n",
        "\n",
        "In our `ddm` example, we see a little bit of a tradeoff between `a` and `t`, as well as between `v` and `z`, however nothing concerning."
      ]
    },
    {
      "cell_type": "code",
      "execution_count": null,
      "id": "2fc4b3e2",
      "metadata": {
        "id": "2fc4b3e2"
      },
      "outputs": [],
      "source": [
        "az.plot_pair(simple_ddm_model.traces,\n",
        "             kind=\"kde\",\n",
        "             reference_values = param_dict_init,\n",
        "             marginals = True);"
      ]
    },
    {
      "cell_type": "markdown",
      "id": "50101465",
      "metadata": {
        "id": "50101465"
      },
      "source": [
        "The few plot we showed here are just the beginning: [ArviZ](https://python.arviz.org/en/stable/) has a much broader spectrum of graphs and other convenience function available. Just check the [documentation](https://python.arviz.org/en/stable/)."
      ]
    },
    {
      "cell_type": "markdown",
      "id": "bf8ae160-3849-498d-b0bb-86d9e3ea5ea9",
      "metadata": {
        "id": "bf8ae160-3849-498d-b0bb-86d9e3ea5ea9"
      },
      "source": [
        "### Compute Quantities from idata\n",
        "\n",
        "#### Example: Mean and Covariance of Posterior Parameters\n",
        "\n",
        "As a simple example, let us calculate the covariance matrix for our posterior samples."
      ]
    },
    {
      "cell_type": "code",
      "execution_count": null,
      "id": "6bcbeebb-821e-4af3-8fcc-e97e5a609aba",
      "metadata": {
        "id": "6bcbeebb-821e-4af3-8fcc-e97e5a609aba"
      },
      "outputs": [],
      "source": [
        "# Calculate the correlation matrix\n",
        "posterior_correlation_matrix = np.corrcoef(np.stack([idata_extracted[var_].values for var_ in idata_extracted.data_vars.variables]))\n",
        "num_vars = posterior_correlation_matrix.shape[0]\n",
        "\n",
        "# Make heatmap\n",
        "fig, ax = plt.subplots(1,1)\n",
        "cax = ax.imshow(posterior_correlation_matrix, cmap='coolwarm', vmin=-1, vmax=1)\n",
        "fig.colorbar(cax, ax=ax)\n",
        "ax.set_title(\"Posterior Correlation Matrix\")\n",
        "\n",
        "# Add ticks\n",
        "ax.set_xticks(range(posterior_correlation_matrix.shape[0]))\n",
        "ax.set_xticklabels([var_ for var_ in idata_extracted.data_vars.variables])\n",
        "ax.set_yticks(range(posterior_correlation_matrix.shape[0]))\n",
        "ax.set_yticklabels([var_ for var_ in idata_extracted.data_vars.variables])\n",
        "\n",
        "# Annotate heatmap\n",
        "for i in range(num_vars):\n",
        "    for j in range(num_vars):\n",
        "        ax.text(j, i, f'{posterior_correlation_matrix[i, j]:.2f}', ha='center', va='center', color='black')\n",
        "\n",
        "plt.show()"
      ]
    },
    {
      "cell_type": "markdown",
      "id": "0dfe0244-7d58-452d-9b32-7a9e9bb77b9b",
      "metadata": {
        "tags": [],
        "id": "0dfe0244-7d58-452d-9b32-7a9e9bb77b9b"
      },
      "source": [
        "## HSSM Model based on LAN likelihood\n",
        "\n",
        "With HSSM you can switch between pre-supplied models with a simple change of argument. The type of likelihood that will be accessed might change in the background for you.\n",
        "\n",
        "Here we see an example in which the underlying likelihood is now a [LAN](https://elifesciences.org/articles/65074).\n",
        "\n",
        "We will talk more about different types of likelihood functions and backends later in the tutorial. For now just keep the following in mind:\n",
        "\n",
        "There are three types of likelihoods\n",
        "\n",
        "1. `analytic`\n",
        "2. `approx_differentiable`\n",
        "3. `blackbox`\n",
        "\n",
        "To check which type is used in your HSSM model simple type:"
      ]
    },
    {
      "cell_type": "code",
      "execution_count": null,
      "id": "18164585",
      "metadata": {
        "id": "18164585"
      },
      "outputs": [],
      "source": [
        "simple_ddm_model.loglik_kind"
      ]
    },
    {
      "cell_type": "markdown",
      "id": "45b65972",
      "metadata": {
        "id": "45b65972"
      },
      "source": [
        "Ah... we were using an `analytical` likelihood with the DDM model in the last section.\n",
        "Now let's see something different!"
      ]
    },
    {
      "cell_type": "markdown",
      "id": "ebe18bea-b7f4-4542-8293-7374f81c670e",
      "metadata": {
        "tags": [],
        "id": "ebe18bea-b7f4-4542-8293-7374f81c670e"
      },
      "source": [
        "### Simulating Angle Data\n",
        "\n",
        "Again, let us simulate a simple dataset. This time we will use the `angle` model (passed via the `model` argument to the `simulator()` function).\n",
        "\n",
        "\n",
        "This model is distinguished from the basic `ddm` model by an additional `theta` parameter which specifies the angle with which the decision boundaries collapse over time.\n",
        "\n",
        "<center> <img src=\"https://github.com/lnccbrown/HSSM/blob/srndna24/docs/tutorials/images/ANGLE_with_params_pic.png?raw=1\" height=\"400\" width=\"400\"> </center>\n",
        "\n",
        "DDMs with collapsing bounds have been of significant interest in the theoretical literature, but applications were rare due to a lack of analytical likelihoods. HSSM facilitates inference with such models via the our `approx_differentiable` likelihoods. HSSM ships with a few predefined models based on [LANs](https://elifesciences.org/articles/65074), but really we don't want to overemphasize those. They reflect the research interest of our and adjacent labs to a great extend.\n",
        "\n",
        "Instead, we encourage the community to contribute to this model reservoir (more on this later)."
      ]
    },
    {
      "cell_type": "code",
      "execution_count": null,
      "id": "32ce0b9a-f47b-40ff-96fd-85abb7cbeb9f",
      "metadata": {
        "id": "32ce0b9a-f47b-40ff-96fd-85abb7cbeb9f"
      },
      "outputs": [],
      "source": [
        "# Simulate angle data\n",
        "v_angle_true = 0.5\n",
        "a_angle_true = 1.5\n",
        "z_angle_true = 0.5\n",
        "t_angle_true = 0.2\n",
        "theta_angle_true = 0.2\n",
        "\n",
        "param_dict_angle = dict(v = 0.5,\n",
        "                        a = 1.5,\n",
        "                        z = 0.5,\n",
        "                        t = 0.2,\n",
        "                        theta = 0.2)\n",
        "\n",
        "lines_list_angle = [(key_, {}, param_dict_angle[key_]) for key_ in param_dict_angle]\n",
        "\n",
        "dataset_angle = hssm.simulate_data(model = 'angle',\n",
        "                                   theta = param_dict_angle,\n",
        "                                   size = 1000)"
      ]
    },
    {
      "cell_type": "markdown",
      "id": "17a67a27",
      "metadata": {
        "id": "17a67a27"
      },
      "source": [
        "We pass a single additional argument to our `HSSM` class and set `model='angle'`."
      ]
    },
    {
      "cell_type": "code",
      "execution_count": null,
      "id": "9e2ff936",
      "metadata": {
        "id": "9e2ff936"
      },
      "outputs": [],
      "source": [
        "model_angle = hssm.HSSM(data=dataset_angle, model=\"angle\")\n",
        "\n",
        "model_angle"
      ]
    },
    {
      "cell_type": "markdown",
      "id": "223b91f2-ffd4-473f-a93f-5ea266c703a4",
      "metadata": {
        "id": "223b91f2-ffd4-473f-a93f-5ea266c703a4"
      },
      "source": [
        "The model graph now show us an additional parameter `theta`!"
      ]
    },
    {
      "cell_type": "code",
      "execution_count": null,
      "id": "116bc47f-dd87-4857-ae5a-d480fae6e3dc",
      "metadata": {
        "id": "116bc47f-dd87-4857-ae5a-d480fae6e3dc"
      },
      "outputs": [],
      "source": [
        "model_angle.graph()"
      ]
    },
    {
      "cell_type": "markdown",
      "id": "b92ed46d",
      "metadata": {
        "id": "b92ed46d"
      },
      "source": [
        "Let's check the type of likelihood that is used under the hood ..."
      ]
    },
    {
      "cell_type": "code",
      "execution_count": null,
      "id": "a8632654",
      "metadata": {
        "id": "a8632654"
      },
      "outputs": [],
      "source": [
        "model_angle.loglik_kind"
      ]
    },
    {
      "cell_type": "markdown",
      "id": "953bae6c",
      "metadata": {
        "id": "953bae6c"
      },
      "source": [
        "Ok so here we rely on a likelihood of the `approx_differentiable` kind.\n",
        "\n",
        "As discussed, with the initial set of pre-supplied likelihoods, this implies that we are using a [LAN](https://elifesciences.org/articles/65074) in the background."
      ]
    },
    {
      "cell_type": "code",
      "execution_count": null,
      "id": "c4325015-1aec-4791-9be6-800d3e60ed4b",
      "metadata": {
        "id": "c4325015-1aec-4791-9be6-800d3e60ed4b"
      },
      "outputs": [],
      "source": [
        "jax.config.update(\"jax_enable_x64\", False)\n",
        "infer_data_angle = model_angle.sample(\n",
        "    sampler=\"nuts_numpyro\",\n",
        "    chains=2,\n",
        "    cores=2,\n",
        "    draws=500,\n",
        "    tune=500,\n",
        "    idata_kwargs=dict(log_likelihood=False),  # no need to return likelihoods here\n",
        ")"
      ]
    },
    {
      "cell_type": "code",
      "execution_count": null,
      "id": "220f57bf",
      "metadata": {
        "id": "220f57bf"
      },
      "outputs": [],
      "source": [
        "az.plot_trace(model_angle.traces, lines = lines_list_angle)\n",
        "plt.tight_layout()"
      ]
    },
    {
      "cell_type": "markdown",
      "id": "095fefbd-522e-47e2-88b9-0290b50356db",
      "metadata": {
        "id": "095fefbd-522e-47e2-88b9-0290b50356db"
      },
      "source": [
        "### EXERCISE 1"
      ]
    },
    {
      "cell_type": "markdown",
      "id": "9657982b-3ff6-4c47-8c34-c7858b467694",
      "metadata": {
        "id": "9657982b-3ff6-4c47-8c34-c7858b467694"
      },
      "source": [
        "We receive two datasets from a pilot study.\n",
        "The pilot participant needed to complete a dot-motion task under two conditions.\n",
        "\n",
        "`Condition 1` differs from `Condition 2` in the following ways:\n",
        "    - The motion direction across trials is a bit biased in `Condition 2`, but at chance in `Condition 1`\n",
        "    - The difficulty level of `Condition 2` is a bit harder than `Condition 1`\n",
        "\n",
        "Our collaborator asks us to check that if we fit a `ddm` model to each condition, can we:\n",
        "\n",
        "1. Get roughly the expected type of effects on parameters across conditions (build one hssm model for each condition)\n",
        "2. Compute the corresponding Bayesian t-test (using our knowledge of idata)\n",
        "\n",
        "\n",
        "**Q1**:\n",
        "\n",
        "Which parameters do you think will be affected by switching from `Condition 1` to `Condition 2`, and which do you think will remain constant?"
      ]
    },
    {
      "cell_type": "code",
      "execution_count": null,
      "id": "9380082b-0060-4ec9-a512-fcdd2afb336d",
      "metadata": {
        "id": "9380082b-0060-4ec9-a512-fcdd2afb336d"
      },
      "outputs": [],
      "source": [
        "ex1_condition_1"
      ]
    },
    {
      "cell_type": "code",
      "execution_count": null,
      "id": "42f42211-520d-4768-b2d0-b887218a3a1b",
      "metadata": {
        "id": "42f42211-520d-4768-b2d0-b887218a3a1b"
      },
      "outputs": [],
      "source": [
        "ex1_condition_2"
      ]
    },
    {
      "cell_type": "code",
      "execution_count": null,
      "id": "50576d99-289e-40e6-8195-f0d641f9b261",
      "metadata": {
        "id": "50576d99-289e-40e6-8195-f0d641f9b261"
      },
      "outputs": [],
      "source": [
        "plt.hist(ex1_condition_1['rt'] * ex1_condition_1['response'],\n",
        "         histtype='step', bins = 40, density=True)\n",
        "plt.xlabel('rt')\n",
        "plt.ylabel('density')\n",
        "plt.xlim(-8, 8)"
      ]
    },
    {
      "cell_type": "code",
      "execution_count": null,
      "id": "3be57d20-df6a-4cbb-98e3-d968902c48ef",
      "metadata": {
        "id": "3be57d20-df6a-4cbb-98e3-d968902c48ef"
      },
      "outputs": [],
      "source": [
        "plt.hist(ex1_condition_2['rt'] * ex1_condition_2['response'],\n",
        "         histtype='step', bins = 40, density=True)\n",
        "plt.xlabel('rt')\n",
        "plt.ylabel('density')\n",
        "plt.xlim(-8, 8)"
      ]
    },
    {
      "cell_type": "code",
      "execution_count": null,
      "id": "73257d6b-580a-4448-9cc3-9234df9bb784",
      "metadata": {
        "id": "73257d6b-580a-4448-9cc3-9234df9bb784"
      },
      "outputs": [],
      "source": [
        "# your code"
      ]
    },
    {
      "cell_type": "markdown",
      "id": "c2e80ed0",
      "metadata": {
        "id": "c2e80ed0"
      },
      "source": [
        "## Choosing Priors"
      ]
    },
    {
      "cell_type": "markdown",
      "id": "f3f238e8",
      "metadata": {
        "id": "f3f238e8"
      },
      "source": [
        "HSSM allows you to specify priors quite freely. If you used HDDM previously, you may feel relieved to read that your hands are now untied!\n",
        "\n",
        "\n",
        "<center><img src=\"https://media.giphy.com/media/99uUPYHtmaJS8/giphy.gif\" style=\"margin:auto\" height=\"400\" width=\"400\"/></center>\n",
        "\n",
        "With HSSM we have multiple routes to priors. But let's first consider a special case:"
      ]
    },
    {
      "cell_type": "markdown",
      "id": "4d848f3a",
      "metadata": {
        "id": "4d848f3a"
      },
      "source": [
        "### Fixing a parameter to a given value"
      ]
    },
    {
      "cell_type": "markdown",
      "id": "48047eb9",
      "metadata": {
        "id": "48047eb9"
      },
      "source": [
        "Assume that instead of fitting all parameters of the DDM,\n",
        "\n",
        "<center> <img src=\"https://github.com/lnccbrown/HSSM/blob/srndna24/docs/tutorials/images/DDM_with_params_pic.png?raw=1\" height=\"400\" width=\"400\"> </center>\n",
        "\n",
        "we instead want to fit only the `v` (drift) parameter, setting all other parameters to fixed scalar values.\n",
        "\n",
        "<center> <img src=\"https://github.com/lnccbrown/HSSM/blob/srndna24/docs/tutorials/images/DDM_only_v_pic.png?raw=1\" height=\"400\" width=\"400\"> </center>\n",
        "\n",
        "HSSM makes this extremely easy!"
      ]
    },
    {
      "cell_type": "code",
      "execution_count": null,
      "id": "485902c5",
      "metadata": {
        "id": "485902c5"
      },
      "outputs": [],
      "source": [
        "ddm_model_only_v = hssm.HSSM(data=dataset, model=\"ddm\",\n",
        "                             a = param_dict_init['a'],\n",
        "                             t = param_dict_init['t'],\n",
        "                             z = param_dict_init['z'])"
      ]
    },
    {
      "cell_type": "markdown",
      "id": "992f01d9-ad53-4842-923b-01539ba9a6ee",
      "metadata": {
        "id": "992f01d9-ad53-4842-923b-01539ba9a6ee"
      },
      "source": [
        "Since we fix all but one parameter, we therefore estimate only one parameter. This should be reflected in our model graph, where we expect only one free random variable `v`:"
      ]
    },
    {
      "cell_type": "code",
      "execution_count": null,
      "id": "c06f17c1",
      "metadata": {
        "id": "c06f17c1"
      },
      "outputs": [],
      "source": [
        "ddm_model_only_v.graph()"
      ]
    },
    {
      "cell_type": "code",
      "execution_count": null,
      "id": "2b2f9cea",
      "metadata": {
        "id": "2b2f9cea"
      },
      "outputs": [],
      "source": [
        "ddm_model_only_v.sample(\n",
        "    sampler=\"nuts_numpyro\",\n",
        "    chains=2,\n",
        "    cores=2,\n",
        "    draws=500,\n",
        "    tune=500,\n",
        "    idata_kwargs=dict(log_likelihood=False),  # no need to return likelihoods here\n",
        ")"
      ]
    },
    {
      "cell_type": "code",
      "execution_count": null,
      "id": "26c18b53",
      "metadata": {
        "id": "26c18b53"
      },
      "outputs": [],
      "source": [
        "az.plot_trace(ddm_model_only_v.traces.posterior, lines = [('v', {}, param_dict_init['v'])]);"
      ]
    },
    {
      "cell_type": "markdown",
      "id": "73509626-8ec2-4034-a8ab-1fe8453990f6",
      "metadata": {
        "id": "73509626-8ec2-4034-a8ab-1fe8453990f6"
      },
      "source": [
        "Instead of the trace on the right, a useful alternative / complement is the **rank plot**.\n",
        "As a rule of thumb, if the rank plots within chains look *uniformly distributed*, then our chains generally exhibit *good mixing*."
      ]
    },
    {
      "cell_type": "code",
      "execution_count": null,
      "id": "3d87827b-07c5-4210-97ad-dd297c519610",
      "metadata": {
        "id": "3d87827b-07c5-4210-97ad-dd297c519610"
      },
      "outputs": [],
      "source": [
        "az.plot_trace(ddm_model_only_v.traces, kind = 'rank_bars')"
      ]
    },
    {
      "cell_type": "markdown",
      "id": "dd48a34f",
      "metadata": {
        "id": "dd48a34f"
      },
      "source": [
        "### Named priors\n",
        "\n",
        "We can choose any [PyMC](https://www.pymc.io/welcome.html) `Distribution` to specify a prior for a given parameter.\n",
        "\n",
        "Even better, if natural *parameter bounds* are provided, HSSM *automatically truncates the prior distribution* so that it respect these bounds.\n",
        "\n",
        "Below is an example in which we specify a *Normal* prior on the `v` parameter of the DDM.\n",
        "\n",
        "We choose a *ridiculously low* $\\sigma$ value, to illustrate it's regularizing effect on the parameter (just so we see a difference and you are convinced that something changed)."
      ]
    },
    {
      "cell_type": "code",
      "execution_count": null,
      "id": "1d8cd052",
      "metadata": {
        "id": "1d8cd052"
      },
      "outputs": [],
      "source": [
        "model_normal = hssm.HSSM(\n",
        "    data=dataset,\n",
        "    include=[\n",
        "        {\n",
        "            \"name\": \"v\",\n",
        "            \"prior\": {\"name\": \"Normal\", \"mu\": 0, \"sigma\": 0.01},\n",
        "        }\n",
        "    ],\n",
        ")"
      ]
    },
    {
      "cell_type": "code",
      "execution_count": null,
      "id": "b135a951",
      "metadata": {
        "id": "b135a951"
      },
      "outputs": [],
      "source": [
        "model_normal"
      ]
    },
    {
      "cell_type": "code",
      "execution_count": null,
      "id": "96cdad7b",
      "metadata": {
        "id": "96cdad7b"
      },
      "outputs": [],
      "source": [
        "infer_data_normal = model_normal.sample(\n",
        "    sampler=\"nuts_numpyro\",\n",
        "    chains=2,\n",
        "    cores=2,\n",
        "    draws=500,\n",
        "    tune=500,\n",
        "    idata_kwargs=dict(log_likelihood=False),  # no need to return likelihoods here\n",
        ")"
      ]
    },
    {
      "cell_type": "code",
      "execution_count": null,
      "id": "297f13f5",
      "metadata": {
        "id": "297f13f5"
      },
      "outputs": [],
      "source": [
        "az.plot_trace(model_normal.traces,\n",
        "              lines = [(key_, {}, param_dict_init[key_]) for key_ in param_dict_init])"
      ]
    },
    {
      "cell_type": "markdown",
      "id": "43325aad",
      "metadata": {
        "id": "43325aad"
      },
      "source": [
        "Observe how we reused our previous dataset with underlying parameters\n",
        "\n",
        "- `v = 0.5`\n",
        "- `a = 1.5`\n",
        "- `z = 0.5`\n",
        "- `t = 0.2`\n",
        "\n",
        "In contrast to our previous sampler round, in which we used Uniform priors, here the `v` estimate is shrunk severley towared $0$ and the `t` and `z` parameter estimates are very biased to make up for this distortion."
      ]
    },
    {
      "cell_type": "markdown",
      "id": "c0e5ef71-c461-4b93-8e41-278f89ddb38d",
      "metadata": {
        "id": "c0e5ef71-c461-4b93-8e41-278f89ddb38d"
      },
      "source": [
        "## HSSM Model with Regression\n",
        "\n",
        "\n",
        "<center> <img src=\"https://github.com/lnccbrown/HSSM/blob/srndna24/docs/tutorials/images/bambi.png?raw=1\" height=\"200\" width=\"200\"> </center>\n",
        "\n",
        "Crucial to the scope of HSSM is the ability to link parameters with trial-by-trial covariates via (hierarchical, but more on this later) general linear models.\n",
        "\n",
        "In this section we explore how HSSM deals with these models. No big surprise here... it's simple!"
      ]
    },
    {
      "cell_type": "markdown",
      "id": "fdc351b5-50dc-4bfa-8ab7-790162574d30",
      "metadata": {
        "id": "fdc351b5-50dc-4bfa-8ab7-790162574d30"
      },
      "source": [
        "### Case 1: One parameter is a Regression Target"
      ]
    },
    {
      "cell_type": "markdown",
      "id": "9b482ac3",
      "metadata": {
        "id": "9b482ac3"
      },
      "source": [
        "#### Simulating Data"
      ]
    },
    {
      "cell_type": "markdown",
      "id": "61b59d64",
      "metadata": {
        "id": "61b59d64"
      },
      "source": [
        "Let's first simulate some data, where the trial-by-trial parameters of the `v` parameter in our model are driven by a simple linear regression model.\n",
        "\n",
        "\n",
        "The regression model is driven by two (random) covariates `x` and `y`, respectively with coefficients of $0.8$ and $0.3$ which are also simulated below.\n",
        "We set the intercept to $0.3$.\n",
        "\n",
        "The rest of the parameters are fixed to single values as before."
      ]
    },
    {
      "cell_type": "code",
      "execution_count": null,
      "id": "1df5b0c8-e724-4cee-8b0e-dd3fb68cfd3b",
      "metadata": {
        "id": "1df5b0c8-e724-4cee-8b0e-dd3fb68cfd3b"
      },
      "outputs": [],
      "source": [
        "# Set up trial by trial parameters\n",
        "v_intercept = 0.3\n",
        "x = np.random.uniform(-1, 1, size=1000)\n",
        "v_x = 0.8\n",
        "y = np.random.uniform(-1, 1, size=1000)\n",
        "v_y = 0.3\n",
        "v_reg_v = v_intercept + (v_x * x) + (v_y * y)\n",
        "\n",
        "# rest\n",
        "a_reg_v = 1.5\n",
        "z_reg_v = 0.5\n",
        "t_reg_v = 0.1\n",
        "\n",
        "param_dict_reg_v = dict(a = 1.5,\n",
        "                        z = 0.5,\n",
        "                        t = 0.1,\n",
        "                        v = v_reg_v,\n",
        "                        v_x = v_x,\n",
        "                        v_y = v_y,\n",
        "                        v_Intercept = v_intercept,\n",
        "                        theta = 0.0)\n",
        "\n",
        "# base dataset\n",
        "dataset_reg_v = hssm.simulate_data(model = 'ddm',\n",
        "                                   theta = param_dict_reg_v,\n",
        "                                   size = 1)\n",
        "\n",
        "# Adding covariates into the datsaframe\n",
        "dataset_reg_v['x'] = x\n",
        "dataset_reg_v['y'] = y"
      ]
    },
    {
      "cell_type": "markdown",
      "id": "84e3d5a4-f709-421f-a935-5867974ab56a",
      "metadata": {
        "id": "84e3d5a4-f709-421f-a935-5867974ab56a"
      },
      "source": [
        "#### Basic Model"
      ]
    },
    {
      "cell_type": "markdown",
      "id": "813fd418",
      "metadata": {
        "id": "813fd418"
      },
      "source": [
        "We now create the `HSSM` model.\n",
        "\n",
        "Notice how we set the `include` argument. The include argument expects a list of dictionaries, one dictionary for each parameter to be specified via a regression model.\n",
        "\n",
        "Four `keys` are expected to be set:\n",
        "\n",
        "- The `name` of the parameter,\n",
        "- Potentially a `prior` for each of the regression level parameters ($\\beta$'s),\n",
        "- The regression `formula`\n",
        "- A `link` function.\n",
        "\n",
        "The regression formula follows the syntax in the [formulae](https://pypi.org/project/formulae/) python package (as used by the [Bambi](https://bambinos.github.io/bambi/) package for building Bayesian Hierarchical Regression Models.\n",
        "\n",
        "[Bambi](https://bambinos.github.io/bambi/) forms the main model-construction backend of HSSM."
      ]
    },
    {
      "cell_type": "code",
      "execution_count": null,
      "id": "9059f045-ab0a-4a98-aa85-4e82cde214be",
      "metadata": {
        "id": "9059f045-ab0a-4a98-aa85-4e82cde214be"
      },
      "outputs": [],
      "source": [
        "model_reg_v_simple = hssm.HSSM(\n",
        "    data = dataset_reg_v,\n",
        "    include = [{\"name\": \"v\",\n",
        "                \"formula\": \"v ~ 1 + x + y\"}])"
      ]
    },
    {
      "cell_type": "code",
      "execution_count": null,
      "id": "6ccd9f3d-b421-4a39-8f84-a98a46b4c368",
      "metadata": {
        "id": "6ccd9f3d-b421-4a39-8f84-a98a46b4c368"
      },
      "outputs": [],
      "source": [
        "model_reg_v_simple"
      ]
    },
    {
      "cell_type": "markdown",
      "id": "6764041c-1cf3-4157-be42-6682926ca316",
      "metadata": {
        "id": "6764041c-1cf3-4157-be42-6682926ca316"
      },
      "source": [
        "##### `Param` class\n",
        "As illustrated below, there is an alternative way of specifying the parameter specific data via the `Param` class."
      ]
    },
    {
      "cell_type": "code",
      "execution_count": null,
      "id": "f4a62a18-3c22-458d-b0e5-5eda63d70a08",
      "metadata": {
        "id": "f4a62a18-3c22-458d-b0e5-5eda63d70a08"
      },
      "outputs": [],
      "source": [
        "model_reg_v_simple_new = hssm.HSSM(\n",
        "    data = dataset_reg_v,\n",
        "    include = [hssm.Param(name = 'v', formula='v ~ 1 + x + y')])"
      ]
    },
    {
      "cell_type": "code",
      "execution_count": null,
      "id": "f3001d5e-299f-4f9a-8259-4585c51e809a",
      "metadata": {
        "id": "f3001d5e-299f-4f9a-8259-4585c51e809a"
      },
      "outputs": [],
      "source": [
        "model_reg_v_simple_new"
      ]
    },
    {
      "cell_type": "code",
      "execution_count": null,
      "id": "caa68d94-ee27-4843-bb5b-f397d1730cef",
      "metadata": {
        "id": "caa68d94-ee27-4843-bb5b-f397d1730cef"
      },
      "outputs": [],
      "source": [
        "model_reg_v_simple.graph()"
      ]
    },
    {
      "cell_type": "code",
      "execution_count": null,
      "id": "5f9ec90c-9ea5-44e4-b314-f3a91784c353",
      "metadata": {
        "id": "5f9ec90c-9ea5-44e4-b314-f3a91784c353"
      },
      "outputs": [],
      "source": [
        "print(model_reg_v_simple)"
      ]
    },
    {
      "cell_type": "markdown",
      "id": "3c3d8992-5764-4d27-bf28-d366f90084d3",
      "metadata": {
        "id": "3c3d8992-5764-4d27-bf28-d366f90084d3"
      },
      "source": [
        "#### Custom Model"
      ]
    },
    {
      "cell_type": "markdown",
      "id": "5758263c-03ba-4f0a-bb2c-d8fb60a28ba2",
      "metadata": {
        "id": "5758263c-03ba-4f0a-bb2c-d8fb60a28ba2"
      },
      "source": [
        "These were the defaults, with a little extra labor, we can e.g. customize the choice of priors for each parameter in the model."
      ]
    },
    {
      "cell_type": "code",
      "execution_count": null,
      "id": "f2c05579-67e8-45e8-99eb-b693b9fda79a",
      "metadata": {
        "id": "f2c05579-67e8-45e8-99eb-b693b9fda79a"
      },
      "outputs": [],
      "source": [
        "model_reg_v = hssm.HSSM(\n",
        "    data=dataset_reg_v,\n",
        "    include=[\n",
        "        {\n",
        "            \"name\": \"v\",\n",
        "            \"prior\": {\n",
        "                \"Intercept\": {\"name\": \"Uniform\", \"lower\": -3.0, \"upper\": 3.0},\n",
        "                \"x\": {\"name\": \"Uniform\", \"lower\": -1.0, \"upper\": 1.0},\n",
        "                \"y\": {\"name\": \"Uniform\", \"lower\": -1.0, \"upper\": 1.0},\n",
        "            },\n",
        "            \"formula\": \"v ~ 1 + x + y\",\n",
        "            \"link\": \"identity\",\n",
        "        }\n",
        "    ],\n",
        ")"
      ]
    },
    {
      "cell_type": "code",
      "execution_count": null,
      "id": "55ea5591",
      "metadata": {
        "id": "55ea5591"
      },
      "outputs": [],
      "source": [
        "model_reg_v"
      ]
    },
    {
      "cell_type": "markdown",
      "id": "ce8373cb",
      "metadata": {
        "id": "ce8373cb"
      },
      "source": [
        "Notice how `v` is now set as a regression."
      ]
    },
    {
      "cell_type": "code",
      "execution_count": null,
      "id": "f9030902-6d91-4722-b4f6-4237e5763103",
      "metadata": {
        "id": "f9030902-6d91-4722-b4f6-4237e5763103"
      },
      "outputs": [],
      "source": [
        "infer_data_reg_v = model_reg_v.sample(\n",
        "    sampler=\"nuts_numpyro\", chains=1, cores=1, draws=500, tune=500\n",
        ")"
      ]
    },
    {
      "cell_type": "code",
      "execution_count": null,
      "id": "ce5fb2d4-19db-45e0-9fa8-ed6c8a80a979",
      "metadata": {
        "id": "ce5fb2d4-19db-45e0-9fa8-ed6c8a80a979"
      },
      "outputs": [],
      "source": [
        "az.plot_trace(model_reg_v.traces,\n",
        "              var_names = ['~v'],\n",
        "              lines = [(key_, {}, param_dict_reg_v[key_]) for key_ in param_dict_reg_v])\n",
        "plt.tight_layout()"
      ]
    },
    {
      "cell_type": "code",
      "execution_count": null,
      "id": "9a3ddcec-c2ff-4560-90a8-272c4b113ddd",
      "metadata": {
        "id": "9a3ddcec-c2ff-4560-90a8-272c4b113ddd"
      },
      "outputs": [],
      "source": [
        "# Looks like parameter recovery was successful\n",
        "az.summary(model_reg_v.traces, var_names = ['~v'])"
      ]
    },
    {
      "cell_type": "markdown",
      "id": "0873bdde",
      "metadata": {
        "id": "0873bdde"
      },
      "source": [
        "### Case 2: One parameter is a Regression (LAN)\n",
        "\n",
        "We can do the same thing with the `angle` model.\n",
        "\n",
        "**Note**:\n",
        "\n",
        "Our dataset was generated from the basic DDM here, so since the DDM assumes stable bounds, we expect the `theta` (angle of linear collapse) parameter to be recovered as close to $0$."
      ]
    },
    {
      "cell_type": "code",
      "execution_count": null,
      "id": "6d026f0e",
      "metadata": {
        "id": "6d026f0e"
      },
      "outputs": [],
      "source": [
        "model_reg_v_angle = hssm.HSSM(\n",
        "    data=dataset_reg_v,\n",
        "    model=\"angle\",\n",
        "    include=[\n",
        "        {\n",
        "            \"name\": \"v\",\n",
        "            \"prior\": {\n",
        "                \"Intercept\": {\n",
        "                    \"name\": \"Uniform\",\n",
        "                    \"lower\": -3.0,\n",
        "                    \"upper\": 3.0,\n",
        "                    # \"initval\": 0   # optional --> set the initial value of the parameter (to e.g. avoid boundary violations at the intial sampling step)\n",
        "                },\n",
        "                \"x\": {\n",
        "                    \"name\": \"Uniform\",\n",
        "                    \"lower\": -1.0,\n",
        "                    \"upper\": 1.0,\n",
        "                },\n",
        "                \"y\": {\"name\": \"Uniform\", \"lower\": -1.0, \"upper\": 1.0},\n",
        "            },\n",
        "            \"formula\": \"v ~ 1 + x + y\",\n",
        "            \"link\": \"identity\",\n",
        "        }\n",
        "    ],\n",
        ")"
      ]
    },
    {
      "cell_type": "code",
      "execution_count": null,
      "id": "61ef6468",
      "metadata": {
        "id": "61ef6468"
      },
      "outputs": [],
      "source": [
        "model_reg_v_angle.graph()"
      ]
    },
    {
      "cell_type": "code",
      "execution_count": null,
      "id": "3c33a21f",
      "metadata": {
        "id": "3c33a21f"
      },
      "outputs": [],
      "source": [
        "trace_reg_v_angle = model_reg_v_angle.sample(\n",
        "    sampler=\"nuts_numpyro\", chains=1, cores=1, draws=1000, tune=500\n",
        ")"
      ]
    },
    {
      "cell_type": "code",
      "execution_count": null,
      "id": "999f633c",
      "metadata": {
        "id": "999f633c"
      },
      "outputs": [],
      "source": [
        "az.plot_trace(model_reg_v_angle.traces,\n",
        "              var_names = ['~v'],\n",
        "              lines = [(key_, {}, param_dict_reg_v[key_]) for key_ in param_dict_reg_v])\n",
        "plt.tight_layout()"
      ]
    },
    {
      "cell_type": "markdown",
      "id": "3b5a82d9",
      "metadata": {
        "id": "3b5a82d9"
      },
      "source": [
        "Great! `theta` is recovered correctly, on top of that, we have reasonable recovery for all other parameters!"
      ]
    },
    {
      "cell_type": "markdown",
      "id": "e815f1b4-34fb-4cf1-b59c-408f2b36aef9",
      "metadata": {
        "id": "e815f1b4-34fb-4cf1-b59c-408f2b36aef9"
      },
      "source": [
        "### Case 3: Multiple Parameters are Regression Targets (LAN)"
      ]
    },
    {
      "cell_type": "markdown",
      "id": "4d4191e7",
      "metadata": {
        "id": "4d4191e7"
      },
      "source": [
        "Let's get a bit more ambitious. We may, for example, want to try a regression on a few of our basic model parameters at once. Below we show an example where we model both the `a` and the `v` parameters with a regression.\n",
        "\n",
        "**NOTE:**\n",
        "\n",
        "In our dataset of this section, only `v` is *actually* driven by a trial-by-trial regression, so we expect the regression coefficients for `a` to hover around $0$ in our posterior."
      ]
    },
    {
      "cell_type": "code",
      "execution_count": null,
      "id": "d20835d7-3bd7-4516-8ccd-acd0c467fad0",
      "metadata": {
        "id": "d20835d7-3bd7-4516-8ccd-acd0c467fad0"
      },
      "outputs": [],
      "source": [
        "# Instantiate our hssm model\n",
        "from copy import deepcopy\n",
        "param_dict_reg_v_a = deepcopy(param_dict_reg_v)\n",
        "param_dict_reg_v_a['a_Intercept'] = param_dict_reg_v_a['a']\n",
        "param_dict_reg_v_a['a_x'] = 0\n",
        "param_dict_reg_v_a['a_y'] = 0\n",
        "\n",
        "hssm_reg_v_a_angle = hssm.HSSM(\n",
        "    data=dataset_reg_v,\n",
        "    model=\"angle\",\n",
        "    include=[\n",
        "        {\n",
        "            \"name\": \"v\",\n",
        "            \"prior\": {\n",
        "                \"Intercept\": {\"name\": \"Uniform\", \"lower\": -3.0, \"upper\": 3.0},\n",
        "                \"x\": {\"name\": \"Uniform\", \"lower\": -1.0, \"upper\": 1.0},\n",
        "                \"y\": {\"name\": \"Uniform\", \"lower\": -1.0, \"upper\": 1.0},\n",
        "            },\n",
        "            \"formula\": \"v ~ 1 + x + y\",\n",
        "        },\n",
        "        {\n",
        "            \"name\": \"a\",\n",
        "            \"prior\": {\n",
        "                \"Intercept\": {\"name\": \"Uniform\", \"lower\": 0.5, \"upper\": 3.0},\n",
        "                \"x\": {\"name\": \"Uniform\", \"lower\": -1.0, \"upper\": 1.0},\n",
        "                \"y\": {\"name\": \"Uniform\", \"lower\": -1.0, \"upper\": 1.0},\n",
        "            },\n",
        "            \"formula\": \"a ~ 1 + x + y\",\n",
        "        },\n",
        "    ],\n",
        ")"
      ]
    },
    {
      "cell_type": "code",
      "execution_count": null,
      "id": "91f8d657-96dd-4884-a17d-d25cdbcb14c7",
      "metadata": {
        "id": "91f8d657-96dd-4884-a17d-d25cdbcb14c7"
      },
      "outputs": [],
      "source": [
        "hssm_reg_v_a_angle"
      ]
    },
    {
      "cell_type": "code",
      "execution_count": null,
      "id": "6d3ddf2f-81c0-43e7-b341-747c70db312a",
      "metadata": {
        "id": "6d3ddf2f-81c0-43e7-b341-747c70db312a"
      },
      "outputs": [],
      "source": [
        "hssm_reg_v_a_angle.graph()"
      ]
    },
    {
      "cell_type": "code",
      "execution_count": null,
      "id": "b85a8c55-ee52-481a-9009-74812a6c4006",
      "metadata": {
        "id": "b85a8c55-ee52-481a-9009-74812a6c4006"
      },
      "outputs": [],
      "source": [
        "infer_data_reg_v_a = hssm_reg_v_a_angle.sample(\n",
        "    sampler=\"nuts_numpyro\", chains=2, cores=1, draws=1000, tune=1000\n",
        ")"
      ]
    },
    {
      "cell_type": "code",
      "execution_count": null,
      "id": "98284eb9",
      "metadata": {
        "id": "98284eb9"
      },
      "outputs": [],
      "source": [
        "az.summary(infer_data_reg_v_a, var_names = ['~a', '~v']) # , var_names=[\"~rt,response_a\"])"
      ]
    },
    {
      "cell_type": "code",
      "execution_count": null,
      "id": "bdd66b7c-9040-4294-aacf-1ea800d0d909",
      "metadata": {
        "id": "bdd66b7c-9040-4294-aacf-1ea800d0d909"
      },
      "outputs": [],
      "source": [
        "az.plot_trace(hssm_reg_v_a_angle.traces,\n",
        "              var_names = ['~v', '~a'],\n",
        "              lines = [(key_, {}, param_dict_reg_v_a[key_]) for key_ in param_dict_reg_v_a])\n",
        "plt.tight_layout()"
      ]
    },
    {
      "cell_type": "markdown",
      "id": "3d4fcfad",
      "metadata": {
        "id": "3d4fcfad"
      },
      "source": [
        "We successfully recover our regression betas for `a`! Moreover, no warning signs concerning our chains."
      ]
    },
    {
      "cell_type": "markdown",
      "id": "e4d0dc49-4aa5-454c-b519-2033e2494266",
      "metadata": {
        "id": "e4d0dc49-4aa5-454c-b519-2033e2494266"
      },
      "source": [
        "### Case 4: Categorical covariates"
      ]
    },
    {
      "cell_type": "code",
      "execution_count": null,
      "id": "3c863b96-9782-4faa-baef-4ea8beddb23d",
      "metadata": {
        "id": "3c863b96-9782-4faa-baef-4ea8beddb23d"
      },
      "outputs": [],
      "source": [
        "# Set up trial by trial parameters\n",
        "x = np.random.choice(4, size=1000).astype(int)\n",
        "x_offset = np.array([0, 1, -0.5, 0.75])\n",
        "\n",
        "y = np.random.uniform(-1, 1, size=1000)\n",
        "v_y = 0.3\n",
        "v_reg_v = 0 + (v_y * y) + x_offset[x]\n",
        "\n",
        "# rest\n",
        "a_reg_v = 1.5\n",
        "z_reg_v = 0.5\n",
        "t_reg_v = 0.1\n",
        "\n",
        "# base dataset\n",
        "dataset_reg_v_cat = hssm.simulate_data(model = 'ddm',\n",
        "                                   theta = dict(v = v_reg_v,\n",
        "                                                a = a_reg_v,\n",
        "                                                z = z_reg_v,\n",
        "                                                t = t_reg_v),\n",
        "                                   size = 1)\n",
        "\n",
        "# Adding covariates into the datsaframe\n",
        "dataset_reg_v_cat['x'] = x\n",
        "dataset_reg_v_cat['y'] = y"
      ]
    },
    {
      "cell_type": "code",
      "execution_count": null,
      "id": "30d2f59a-a792-4398-9eba-5dbbaeb14cf3",
      "metadata": {
        "id": "30d2f59a-a792-4398-9eba-5dbbaeb14cf3"
      },
      "outputs": [],
      "source": [
        "model_reg_v_cat = hssm.HSSM(\n",
        "    data=dataset_reg_v_cat,\n",
        "    model=\"angle\",\n",
        "    include=[\n",
        "        {\n",
        "            \"name\": \"v\",\n",
        "            \"formula\": \"v ~ 0 + C(x) + y\",\n",
        "            \"link\": \"identity\",\n",
        "        }\n",
        "    ],\n",
        ")"
      ]
    },
    {
      "cell_type": "code",
      "execution_count": null,
      "id": "0dbcf6fd-c97a-4d37-b2e9-08774a607321",
      "metadata": {
        "id": "0dbcf6fd-c97a-4d37-b2e9-08774a607321"
      },
      "outputs": [],
      "source": [
        "model_reg_v_cat.graph()"
      ]
    },
    {
      "cell_type": "code",
      "execution_count": null,
      "id": "e8fe60ab-4a6e-4e26-aeff-00cc57ea9a61",
      "metadata": {
        "id": "e8fe60ab-4a6e-4e26-aeff-00cc57ea9a61"
      },
      "outputs": [],
      "source": [
        "infer_data_reg_v_cat = model_reg_v_cat.sample(\n",
        "        sampler=\"nuts_numpyro\",\n",
        "        chains=2, cores=1,\n",
        "        draws=1000, tune=500\n",
        "        )"
      ]
    },
    {
      "cell_type": "code",
      "execution_count": null,
      "id": "ced758fc-06b4-4ec3-ba36-6dc046e3c4fa",
      "metadata": {
        "id": "ced758fc-06b4-4ec3-ba36-6dc046e3c4fa"
      },
      "outputs": [],
      "source": [
        "az.plot_forest(infer_data_reg_v_cat, var_names = [\"~v\"])"
      ]
    },
    {
      "cell_type": "markdown",
      "id": "8fb4ebb7-9d27-400c-bdca-7f6a56b19f0c",
      "metadata": {
        "id": "8fb4ebb7-9d27-400c-bdca-7f6a56b19f0c"
      },
      "source": [
        "### EXERCISE 2\n",
        "\n",
        "Let's return to our little datasets from exercise 1.\n",
        "Now that we have seen the regression interface, in this exercise we want to build a single model to answer our collaborator's questions."
      ]
    },
    {
      "cell_type": "code",
      "execution_count": null,
      "id": "2410fc33-b116-4d6f-b299-5d3bc046229b",
      "metadata": {
        "id": "2410fc33-b116-4d6f-b299-5d3bc046229b"
      },
      "outputs": [],
      "source": [
        "ex2_all_conditions"
      ]
    },
    {
      "cell_type": "code",
      "execution_count": null,
      "id": "7e1ed1da-af59-42c7-a7db-4a0136bf670c",
      "metadata": {
        "id": "7e1ed1da-af59-42c7-a7db-4a0136bf670c"
      },
      "outputs": [],
      "source": [
        "# your code"
      ]
    },
    {
      "cell_type": "markdown",
      "id": "64c97e45",
      "metadata": {
        "id": "64c97e45"
      },
      "source": [
        "## Hierarchical Inference"
      ]
    },
    {
      "cell_type": "markdown",
      "id": "0b0d08cd",
      "metadata": {
        "id": "0b0d08cd"
      },
      "source": [
        "Let's try to fit a hierarchical model now. We will simulate a dataset with $15$ participants, with $200$ observations / trials for each participant.\n",
        "\n",
        "We define a group mean `mean_v` and a group standard deviation `sd_v` for the intercept parameter of the regression on `v`, which we sample from a corresponding normal distribution for each participant."
      ]
    },
    {
      "cell_type": "markdown",
      "id": "0bfd0871",
      "metadata": {
        "id": "0bfd0871"
      },
      "source": [
        "### Simulate Data"
      ]
    },
    {
      "cell_type": "code",
      "execution_count": null,
      "id": "85756d06",
      "metadata": {
        "id": "85756d06"
      },
      "outputs": [],
      "source": [
        "# Make some hierarchical data\n",
        "\n",
        "n_participants = 15  # number of participants\n",
        "n_trials = 200  # number of trials per participant\n",
        "\n",
        "sd_v = 0.5  # sd for v-intercept\n",
        "mean_v = 0.5  # mean for v-intercept\n",
        "\n",
        "data_list = []\n",
        "for i in range(n_participants):\n",
        "    # Make parameters for participant i\n",
        "    v_intercept_hier = np.random.normal(mean_v, sd_v, size=1)\n",
        "    x = np.random.uniform(-1, 1, size=n_trials)\n",
        "    v_x_hier = 0.8\n",
        "    y = np.random.uniform(-1, 1, size=n_trials)\n",
        "    v_y_hier = 0.3\n",
        "    v_hier = v_intercept_hier + (v_x_hier * x) + (v_y_hier * y)\n",
        "\n",
        "    a_hier = 1.5\n",
        "    t_hier = 0.5\n",
        "    z_hier = 0.5\n",
        "\n",
        "    # true_values = np.column_stack(\n",
        "    #     [v, np.repeat([[1.5, 0.5, 0.5, 0.0]], axis=0, repeats=n_trials)]\n",
        "    # )\n",
        "\n",
        "    data_tmp = hssm.simulate_data(model = \"ddm\",\n",
        "                                  theta = dict(v = v_hier,\n",
        "                                                     a = a_hier,\n",
        "                                                     z = z_hier,\n",
        "                                                     t = t_hier),\n",
        "                                  size = 1)\n",
        "    data_tmp['participant_id'] = i\n",
        "    data_tmp['x'] = x\n",
        "    data_tmp['y'] = y\n",
        "\n",
        "    data_list.append(data_tmp)\n",
        "\n",
        "# Make single dataframe out of participant-wise datasets\n",
        "dataset_reg_v_hier = pd.concat(data_list)\n",
        "dataset_reg_v_hier"
      ]
    },
    {
      "cell_type": "markdown",
      "id": "f293f0b8",
      "metadata": {
        "id": "f293f0b8"
      },
      "source": [
        "We can now define our `HSSM` model.\n",
        "\n",
        "We specify the regression as `v ~ 1 + (1|participant_id) + x + y`.\n",
        "\n",
        "`(1|participant_id)` tells the model to create a *participant-wise* offset for the intercept parameter. The rest of the regression $\\beta$'s is fit globally.\n",
        "\n",
        "As an **R** user you may recognize this syntax from the [lmer](https://www.rdocumentation.org/packages/lme4/versions/1.1-33/topics/lmer) package.\n",
        "\n",
        "Our [Bambi](https://bambinos.github.io/bambi/) backend is essentially a Bayesian version of [lmer](https://www.rdocumentation.org/packages/lme4/versions/1.1-33/topics/lmer), quite like the [BRMS](https://cran.r-project.org/web/packages/brms/index.html) package in **R**, which operates on top of [STAN](https://mc-stan.org/).\n",
        "\n",
        "As a previous [HDDM](https://hddm.readthedocs.io/en/latest/) user, you may recognize that now proper mixed-effect models are viable!\n",
        "\n",
        "You should be able to handle between and within participant effects naturally now!\n"
      ]
    },
    {
      "cell_type": "markdown",
      "id": "fdfba6da-7327-49a4-8e52-9a468fcb28d3",
      "metadata": {
        "id": "fdfba6da-7327-49a4-8e52-9a468fcb28d3"
      },
      "source": [
        "### Basic Hierarchical Model"
      ]
    },
    {
      "cell_type": "code",
      "execution_count": null,
      "id": "a9537184",
      "metadata": {
        "id": "a9537184"
      },
      "outputs": [],
      "source": [
        "model_reg_v_angle_hier = hssm.HSSM(\n",
        "    data=dataset_reg_v_hier,\n",
        "    model=\"angle\",\n",
        "    include=[\n",
        "        {\n",
        "            \"name\": \"v\",\n",
        "            \"prior\": {\n",
        "                \"Intercept\": {\n",
        "                    \"name\": \"Normal\",\n",
        "                    \"mu\": 0.,\n",
        "                    \"sigma\": 0.5,\n",
        "                    \"initval\": 0.0,\n",
        "                },\n",
        "                \"x\": {\"name\": \"Normal\", \"mu\": 0.0, \"sigma\": 0.5, \"initval\": 0.0},\n",
        "                \"y\": {\"name\": \"Normal\", \"mu\": 0.0, \"sigma\": 0.5, \"initval\": 0.0},\n",
        "            },\n",
        "            \"formula\": \"v ~ 1 + (1|participant_id) + x + y\",\n",
        "            \"link\": \"identity\",\n",
        "        }\n",
        "    ],\n",
        ")"
      ]
    },
    {
      "cell_type": "code",
      "execution_count": null,
      "id": "45d82a4d",
      "metadata": {
        "id": "45d82a4d"
      },
      "outputs": [],
      "source": [
        "model_reg_v_angle_hier.graph()"
      ]
    },
    {
      "cell_type": "code",
      "execution_count": null,
      "id": "54711986",
      "metadata": {
        "id": "54711986"
      },
      "outputs": [],
      "source": [
        "jax.config.update(\"jax_enable_x64\", False)\n",
        "model_reg_v_angle_hier.sample(\n",
        "    sampler=\"nuts_numpyro\", chains=2, cores=1, draws=1000, tune=1000\n",
        ")"
      ]
    },
    {
      "cell_type": "markdown",
      "id": "704fc2af",
      "metadata": {
        "id": "704fc2af"
      },
      "source": [
        "Let's look at the posteriors!"
      ]
    },
    {
      "cell_type": "code",
      "execution_count": null,
      "id": "45c12c9e",
      "metadata": {
        "id": "45c12c9e"
      },
      "outputs": [],
      "source": [
        "az.plot_forest(model_reg_v_angle_hier.traces, var_names = ['~v', '~a'], combined=False)"
      ]
    },
    {
      "cell_type": "markdown",
      "id": "aac642c0-ba72-4c52-bf0e-9684408a1476",
      "metadata": {
        "id": "aac642c0-ba72-4c52-bf0e-9684408a1476"
      },
      "source": [
        "### EXERCISE 3\n",
        "\n",
        "In this exercise, we will investigate the effect of running a \"all-in-one\" model on a dataset from a couple participants and compare this to running a hierarchical model.\n",
        "\n",
        "You get a dataset, which has 225 trials each for 15 participants.\n",
        "\n",
        "Try the following (use the `ddm` model):\n",
        "\n",
        "1. Fit one model that ignores any hierarchy\n",
        "2. Fit one model that allow hierarchical intercepts on the `v` and `a` parameters\n",
        "3. Run a Bayesian t-test on the respective `v` and `a` parameters in the two models"
      ]
    },
    {
      "cell_type": "code",
      "execution_count": null,
      "id": "1195cab8-bad2-4e88-9944-5ac7e0160ab5",
      "metadata": {
        "id": "1195cab8-bad2-4e88-9944-5ac7e0160ab5"
      },
      "outputs": [],
      "source": [
        "ex3_data"
      ]
    },
    {
      "cell_type": "code",
      "execution_count": null,
      "id": "30d2612a-0208-42b1-b509-e526cb1f1a62",
      "metadata": {
        "id": "30d2612a-0208-42b1-b509-e526cb1f1a62"
      },
      "outputs": [],
      "source": [
        "# your code"
      ]
    },
    {
      "cell_type": "markdown",
      "id": "2d3cd05f",
      "metadata": {
        "id": "2d3cd05f"
      },
      "source": [
        "## Model Comparison"
      ]
    },
    {
      "cell_type": "markdown",
      "id": "ac41b720",
      "metadata": {
        "id": "ac41b720"
      },
      "source": [
        "Fitting single models is all well and good. We are however, often interested in comparing how well a few different models account for the same data.\n",
        "\n",
        "Through [ArviZ](https://python.arviz.org/en/stable/index.html), we have out of the box access to modern Bayesian Model Comparison. We will keep it simple here, just to illustrate the basic idea.\n",
        "\n",
        "### Scenario\n",
        "\n",
        "The following scenario is explored.\n",
        "\n",
        "First we generate data from a `ddm` model with fixed parameters, specifically we set the `a` parameter to $1.5$.\n",
        "\n",
        "We then define two `HSSM` models:\n",
        "\n",
        "1. A model which allows fitting all but the `a` parameter, which is fixed to $1.0$ (wrong)\n",
        "2. A model which allows fitting all but the `a` parameter, which is fixed to $1.5$ (correct)\n",
        "\n",
        "We then use the [ArviZ](https://python.arviz.org/en/stable/index.html)'s `compare()` function, to perform model comparison via `elpd_loo`."
      ]
    },
    {
      "cell_type": "markdown",
      "id": "b47c76a2",
      "metadata": {
        "id": "b47c76a2"
      },
      "source": [
        "### Data Simulation"
      ]
    },
    {
      "cell_type": "code",
      "execution_count": null,
      "id": "73468f92",
      "metadata": {
        "id": "73468f92"
      },
      "outputs": [],
      "source": [
        "# Parameters\n",
        "param_dict_mod_comp = dict(v = 0.5,\n",
        "                           a = 1.5,\n",
        "                           z = 0.5,\n",
        "                           t = 0.2)\n",
        "\n",
        "# Simulation\n",
        "dataset_model_comp = hssm.simulate_data(model = \"ddm\",\n",
        "                                        theta = param_dict_mod_comp,\n",
        "                                        size = 500)\n",
        "\n",
        "print(dataset_model_comp)"
      ]
    },
    {
      "cell_type": "markdown",
      "id": "adb87955",
      "metadata": {
        "id": "adb87955"
      },
      "source": [
        "### Defining the Models"
      ]
    },
    {
      "cell_type": "code",
      "execution_count": null,
      "id": "4ced4489",
      "metadata": {
        "id": "4ced4489"
      },
      "outputs": [],
      "source": [
        "# 'wrong' model\n",
        "model_model_comp_1 = hssm.HSSM(\n",
        "    data=dataset_model_comp,\n",
        "    model=\"angle\",\n",
        "    a=1.0,\n",
        ")"
      ]
    },
    {
      "cell_type": "code",
      "execution_count": null,
      "id": "8c7cfda3",
      "metadata": {
        "id": "8c7cfda3"
      },
      "outputs": [],
      "source": [
        "# 'correct' model\n",
        "model_model_comp_2 = hssm.HSSM(\n",
        "    data=dataset_model_comp,\n",
        "    model=\"angle\",\n",
        "    a=1.5,\n",
        ")"
      ]
    },
    {
      "cell_type": "code",
      "execution_count": null,
      "id": "e44176af-7dc9-4871-88b1-58b5f7c9f091",
      "metadata": {
        "id": "e44176af-7dc9-4871-88b1-58b5f7c9f091"
      },
      "outputs": [],
      "source": [
        "# 'wrong' model ddm\n",
        "model_model_comp_3 = hssm.HSSM(\n",
        "    data=dataset_model_comp,\n",
        "    model=\"ddm\",\n",
        "    a=1.0,\n",
        ")"
      ]
    },
    {
      "cell_type": "code",
      "execution_count": null,
      "id": "dba5ab83",
      "metadata": {
        "id": "dba5ab83"
      },
      "outputs": [],
      "source": [
        "infer_data_model_comp_1 = model_model_comp_1.sample(\n",
        "    sampler=\"nuts_numpyro\",\n",
        "    cores=1,\n",
        "    chains=2,\n",
        "    draws=1000,\n",
        "    tune=1000,\n",
        "    idata_kwargs=dict(\n",
        "        log_likelihood=True\n",
        "    ),  # model comparison metrics usually need this!\n",
        ")"
      ]
    },
    {
      "cell_type": "code",
      "execution_count": null,
      "id": "a4ff738a",
      "metadata": {
        "id": "a4ff738a"
      },
      "outputs": [],
      "source": [
        "infer_data_model_comp_2 = model_model_comp_2.sample(\n",
        "    sampler=\"nuts_numpyro\",\n",
        "    cores=1,\n",
        "    chains=2,\n",
        "    draws=1000,\n",
        "    tune=1000,\n",
        "    idata_kwargs=dict(\n",
        "        log_likelihood=True\n",
        "    ),  # model comparison metrics usually need this!\n",
        ")"
      ]
    },
    {
      "cell_type": "code",
      "execution_count": null,
      "id": "ac0a9f3d-4d5f-4943-b16c-5656098d2b79",
      "metadata": {
        "id": "ac0a9f3d-4d5f-4943-b16c-5656098d2b79"
      },
      "outputs": [],
      "source": [
        "infer_data_model_comp_3 = model_model_comp_3.sample(\n",
        "    sampler=\"nuts_numpyro\",\n",
        "    cores=1,\n",
        "    chains=2,\n",
        "    draws=1000,\n",
        "    tune=1000,\n",
        "    idata_kwargs=dict(\n",
        "        log_likelihood=True\n",
        "    ),  # model comparison metrics usually need this!\n",
        ")"
      ]
    },
    {
      "cell_type": "markdown",
      "id": "b681dafc",
      "metadata": {
        "id": "b681dafc"
      },
      "source": [
        "### Compare"
      ]
    },
    {
      "cell_type": "code",
      "execution_count": null,
      "id": "80464b43",
      "metadata": {
        "id": "80464b43"
      },
      "outputs": [],
      "source": [
        "compare_data = az.compare(\n",
        "    {\n",
        "        \"a_fixed_1(wrong)\": model_model_comp_1.traces,\n",
        "        \"a_fixed_1.5(correct)\": model_model_comp_2.traces,\n",
        "        \"a_fixed_1_ddm(wrong)\": model_model_comp_3.traces,\n",
        "    }\n",
        ")\n",
        "\n",
        "compare_data"
      ]
    },
    {
      "cell_type": "markdown",
      "id": "55ccc727",
      "metadata": {
        "id": "55ccc727"
      },
      "source": [
        "Notice how the posterior weight on the `correct` model is close to (or equal to ) $1$ here.\n",
        "In other words model comparison points us to the correct model with\n",
        "a very high degree of certainty here!\n",
        "\n",
        "\n",
        "We can also use the `.plot_compare()` function to illustrate the model comparison visually."
      ]
    },
    {
      "cell_type": "code",
      "execution_count": null,
      "id": "b3175f85",
      "metadata": {
        "id": "b3175f85"
      },
      "outputs": [],
      "source": [
        "az.plot_compare(compare_data)"
      ]
    },
    {
      "cell_type": "markdown",
      "id": "8d148365-c44a-4641-a4c6-dcac22f99ed2",
      "metadata": {
        "id": "8d148365-c44a-4641-a4c6-dcac22f99ed2"
      },
      "source": [
        "Using the forest plot we can take a look at what goes wrong for the \"wrong\" model.\n",
        "\n",
        "To make up for the mistplaced setting of the `a` parameter, the posterior seems to compensate by\n",
        "mis-estimating the other parameters."
      ]
    },
    {
      "cell_type": "code",
      "execution_count": null,
      "id": "ae3635e8-1d71-4cd6-9d90-6b70ba6ee875",
      "metadata": {
        "id": "ae3635e8-1d71-4cd6-9d90-6b70ba6ee875"
      },
      "outputs": [],
      "source": [
        "az.plot_forest([model_model_comp_1.traces,\n",
        "                model_model_comp_2.traces,\n",
        "                model_model_comp_3.traces], model_names = [\"a_fixed_1(wrong)\",\n",
        "                                                           \"a_fixed_1.5(correct)\",\n",
        "                                                           \"a_fixed_1(wrong)_ddm\"])"
      ]
    },
    {
      "cell_type": "markdown",
      "id": "fc5387ba",
      "metadata": {
        "id": "fc5387ba"
      },
      "source": [
        "## Closer look!\n",
        "\n",
        "<center> <img src=\"https://github.com/lnccbrown/HSSM/blob/srndna24/docs/tutorials/images/pytensor_jax.png?raw=1\" height=\"400\" width=\"400\"> </center>"
      ]
    },
    {
      "cell_type": "markdown",
      "id": "cce2b39b",
      "metadata": {
        "id": "cce2b39b"
      },
      "source": [
        "We have seen a few examples of HSSM models at this point. Add a model via a string, maybe toy a bit with with the priors and set regression functions for a given parameter. Turn it hierarchical...  Here we begin to peak a bit under the hood.\n",
        "\n",
        "After all, we want to encourage you to contribute models to the package yourself.\n",
        "\n",
        "Let's remind ourself of the `model_config` dictionaries that define model properties for us. Again let's start with the DDM."
      ]
    },
    {
      "cell_type": "code",
      "execution_count": null,
      "id": "fb0ef7e9",
      "metadata": {
        "id": "fb0ef7e9"
      },
      "outputs": [],
      "source": [
        "hssm.config.default_model_config[\"ddm\"].keys()"
      ]
    },
    {
      "cell_type": "markdown",
      "id": "8ea05819",
      "metadata": {
        "id": "8ea05819"
      },
      "source": [
        "The dictionary has a few high level keys.\n",
        "\n",
        "1. `response`\n",
        "\n",
        "2. `list_params`\n",
        "\n",
        "3. `description`\n",
        "\n",
        "4. `likelihoods`\n",
        "\n",
        "\n",
        "Let us take a look at the available `likelihoods`:"
      ]
    },
    {
      "cell_type": "code",
      "execution_count": null,
      "id": "80a158ea-4a86-47f8-a23a-836239af8f63",
      "metadata": {
        "id": "80a158ea-4a86-47f8-a23a-836239af8f63"
      },
      "outputs": [],
      "source": [
        "hssm.config.default_model_config[\"ddm\"][\"likelihoods\"]"
      ]
    },
    {
      "cell_type": "markdown",
      "id": "ae3a1ac4-d6f0-4d66-825a-59639425d4c7",
      "metadata": {
        "id": "ae3a1ac4-d6f0-4d66-825a-59639425d4c7"
      },
      "source": [
        "For the DDM we have available all three types of likelihoods that HSSM deals with:\n",
        "\n",
        "1. `analytical`\n",
        "2. `approx_differentiable`\n",
        "3. `blackbox`\n",
        "\n",
        "Let's expand the dictionary contents more:"
      ]
    },
    {
      "cell_type": "code",
      "execution_count": null,
      "id": "4a964760",
      "metadata": {
        "id": "4a964760"
      },
      "outputs": [],
      "source": [
        "hssm.config.default_model_config[\"ddm\"][\"likelihoods\"][\"analytical\"]"
      ]
    },
    {
      "cell_type": "markdown",
      "id": "46ca6d97",
      "metadata": {
        "id": "46ca6d97"
      },
      "source": [
        "We see three properties (key) in this dictionary, of which two are essential:\n",
        "\n",
        "- The `loglik` field, which points to the likelihood function\n",
        "- The `backend` field, which can be either `None` (defaulting to pytensor for `analytical` likelihoods), `jax` or `pytensor`\n",
        "- The `bounds` field, which specifies bounds on a subset of the model parameters\n",
        "- The `default_priors` field, which specifies parameter wise priors\n",
        "\n",
        "If you provide `bounds` for a parameter, but no `default_priors`, a *Uniform* prior that respects the specified bounds will be applied."
      ]
    },
    {
      "cell_type": "markdown",
      "id": "ae8d6764",
      "metadata": {
        "id": "ae8d6764"
      },
      "source": [
        "Next, let's look at the `approx_differentiable` part.\n",
        "The likelihood in this part is based on a [LAN]() which was available in [HDDM]() through the [LAN extension]()."
      ]
    },
    {
      "cell_type": "code",
      "execution_count": null,
      "id": "c5338450",
      "metadata": {
        "id": "c5338450"
      },
      "outputs": [],
      "source": [
        "hssm.config.default_model_config[\"ddm\"][\"likelihoods\"][\"approx_differentiable\"]"
      ]
    },
    {
      "cell_type": "markdown",
      "id": "9b3f1d69",
      "metadata": {
        "id": "9b3f1d69"
      },
      "source": [
        "We see that the `loglik` field is now a string that points to a `.onnx` file.\n",
        "[Onnx](https://onnx.ai/) is a meta framework for Neural Network specification, that allows translation between deep learning Frameworks. This is the preferred format for the neural networks we store in our model reservoir on [HuggingFace](https://huggingface.co/).\n",
        "\n",
        "Moreover notice that we now have a `backend` field. We allow for two primary backends in the `approx_differentiable` field.\n",
        "\n",
        "1. `pytensor`\n",
        "2. `jax`\n",
        "\n",
        "The `jax` backend assumes that your likelihood is described as a jax function, the `pytensor` backend assumes that your likelihood is described as a `pytensor` function. Ok not that surprising...\n",
        "\n",
        "We won't dwell on this here, however the key idea is to provide users with a large degree of flexibility in describing their likelihood functions and moreover to allow targeted optimization towards MCMC sampler types that [PyMC]() allows us to access.\n",
        "\n",
        "You can find a [dedicated tutorial](https://lnccbrown.github.io/HSSM/tutorial_likelihoods/#3-kinds-of-likelihoods) in the documentation, which describes the different likelihoods in much more detail.\n",
        "\n",
        "Instead, let's take a quick look at how these newfound insights can be used for custom model definition."
      ]
    },
    {
      "cell_type": "code",
      "execution_count": null,
      "id": "23e97152",
      "metadata": {
        "id": "23e97152"
      },
      "outputs": [],
      "source": [
        "hssm_alternative_model = hssm.HSSM(\n",
        "    data=dataset,\n",
        "    model=\"ddm\",\n",
        "    loglik_kind=\"approx_differentiable\",\n",
        ")"
      ]
    },
    {
      "cell_type": "code",
      "execution_count": null,
      "id": "a501191d",
      "metadata": {
        "id": "a501191d"
      },
      "outputs": [],
      "source": [
        "hssm_alternative_model.loglik_kind"
      ]
    },
    {
      "cell_type": "markdown",
      "id": "070e07d2",
      "metadata": {
        "id": "070e07d2"
      },
      "source": [
        "In this case we actually built the model class with an `approx_differentiable` LAN likelihood, instead of the default `analytical` likelihood we used in the beginning of the tutorial. The assumed generative model remains the `ddm` however!"
      ]
    },
    {
      "cell_type": "code",
      "execution_count": null,
      "id": "7af6a107",
      "metadata": {
        "id": "7af6a107"
      },
      "outputs": [],
      "source": [
        "hssm_alternative_model.sample(\n",
        "    sampler=\"nuts_numpyro\",\n",
        "    cores=1,\n",
        "    chains=2,\n",
        "    draws=1000,\n",
        "    tune=1000,\n",
        "    idata_kwargs=dict(\n",
        "        log_likelihood=False\n",
        "    ),  # model comparison metrics usually need this!\n",
        ")"
      ]
    },
    {
      "cell_type": "code",
      "execution_count": null,
      "id": "100d4694",
      "metadata": {
        "id": "100d4694"
      },
      "outputs": [],
      "source": [
        "az.plot_forest(hssm_alternative_model.traces)"
      ]
    },
    {
      "cell_type": "markdown",
      "id": "ac07dbcf",
      "metadata": {
        "id": "ac07dbcf"
      },
      "source": [
        "We can take this further and specify a completely custom likelihood. See the [dedicated tutorial](https://lnccbrown.github.io/HSSM/tutorial_likelihoods/#using-custom-likelihoods) for more examples!\n",
        "\n",
        "We will see one specific example below to illustrate another type of likelihood function we have available for model building in HSSM, the *Blackbox* likelihood."
      ]
    },
    {
      "cell_type": "markdown",
      "id": "f16e6ba5",
      "metadata": {
        "id": "f16e6ba5"
      },
      "source": [
        "## 'Blackbox' Likelihoods\n",
        "\n",
        "<center> <img src=\"https://github.com/lnccbrown/HSSM/blob/srndna24/docs/tutorials/images/blackbox.png?raw=1\" height=\"400\" width=\"400\"> </center>"
      ]
    },
    {
      "cell_type": "markdown",
      "id": "127b3fbb",
      "metadata": {
        "id": "127b3fbb"
      },
      "source": [
        "### What is a **Blackbox Likelihood Function**?\n",
        "\n",
        "A *Blackbox Likelihood Function* is essentially any Python `callable` (function) that provides trial by trial likelihoods for your model of interest. What kind of computations are performed in this Python function is completely arbitrary.\n",
        "\n",
        "E.g. you could built a function that performs forward simulation from you model, constructs are kernel-density estimate for the resulting likelihood functions and evaluates your datapoints on this ad-hoc generated approximate likelihood.\n",
        "\n",
        "What I just described is a once state-of-the-art method of performing simulation based inference on Sequential Sampling models, a precursor to LANs if you will."
      ]
    },
    {
      "cell_type": "markdown",
      "id": "9db21467",
      "metadata": {
        "id": "9db21467"
      },
      "source": [
        "We will do something simpler to keep it short and sweet, but really... the possibilities are endless!\n",
        "\n",
        "<br> </br>\n",
        "<center><img src=\"https://media.giphy.com/media/juq2OXONntuHfLc4Tn/giphy.gif\" style=\"margin:auto\" height=\"300\" width=\"300\"/></center>\n",
        "<br> </br>\n"
      ]
    },
    {
      "cell_type": "markdown",
      "id": "7715a162",
      "metadata": {
        "id": "7715a162"
      },
      "source": [
        "### Simulating simple dataset from the DDM"
      ]
    },
    {
      "cell_type": "markdown",
      "id": "0efe8587",
      "metadata": {
        "id": "0efe8587"
      },
      "source": [
        "As always, let's begin by generating some simple dataset."
      ]
    },
    {
      "cell_type": "code",
      "execution_count": null,
      "id": "c7723911",
      "metadata": {
        "id": "c7723911"
      },
      "outputs": [],
      "source": [
        "# Set parameters\n",
        "param_dict_blackbox = dict(v = 0.5,\n",
        "                           a = 1.5,\n",
        "                           z = 0.5,\n",
        "                           t = 0.5)\n",
        "\n",
        "# Simulate\n",
        "dataset_blackbox = hssm.simulate_data(model=\"ddm\",\n",
        "                                      theta=param_dict_blackbox,\n",
        "                                      size = 1000)"
      ]
    },
    {
      "cell_type": "markdown",
      "id": "ca08b20d",
      "metadata": {
        "id": "ca08b20d"
      },
      "source": [
        "### Define the likelihood"
      ]
    },
    {
      "cell_type": "markdown",
      "id": "3224af31",
      "metadata": {
        "id": "3224af31"
      },
      "source": [
        "Now the fun part... we simply define a Python function `my_blackbox_loglik` which takes in our `data` as well as a bunch of model parameters (in our case the familiar `v`,`a`, `z`, `t` from the DDM).\n",
        "\n",
        "The function then does some arbitrary computation inside (in our case e.g. we pass the data and parameters to the DDM log-likelihood from our predecessor package HDDM).\n",
        "\n",
        "The important part is that inside `my_blackbox_loglik` anything can happen. We happen to call a little custom function that defines the likelihood of a DDM.\n",
        "\n",
        "**Fun fact:**\n",
        "It is de-facto the likelihood which is called by [HDDM](https://hddm.readthedocs.io/en/latest/)."
      ]
    },
    {
      "cell_type": "code",
      "execution_count": null,
      "id": "954c86d2",
      "metadata": {
        "id": "954c86d2"
      },
      "outputs": [],
      "source": [
        "def my_blackbox_loglik(data, v, a, z, t, err=1e-8):\n",
        "    data = data[:, 0] * data[:, 1]\n",
        "    # Our function expects inputs as float64, but they are not guaranteed to\n",
        "    # come in as such --> we type convert\n",
        "    return hddm_wfpt.wfpt.pdf_array(\n",
        "        np.float64(data),\n",
        "        np.float64(v),\n",
        "        0,\n",
        "        np.float64(2 * a),\n",
        "        np.float64(z),\n",
        "        0,\n",
        "        np.float64(t),\n",
        "        0,\n",
        "        err,\n",
        "        1,\n",
        "    )"
      ]
    },
    {
      "cell_type": "markdown",
      "id": "ce344b29",
      "metadata": {
        "id": "ce344b29"
      },
      "source": [
        "### Define HSSM class with our Blackbox Likelihood"
      ]
    },
    {
      "cell_type": "markdown",
      "id": "56c30245",
      "metadata": {
        "id": "56c30245"
      },
      "source": [
        "We can now define our HSSM model class as usual, however passing our `my_blackbox_loglik()` function to the `loglik` argument, and passing as `loglik_kind = blackbox`.\n",
        "\n",
        "The rest of the model config is as usual. Here we can reuse our `ddm` model config, and simply specify bounds on the parameters (e.g. your Blackbox Likelihood might be trustworthy only on a restricted parameters space)."
      ]
    },
    {
      "cell_type": "code",
      "execution_count": null,
      "id": "a9cde9b0",
      "metadata": {
        "id": "a9cde9b0"
      },
      "outputs": [],
      "source": [
        "blackbox_model = hssm.HSSM(\n",
        "    data=dataset_blackbox,\n",
        "    model=\"ddm\",\n",
        "    loglik=my_blackbox_loglik,\n",
        "    loglik_kind=\"blackbox\",\n",
        "    model_config={\n",
        "        \"bounds\": {\n",
        "            \"v\": (-10.0, 10.0),\n",
        "            \"a\": (0.5, 5.0),\n",
        "            \"z\": (0.0, 1.0),\n",
        "        }\n",
        "    },\n",
        "    t=bmb.Prior(\"Uniform\", lower=0.0, upper=2.0, initval=0.1),\n",
        ")"
      ]
    },
    {
      "cell_type": "code",
      "execution_count": null,
      "id": "1490c518",
      "metadata": {
        "id": "1490c518"
      },
      "outputs": [],
      "source": [
        "sample = blackbox_model.sample()"
      ]
    },
    {
      "cell_type": "markdown",
      "id": "7a4e5a0f",
      "metadata": {
        "id": "7a4e5a0f"
      },
      "source": [
        "**NOTE**:\n",
        "\n",
        "Since *Blackbox likelihood functions* are assumed to not be differentiable, our default sampler for such likelihood functions is a `Slice` sampler. HSSM allows you to choose any other suitable sampler from the PyMC package instead. A bunch of options are available for gradient-free samplers."
      ]
    },
    {
      "cell_type": "markdown",
      "id": "574d596f",
      "metadata": {
        "id": "574d596f"
      },
      "source": [
        "### Results"
      ]
    },
    {
      "cell_type": "code",
      "execution_count": null,
      "id": "dc1698db",
      "metadata": {
        "id": "dc1698db"
      },
      "outputs": [],
      "source": [
        "az.summary(sample)"
      ]
    },
    {
      "cell_type": "code",
      "execution_count": null,
      "id": "11709aa0",
      "metadata": {
        "id": "11709aa0"
      },
      "outputs": [],
      "source": [
        "az.plot_trace(sample, lines = [(key_, {}, param_dict_blackbox[key_]) for key_ in param_dict_blackbox])\n",
        "plt.tight_layout()"
      ]
    },
    {
      "cell_type": "markdown",
      "id": "02ef375f",
      "metadata": {
        "id": "02ef375f"
      },
      "source": [
        "## HSSM Random Variables in PyMC\n",
        "\n",
        "We covered a lot of ground in this tutorial so far. You are now a sophisticated HSSM user.\n",
        "\n",
        "It is therefore time to reveal a secret. We can actuallly peel back one more layer...\n",
        "<br> </br>\n",
        "<center><img src=\"https://media.giphy.com/media/3o6EhKIVvdhTkvjT8s/giphy.gif\" style=\"margin:auto\" height=\"300\" width=\"300\"/></center>\n",
        "<br> </br>\n",
        "\n",
        "Instead of letting HSSM help you build the entire model, we can instead use HSSM to construct valid [PyMC](https://www.pymc.io/welcome.html) distributions and then proceed to build a custom PyMC model by ourselves...\n",
        "<br> </br>\n",
        "<center><img src=\"https://media.giphy.com/media/3pDxFfu5yZblPUVnWY/giphy.gif\" style=\"margin:auto\" height=\"300\" width=\"300\"/></center>\n",
        "<br> </br>\n",
        "\n",
        "We will illustrate the simplest example below. It sets a pattern that can be exploited for much more complicated modeling exercises, which importantly go far beyond what our basic HSSM class may facilitate for you!\n",
        "\n",
        "See the [dedicated tutorial](https://lnccbrown.github.io/HSSM/notebooks/pymc/) in the [documentation](https://lnccbrown.github.io/HSSM/) if you are interested.\n",
        "\n",
        "Let's start by importing a few convenience functions:"
      ]
    },
    {
      "cell_type": "code",
      "execution_count": null,
      "id": "674030cd",
      "metadata": {
        "id": "674030cd"
      },
      "outputs": [],
      "source": [
        "# DDM models (the Wiener First-Passage Time distribution)\n",
        "from hssm.likelihoods import logp_ddm_sdv, DDM\n",
        "from hssm.distribution_utils import make_distribution"
      ]
    },
    {
      "cell_type": "markdown",
      "id": "6b5ea9ce",
      "metadata": {
        "id": "6b5ea9ce"
      },
      "source": [
        "### Simulate some data"
      ]
    },
    {
      "cell_type": "code",
      "execution_count": null,
      "id": "2652fa13",
      "metadata": {
        "id": "2652fa13"
      },
      "outputs": [],
      "source": [
        "# Simulate\n",
        "param_dict_pymc = dict(v = 0.5,\n",
        "                       a = 1.5,\n",
        "                       z = 0.5,\n",
        "                       t = 0.5,\n",
        "                       theta = 0.0)\n",
        "\n",
        "dataset_pymc = hssm.simulate_data(model=\"ddm\",\n",
        "                                  theta=param_dict_pymc,\n",
        "                                  size=1000)"
      ]
    },
    {
      "cell_type": "markdown",
      "id": "ad48a160",
      "metadata": {
        "id": "ad48a160"
      },
      "source": [
        "### Build a custom PyMC Model"
      ]
    },
    {
      "cell_type": "markdown",
      "id": "78ff5d3d",
      "metadata": {
        "id": "78ff5d3d"
      },
      "source": [
        "We can now use our custom random variable `DDM` directly in a PyMC model."
      ]
    },
    {
      "cell_type": "code",
      "execution_count": null,
      "id": "5d6cd78a",
      "metadata": {
        "id": "5d6cd78a"
      },
      "outputs": [],
      "source": [
        "import pymc as pm\n",
        "\n",
        "with pm.Model() as ddm_pymc:\n",
        "    v = pm.Uniform(\"v\", lower=-10.0, upper=10.0)\n",
        "    a = pm.HalfNormal(\"a\", sigma=2.0)\n",
        "    z = pm.Uniform(\"z\", lower=0.01, upper=0.99)\n",
        "    t = pm.Uniform(\"t\", lower=0.0, upper=0.6, initval=0.1)\n",
        "\n",
        "    ddm = DDM(\"DDM\", v=v, a=a, z=z, t=t, observed=dataset_pymc[['rt', 'response']].values)"
      ]
    },
    {
      "cell_type": "markdown",
      "id": "95d26e23",
      "metadata": {
        "id": "95d26e23"
      },
      "source": [
        "Let's check the model graph:"
      ]
    },
    {
      "cell_type": "code",
      "execution_count": null,
      "id": "30da0d0b",
      "metadata": {
        "id": "30da0d0b"
      },
      "outputs": [],
      "source": [
        "pm.model_to_graphviz(model=ddm_pymc)"
      ]
    },
    {
      "cell_type": "markdown",
      "id": "99c892c2",
      "metadata": {
        "id": "99c892c2"
      },
      "source": [
        "Looks remarkably close to our HSSM version!\n",
        "\n",
        "We can use PyMC directly to sample and finally return to ArviZ for some plotting!"
      ]
    },
    {
      "cell_type": "code",
      "execution_count": null,
      "id": "e14d8607",
      "metadata": {
        "id": "e14d8607"
      },
      "outputs": [],
      "source": [
        "with ddm_pymc:\n",
        "    ddm_pymc_trace = pm.sample()"
      ]
    },
    {
      "cell_type": "code",
      "execution_count": null,
      "id": "67bf9533",
      "metadata": {
        "id": "67bf9533"
      },
      "outputs": [],
      "source": [
        "az.plot_trace(ddm_pymc_trace, lines = [(key_, {}, param_dict_pymc[key_]) for key_ in param_dict_pymc])\n",
        "\n",
        "plt.tight_layout()"
      ]
    },
    {
      "cell_type": "code",
      "execution_count": null,
      "id": "0444c0ab",
      "metadata": {
        "id": "0444c0ab"
      },
      "outputs": [],
      "source": [
        "az.plot_forest(ddm_pymc_trace)"
      ]
    },
    {
      "cell_type": "markdown",
      "id": "9c480ca1-01f6-4cf3-91bf-834b691bc9e2",
      "metadata": {
        "id": "9c480ca1-01f6-4cf3-91bf-834b691bc9e2"
      },
      "source": [
        "### Alternative Models with PyMC\n",
        "\n",
        "With very little extra work, we can in fact load any of the models accessible via HSSM. Here is an example, where we load the `angle` model instead.\n",
        "\n",
        "We first construction the likelihood function, using `make_likelihood_callable()`.\n",
        "\n",
        "Then we produce a valid `pymc.distribution` using the\n",
        "`make_distribution()` utility function.\n",
        "\n",
        "Just like the `DDM` class above, we can then use this distribution inside a **PyMC** model."
      ]
    },
    {
      "cell_type": "code",
      "execution_count": null,
      "id": "12de0505-27b0-4df2-9a88-384a39d5eb19",
      "metadata": {
        "id": "12de0505-27b0-4df2-9a88-384a39d5eb19"
      },
      "outputs": [],
      "source": [
        "from hssm.distribution_utils import make_likelihood_callable, make_distribution\n",
        "angle_loglik = make_likelihood_callable(loglik='angle.onnx', loglik_kind='approx_differentiable', backend='jax', params_is_reg=[0, 0, 0, 0, 0])\n",
        "ANGLE = make_distribution('angle', loglik = angle_loglik, list_params = hssm.defaults.default_model_config['angle']['list_params'])"
      ]
    },
    {
      "cell_type": "markdown",
      "id": "3d3692b8-835a-4e0f-bcee-63e05be6d632",
      "metadata": {
        "id": "3d3692b8-835a-4e0f-bcee-63e05be6d632"
      },
      "source": [
        "Note that we need to supply the `params_is_reg` argument (\"reg\" for \"regression\").\n",
        "This is a boolean vector, which specifies for each input to the likelihood function, whether or not it is defined to be \"trial-wise\", as is expected if the parameter\n",
        "is the output e.g. of a regression function."
      ]
    },
    {
      "cell_type": "code",
      "execution_count": null,
      "id": "2286dda9-14df-417c-b447-5bcb9630836b",
      "metadata": {
        "id": "2286dda9-14df-417c-b447-5bcb9630836b"
      },
      "outputs": [],
      "source": [
        "import pymc as pm\n",
        "\n",
        "# Angle pymc\n",
        "with pm.Model() as angle_pymc:\n",
        "    # Define parameters\n",
        "    v = pm.Uniform(\"v\", lower=-10.0, upper=10.0)\n",
        "    a = pm.Uniform(\"a\", lower=0.5, upper=2.5)\n",
        "    z = pm.Uniform(\"z\", lower=0.01, upper=0.99)\n",
        "    t = pm.Uniform(\"t\", lower=0.0, upper=0.6, initval=0.1)\n",
        "    theta = pm.Uniform(\"theta\", lower=-0.1, upper=1.0, initval= 0.2)\n",
        "\n",
        "    # Our RV\n",
        "    angle = ANGLE(\"DDM\", v=v, a=a, z=z, t=t, theta=theta, observed=dataset_pymc[['rt', 'response']].values)"
      ]
    },
    {
      "cell_type": "code",
      "execution_count": null,
      "id": "e0e1765d-5c6f-4481-a88b-06933616100c",
      "metadata": {
        "id": "e0e1765d-5c6f-4481-a88b-06933616100c"
      },
      "outputs": [],
      "source": [
        "with angle_pymc:\n",
        "    idata_object = pm.sample(nuts_sampler=\"numpyro\")"
      ]
    },
    {
      "cell_type": "code",
      "execution_count": null,
      "id": "5dea880b-7d44-4e6b-b628-d71e7c67ad10",
      "metadata": {
        "id": "5dea880b-7d44-4e6b-b628-d71e7c67ad10"
      },
      "outputs": [],
      "source": [
        "az.plot_trace(idata_object,\n",
        "              lines = [(key_, {}, param_dict_pymc[key_]) for key_ in param_dict_pymc])\n",
        "\n",
        "plt.tight_layout()"
      ]
    },
    {
      "cell_type": "markdown",
      "id": "03ce970d-6328-4d64-a850-d3feb8e9fe0d",
      "metadata": {
        "id": "03ce970d-6328-4d64-a850-d3feb8e9fe0d"
      },
      "source": [
        "### Regression via PyMC\n",
        "\n",
        "Finally to illustrate the usage of PyMC a little more elaborately, let us build a PyMC model with regression components."
      ]
    },
    {
      "cell_type": "code",
      "execution_count": null,
      "id": "7c1d91a0-bed0-4198-864b-e8aeee80d3f0",
      "metadata": {
        "id": "7c1d91a0-bed0-4198-864b-e8aeee80d3f0"
      },
      "outputs": [],
      "source": [
        "from typing import Optional\n",
        "def make_params_is_reg_vec(reg_parameters: Optional[list] = None,\n",
        "                           parameter_names: Optional[list] = None):\n",
        "    if (not isinstance(reg_parameters, list)) or (not isinstance(parameter_names, list)):\n",
        "        raise ValueError('Both reg_parameters and parameter_names should be lists')\n",
        "\n",
        "    bool_list = [0]*len(parameter_names)\n",
        "    for param in reg_parameters:\n",
        "        bool_list[parameter_names.index(param)] = 1\n",
        "    return bool_list"
      ]
    },
    {
      "cell_type": "code",
      "execution_count": null,
      "id": "ef35e156-1e01-4c18-91b5-39ecaac73c08",
      "metadata": {
        "id": "ef35e156-1e01-4c18-91b5-39ecaac73c08"
      },
      "outputs": [],
      "source": [
        "# Set up trial by trial parameters\n",
        "v_intercept_pymc_reg = 0.3\n",
        "x_pymc_reg = np.random.uniform(-1, 1, size=1000)\n",
        "v_x_pymc_reg = 0.8\n",
        "y_pymc_reg = np.random.uniform(-1, 1, size=1000)\n",
        "v_y_pymc_reg = 0.3\n",
        "v_pymc_reg = v_intercept + (v_x * x) + (v_y * y)\n",
        "\n",
        "param_dict_pymc_reg = dict(v_Intercept = v_intercept_pymc_reg,\n",
        "                           v_x = v_x_pymc_reg,\n",
        "                           v_y = v_y_pymc_reg,\n",
        "                           v = v_pymc_reg,\n",
        "                           a = 1.5,\n",
        "                           z = 0.5,\n",
        "                           t = 0.1,\n",
        "                           theta = 0.0)\n",
        "\n",
        "# base dataset\n",
        "pymc_reg_data = hssm.simulate_data(model = 'ddm',\n",
        "                                   theta = param_dict_pymc_reg,\n",
        "                                   size = 1)\n",
        "\n",
        "# Adding covariates into the datsaframe\n",
        "pymc_reg_data['x'] = x\n",
        "pymc_reg_data['y'] = y\n",
        "\n",
        "# Make the boolean vector for params_is_reg argument\n",
        "bool_param_reg = make_params_is_reg_vec(reg_parameters = ['v'],\n",
        "                                        parameter_names = hssm.defaults.default_model_config['angle']['list_params'])\n",
        "\n",
        "angle_loglik = make_likelihood_callable(loglik='angle.onnx',\n",
        "                                        loglik_kind='approx_differentiable',\n",
        "                                        backend='jax',\n",
        "                                        params_is_reg=bool_param_reg)\n",
        "\n",
        "ANGLE = make_distribution('angle',\n",
        "                          loglik = angle_loglik,\n",
        "                          list_params = hssm.defaults.default_model_config['angle']['list_params'])"
      ]
    },
    {
      "cell_type": "code",
      "execution_count": null,
      "id": "b11bf8a1-29a4-46d1-a642-17ebce3eb8a0",
      "metadata": {
        "id": "b11bf8a1-29a4-46d1-a642-17ebce3eb8a0"
      },
      "outputs": [],
      "source": [
        "import pytensor.tensor as pt\n",
        "with pm.Model(coords = {'idx': pymc_reg_data.index,\n",
        "                        'resp': ['rt', 'response'],\n",
        "                        'features': ['x', 'y']}) as pymc_model_reg:\n",
        "\n",
        "    # Features\n",
        "    x_ = pm.Data('x', pymc_reg_data['x'].values, dims='idx')\n",
        "    y_ = pm.Data('y', pymc_reg_data['y'].values, dims='idx')\n",
        "    # Target\n",
        "    obs = pm.Data('obs', pymc_reg_data[['rt', 'response']].values, dims=('idx', 'resp'))\n",
        "\n",
        "    # Priors\n",
        "    a = pm.Uniform(\"a\", lower=0.5, upper=2.5)\n",
        "    z = pm.Uniform(\"z\", lower=0.01, upper=0.99)\n",
        "    t = pm.Uniform(\"t\", lower=0.0, upper=0.6, initval=0.1)\n",
        "    theta = pm.Uniform(\"theta\", lower=-0.1, upper=1.0, initval= 0.2)\n",
        "    v_Intercept = pm.Uniform(\"v_Intercept\", lower=-3, upper=3)\n",
        "    v_betas = pm.Normal(\"v_beta\", mu = [0, 0], sigma= 0.5, dims=('features'))\n",
        "\n",
        "    # Regression equation\n",
        "    v = pm.Deterministic('v', v_Intercept + pt.stack([x_, y_], axis=1) @ v_betas, dims='idx')\n",
        "\n",
        "    # Our RV\n",
        "    angle = ANGLE(\"angle\", v=v.squeeze(), a=a, z=z, t=t, theta=theta, observed=obs, dims=('idx', 'resp'))"
      ]
    },
    {
      "cell_type": "code",
      "execution_count": null,
      "id": "880c7b36-5143-4037-b94e-fe3205c55182",
      "metadata": {
        "id": "880c7b36-5143-4037-b94e-fe3205c55182"
      },
      "outputs": [],
      "source": [
        "with pymc_model_reg:\n",
        "    idata_pymc_reg = pm.sample(nuts_sampler=\"numpyro\", idata_kwargs={'log_likelihood': True})"
      ]
    },
    {
      "cell_type": "code",
      "execution_count": null,
      "id": "4a5254e5-de86-482e-af24-740f813ca52d",
      "metadata": {
        "id": "4a5254e5-de86-482e-af24-740f813ca52d"
      },
      "outputs": [],
      "source": [
        "az.plot_forest(idata_pymc_reg, var_names=['~v'])"
      ]
    },
    {
      "cell_type": "markdown",
      "id": "5d1f1266",
      "metadata": {
        "id": "5d1f1266"
      },
      "source": [
        "All layers peeled back, the only limit in your modeling endeavors becomes the limit of the PyMC universe!\n",
        "\n",
        "<br> </br>\n",
        "\n",
        "<center><img src=\"https://media.giphy.com/media/4ydWTcMBjimLbT1CHi/giphy.gif\" style=\"margin:auto\" height=\"300\" width=\"300\"/></center>\n",
        "\n",
        "\n",
        "<center> Enjoy the exploration! </center>"
      ]
    },
    {
      "cell_type": "markdown",
      "id": "2905aa9e",
      "metadata": {
        "id": "2905aa9e"
      },
      "source": [
        "# End"
      ]
    }
  ],
  "metadata": {
    "kernelspec": {
      "display_name": "Python 3",
      "name": "python3"
    },
    "language_info": {
      "codemirror_mode": {
        "name": "ipython",
        "version": 3
      },
      "file_extension": ".py",
      "mimetype": "text/x-python",
      "name": "python",
      "nbconvert_exporter": "python",
      "pygments_lexer": "ipython3",
      "version": "3.11.9"
    },
    "colab": {
      "provenance": [],
      "toc_visible": true,
      "gpuType": "T4"
    },
    "accelerator": "GPU"
  },
  "nbformat": 4,
  "nbformat_minor": 5
}