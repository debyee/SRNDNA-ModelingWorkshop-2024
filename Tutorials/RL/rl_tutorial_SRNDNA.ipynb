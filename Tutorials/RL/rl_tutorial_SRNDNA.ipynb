{
  "cells": [
    {
      "cell_type": "markdown",
      "metadata": {
        "id": "eUOf8Hw18hAW"
      },
      "source": [
        "# Introduction"
      ]
    },
    {
      "cell_type": "markdown",
      "source": [
        "Let's learn about modeling fitting with RL!\n",
        "\n",
        "In this tutorial, we will learn about:\n",
        "\n",
        "* Implementing an RL environment\n",
        "* Implementing an RL agent\n",
        "* Fitting data to RL models\n",
        "* Model Comparison and validation\n",
        "\n",
        "Author: Alana Jaskir, https://github.com/amjaskir"
      ],
      "metadata": {
        "id": "nNDnuKenGgNM"
      }
    },
    {
      "cell_type": "code",
      "execution_count": null,
      "metadata": {
        "id": "z86V1p2j_uki"
      },
      "outputs": [],
      "source": [
        "import numpy as np\n",
        "from scipy.stats import norm\n",
        "\n",
        "import matplotlib.pyplot as plt\n",
        "import seaborn as sns\n",
        "import pandas as pd\n",
        "\n",
        "import random\n",
        "import datetime\n",
        "from scipy.optimize import minimize"
      ]
    },
    {
      "cell_type": "markdown",
      "metadata": {
        "id": "_LFmpkNeBBVK"
      },
      "source": [
        "To define different components of our simulation, we will make use of [object oriented programming (OOP)](https://realpython.com/python3-object-oriented-programming/). OOP is helpful because it lets us define general classes we can reuse across different simulations to create new instances of each component (e.g. different instances of an agent, environment, etc).\n",
        "\n",
        "Helpful links:\n",
        "\n",
        "* [Python 101 Google Colab notebook](https://colab.research.google.com/drive/1RgQqcpMyfU8FOZDgIARLqhvpKaefUMnO?usp=sharing)\n",
        "* [The Python Tutorial](https://docs.python.org/3/tutorial/index.html)\n",
        "* [Mathesaurus](http://mathesaurus.sourceforge.net/)\n"
      ]
    },
    {
      "cell_type": "markdown",
      "metadata": {
        "id": "IBWqo2Ba7y27"
      },
      "source": [
        "# Multi-armed bandits\n",
        "\n",
        "\n",
        "\n"
      ]
    },
    {
      "cell_type": "markdown",
      "metadata": {
        "id": "NrGj12hz8s8G"
      },
      "source": [
        "## Defining the environment"
      ]
    },
    {
      "cell_type": "markdown",
      "metadata": {
        "id": "Sk-VSwoyA-x4"
      },
      "source": [
        "The below code flexibly creates an environment with actions or \"arms\" (k).\n",
        "\n",
        "When selecting a given arm, reward will be administered according to a normal distribution with a specified mean (mu) and standard devidation (sigma).\n",
        "\n",
        "Environment code adapted from [this course](https://github.com/Center-for-Computational-Psychiatry/course_fcp?tab=readme-ov-file)."
      ]
    },
    {
      "cell_type": "code",
      "execution_count": null,
      "metadata": {
        "id": "Vq4s-d8E57vd"
      },
      "outputs": [],
      "source": [
        "class Environment(object):\n",
        "\n",
        "  \"\"\"Class for the multiarmed bandit environment.\n",
        "\n",
        "  Parameters\n",
        "  ----------\n",
        "  k : int\n",
        "      Number of arms.\n",
        "  mu : array, float, shape(k, )\n",
        "      Mean for each arm.\n",
        "  sigma : array, float, shape(k, )\n",
        "      Standard deviation for each arm.\n",
        "\n",
        "  \"\"\"\n",
        "\n",
        "  def __init__(self, k, mu, sigma):\n",
        "\n",
        "    \"\"\"Constructor for the Environment class\n",
        "    This function runs every time we create an instance of the class Environment\n",
        "    To learn more about how constructors work: https://www.udacity.com/blog/2021/11/__init__-in-python-an-overview.html\"\"\"\n",
        "\n",
        "    # \"self\" is just a convention that binds the attributes and methods of a class with the arguments of a given instance\n",
        "\n",
        "    self.k = k          # number of arms\n",
        "    self.mu = mu        # mean of reward distribution for each arm\n",
        "    self.sigma = sigma  # standard deviation of reward distribution for each arm\n",
        "\n",
        "    if self.mu.shape[0] is not k:\n",
        "      raise Warning(\"Mean vector shape does not match number of arms\")\n",
        "\n",
        "    if self.sigma.shape[0] is not k:\n",
        "      raise Warning(\"Sigma vector shape does not match number of arms\")\n",
        "\n",
        "  def visualize(self, style):\n",
        "\n",
        "    # this method lets us visualize the structure of the environment\n",
        "    # in the multiarmed bandit case, this consists of the reward distribution for each arm\n",
        "\n",
        "    # visualize as Gaussian densities\n",
        "    if style == 1:\n",
        "\n",
        "      x = np.arange(-5, 5, 0.001)\n",
        "\n",
        "      for i in np.arange(self.k):\n",
        "        plt.plot(x, norm.pdf(x, self.mu[i], self.sigma[i]), label=f'A{i+1} μ: ' + str(self.mu[i]) + ', σ: ' + str(self.sigma[i]))\n",
        "\n",
        "      plt.legend()\n",
        "      plt.xlabel('Reward distribution')\n",
        "      plt.ylabel('Density')\n",
        "\n",
        "    # draw many samples from each distribution and plot histograms\n",
        "    if style == 2:\n",
        "\n",
        "      # initialize output list\n",
        "      bandit = []   # which bandit we're drawing from\n",
        "      samples = []  # samples we drew\n",
        "\n",
        "      # iterate over each bandit\n",
        "      for i in np.arange(self.k):\n",
        "\n",
        "        n_samples = 1000\n",
        "\n",
        "        # create bandit index\n",
        "        b = list(np.ones((n_samples, )) * (i+1))\n",
        "\n",
        "        # draw samples\n",
        "        s = list(np.random.normal(self.mu[i], self.sigma[i], n_samples))\n",
        "\n",
        "        # add to lists\n",
        "        bandit = bandit + b\n",
        "        samples = samples + s\n",
        "\n",
        "      # create pandas dataframe from dictionary\n",
        "      # background on dictionaries: https://www.w3schools.com/python/python_dictionaries.asp\n",
        "      # background on dataframes: https://pandas.pydata.org/docs/reference/api/pandas.DataFrame.html\n",
        "      df = pd.DataFrame({'bandit': list(map(int, bandit)),\n",
        "                         'samples': samples})\n",
        "\n",
        "      # use seaborn to plot distributions\n",
        "      # background on seaborn: https://seaborn.pydata.org/index.html\n",
        "      sns.violinplot(data=df, x=\"bandit\", y=\"samples\", hue=\"bandit\", palette=\"deep\", legend=False)\n",
        "\n",
        "      plt.xlabel('Action')\n",
        "      plt.ylabel('Reward distribution')\n",
        "\n",
        "  def step(self, action):\n",
        "\n",
        "    # the step method takes as input an action and changes the environment\n",
        "    # in the bandit case, the environment responds with a reward\n",
        "\n",
        "     # draw reward\n",
        "    reward = np.random.normal(self.mu[action-1], self.sigma[action-1], 1)[0]\n",
        "\n",
        "    return reward\n"
      ]
    },
    {
      "cell_type": "code",
      "execution_count": null,
      "metadata": {
        "id": "Ao3G_KmV6rB0"
      },
      "outputs": [],
      "source": [
        "# Initialize a 10-armed bandit where each arm has an increasing mean and standard deviation of 1\n",
        "n_arms = 10\n",
        "means = np.arange(n_arms)-5\n",
        "sds = np.ones((n_arms,))\n",
        "\n",
        "# This line creates an instance of the class we defined above with some attributes\n",
        "env_example = Environment(n_arms, means, sds)"
      ]
    },
    {
      "cell_type": "code",
      "execution_count": null,
      "metadata": {
        "id": "kvwZl87a8zLW"
      },
      "outputs": [],
      "source": [
        "# Visualize\n",
        "# Note how now we can access the method inside the class for this specific instance\n",
        "env_example.visualize(1)"
      ]
    },
    {
      "cell_type": "code",
      "execution_count": null,
      "metadata": {
        "id": "OQccGH_AByi5"
      },
      "outputs": [],
      "source": [
        "env_example.visualize(2)"
      ]
    },
    {
      "cell_type": "code",
      "execution_count": null,
      "metadata": {
        "id": "UACbEvbBCBK2"
      },
      "outputs": [],
      "source": [
        "# Draw rewards for each action\n",
        "for a in np.arange(10):\n",
        "  action = a + 1\n",
        "  print('took action: ' + str(action))\n",
        "  print('reward received: ' + str(env_example.step(action)))"
      ]
    },
    {
      "cell_type": "markdown",
      "metadata": {
        "id": "sHY_tR6eGQBu"
      },
      "source": [
        "### **EXERCISE**\n",
        "\n",
        "In the coding blocks below, create a new environment \"env_twoarm\" with two arms:\n",
        "\n",
        "\n",
        "*   Arm 1: mean = -1, mu = 1\n",
        "*   Arm 2: mean = 1, mu = 1\n",
        "\n",
        "\n"
      ]
    },
    {
      "cell_type": "code",
      "execution_count": null,
      "metadata": {
        "id": "aDbm6rQ_JwbZ"
      },
      "outputs": [],
      "source": [
        "# TODO: Define new environment\n",
        "# Numpy HINT: np.array([.1,.2,.3,.4]) makes an array with the specified values\n",
        "\n",
        "env_twoarm = \"TODO\""
      ]
    },
    {
      "cell_type": "code",
      "execution_count": null,
      "metadata": {
        "id": "YkoSlfUHJwtn"
      },
      "outputs": [],
      "source": [
        "# TODO: visualize the new environment\n"
      ]
    },
    {
      "cell_type": "code",
      "execution_count": null,
      "metadata": {
        "id": "KkIkB7Xcd4wK"
      },
      "outputs": [],
      "source": [
        "# IF YOU NEED HELP (BUT TRY YOURSELF FIRST!)\n",
        "\n",
        "\n",
        "\n",
        "\n",
        "\n",
        "\n",
        "\n",
        "\n",
        "\n",
        "\n",
        "\n",
        "\n",
        "\n",
        "\n",
        "\n",
        "\n",
        "\n",
        "\n",
        "\n",
        "\n",
        "n_arms = 2\n",
        "means = np.array([-1,1])\n",
        "sds = np.ones((2,))\n",
        "\n",
        "env_twoarm = Environment(n_arms, means, sds)\n",
        "\n",
        "# visualize 1\n",
        "env_twoarm.visualize(1)\n",
        "plt.figure() # make sure second plot is a new figure\n",
        "env_twoarm.visualize(2)"
      ]
    },
    {
      "cell_type": "markdown",
      "metadata": {
        "id": "1OjICmOqHjAJ"
      },
      "source": [
        "### **DISCUSSION**\n",
        "\n",
        "In this environment, rewards are 1) normally distributed for each action and 2) have the same standard deviation.\n",
        "\n",
        "How else might reward be structured?\n",
        "\n",
        "How could you modify the Environment class above accordingly?"
      ]
    },
    {
      "cell_type": "markdown",
      "metadata": {
        "id": "SGtIS036RILT"
      },
      "source": [
        "#### Example:"
      ]
    },
    {
      "cell_type": "code",
      "execution_count": null,
      "metadata": {
        "id": "To8zHU3RRTTi"
      },
      "outputs": [],
      "source": [
        "class EnvironmentBinomial(object):\n",
        "\n",
        "  \"\"\"Class for the multiarmed bandit environment.\n",
        "\n",
        "  Parameters\n",
        "  ----------\n",
        "  k : int\n",
        "      Number of arms.\n",
        "  prob : array, float, shape(k, )\n",
        "      Probability for each arm.\n",
        "\n",
        "  \"\"\"\n",
        "\n",
        "  def __init__(self, k, prob):                                              # ------------------------------------ UPDATED\n",
        "\n",
        "    \"\"\"Constructor for the Environment class\n",
        "    This function runs every time we create an instance of the class Environment\n",
        "    To learn more about how constructors work: https://www.udacity.com/blog/2021/11/__init__-in-python-an-overview.html\"\"\"\n",
        "\n",
        "    # \"self\" is just a convention that binds the attributes and methods of a class with the arguments of a given instance\n",
        "\n",
        "    self.k = k            # number of arms\n",
        "    self.prob = prob        # mean of reward distribution for each arm      # ------------------------------------ UPDATED\n",
        "\n",
        "    if self.prob.shape[0] is not k:\n",
        "      raise Warning(\"Prob vector shape does not match number of arms\")      # ------------------------------------ UPDATED\n",
        "\n",
        "  def visualize(self, style):\n",
        "\n",
        "    # this method lets us visualize the structure of the environment\n",
        "    # in the multiarmed bandit case\n",
        "\n",
        "    # visualize as Reward probabilities\n",
        "    if style == 1:\n",
        "\n",
        "      for i in np.arange(self.k):\n",
        "        plt.bar(i, self.prob[i], label='P: ' + str(self.prob[i]))      # ------------------------------------ UPDATED\n",
        "\n",
        "      plt.xlabel('Arm')\n",
        "      plt.ylabel('Reward probability')\n",
        "\n",
        "    # draw many samples from each distribution and plot histograms\n",
        "    if style == 2:\n",
        "\n",
        "      # initialize output list\n",
        "      bandit = []   # which bandit we're drawing from\n",
        "      samples = []  # samples we drew\n",
        "\n",
        "      # iterate over each bandit\n",
        "      for i in np.arange(self.k):\n",
        "\n",
        "        n_samples = 1000\n",
        "\n",
        "        # create bandit index\n",
        "        b = list(np.ones((n_samples, )) * (i+1))\n",
        "\n",
        "        # draw samples\n",
        "        s = list(np.random.binomial(1, self.prob[i], n_samples))   # ------------------------------------ UPDATED\n",
        "\n",
        "        # add to lists\n",
        "        bandit = bandit + b\n",
        "        samples = samples + s\n",
        "\n",
        "      # create pandas dataframe from dictionary\n",
        "      # background on dictionaries: https://www.w3schools.com/python/python_dictionaries.asp\n",
        "      # background on dataframes: https://pandas.pydata.org/docs/reference/api/pandas.DataFrame.html\n",
        "      df = pd.DataFrame({'bandit': list(map(int, bandit)),\n",
        "                         'samples': samples})\n",
        "\n",
        "      # use seaborn to plot distributions\n",
        "      # background on seaborn: https://seaborn.pydata.org/index.html\n",
        "      sns.violinplot(data=df, x=\"bandit\", y=\"samples\", hue=\"bandit\", palette=\"deep\", legend=False)\n",
        "\n",
        "      plt.xlabel('Action')\n",
        "      plt.ylabel('Reward distribution')\n",
        "\n",
        "  def step(self, action):\n",
        "\n",
        "    # the step method takes as input an action and changes the environment\n",
        "    # in the bandit case, the environment responds with a reward\n",
        "\n",
        "     # draw reward\n",
        "    reward = np.random.binomial(1, self.prob[action-1], 1)[0]               # ------------------------------------ UPDATED\n",
        "\n",
        "    return reward\n"
      ]
    },
    {
      "cell_type": "code",
      "execution_count": null,
      "metadata": {
        "id": "C-_oSbDaQ-15"
      },
      "outputs": [],
      "source": [
        "# Initialize a 10-armed bandit where each arm has an increasing mean and standard deviation of 1\n",
        "n_arms = 10\n",
        "probs = np.linspace(0.1, 1, n_arms)\n",
        "\n",
        "# This line creates an instance of the class we defined above with some attributes\n",
        "env_binomial_example = EnvironmentBinomial(n_arms, probs)"
      ]
    },
    {
      "cell_type": "code",
      "execution_count": null,
      "metadata": {
        "id": "EkoOD-Nyq0iy"
      },
      "outputs": [],
      "source": [
        "print(probs)"
      ]
    },
    {
      "cell_type": "code",
      "execution_count": null,
      "metadata": {
        "id": "1eECnvyCwdE8"
      },
      "outputs": [],
      "source": [
        "# Draw rewards for each action\n",
        "for a in np.arange(10):\n",
        "  action = a + 1\n",
        "  print('took action: ' + str(action))\n",
        "  print('reward received: ' + str(env_binomial_example.step(action)))"
      ]
    },
    {
      "cell_type": "code",
      "execution_count": null,
      "metadata": {
        "id": "6OmOBWM_T127"
      },
      "outputs": [],
      "source": [
        "env_binomial_example.visualize(1)"
      ]
    },
    {
      "cell_type": "code",
      "execution_count": null,
      "metadata": {
        "id": "NTQu_wQUUHsU"
      },
      "outputs": [],
      "source": [
        "env_binomial_example.visualize(2)"
      ]
    },
    {
      "cell_type": "markdown",
      "metadata": {
        "id": "GCDV-eGp8zs3"
      },
      "source": [
        "## Defining the Agent"
      ]
    },
    {
      "cell_type": "markdown",
      "metadata": {
        "id": "S_uBl4w5hegC"
      },
      "source": [
        "### DISCUSSION\n",
        "\n",
        "What are properties of an agent that we want to specify?\n",
        "\n",
        "As the agent learns, what experiences should we track/remember?"
      ]
    },
    {
      "cell_type": "markdown",
      "metadata": {
        "id": "yEhfIy2oKpJ7"
      },
      "source": [
        "### Agent Class: Outline\n",
        "\n"
      ]
    },
    {
      "cell_type": "code",
      "execution_count": null,
      "metadata": {
        "id": "XsWLRDSrk-BQ"
      },
      "outputs": [],
      "source": [
        "class Agent(object):\n",
        "  \"\"\"Agent class\n",
        "\n",
        "  Parameters\n",
        "  ----------\n",
        "  alpha : float, range (0, 1)\n",
        "      learning rate\n",
        "  beta  : float, range (0,inf)\n",
        "      softmax temperature\n",
        "\n",
        "  \"\"\"\n",
        "\n",
        "  def __init__(self, env, alpha, beta, q_init=False):\n",
        "\n",
        "    # initialize action space\n",
        "    self.action_space = np.arange(env.k) + 1\n",
        "\n",
        "    # initialize parameters\n",
        "    self.alpha = alpha\n",
        "    self.beta = beta\n",
        "\n",
        "    # initialize Q-values\n",
        "    if q_init: # check if initial q-values were provided\n",
        "      # self.q = q_init\n",
        "      self.q_init = q_init\n",
        "    else:\n",
        "      self.q_init = 0\n",
        "\n",
        "    self.q = np.ones((env.k, ))*q_init\n",
        "    self.softmax_prob = np.nan\n",
        "\n",
        "    # track recent experience\n",
        "    self.choice = np.nan\n",
        "    self.reward = np.nan\n",
        "    self.RPE = np.nan\n",
        "\n",
        "  def policy(self):\n",
        "\n",
        "    ''' TODO '''\n",
        "\n",
        "    pass\n",
        "\n",
        "  def update(self):\n",
        "\n",
        "    ''' TODO '''\n",
        "\n",
        "    pass"
      ]
    },
    {
      "cell_type": "markdown",
      "metadata": {
        "id": "vHrIWPyH83YE"
      },
      "source": [
        "### Choice"
      ]
    },
    {
      "cell_type": "markdown",
      "metadata": {
        "id": "X8rkFhnjhRF-"
      },
      "source": [
        "#### Softmax"
      ]
    },
    {
      "cell_type": "markdown",
      "metadata": {
        "id": "W0gBXtJ-zCjT"
      },
      "source": [
        "A common way of converting values into actions is using the **softmax function**.\n",
        "\n",
        "* The softmax function takes the Q values of different actions and transforms them into a probability of selecting each action according to their relative values. The higher the value, the more likely the action will be taken.\n",
        "\n",
        "* The softmax function can be adjusted with the parameter $\\beta$, which controls how sensitive choice is to these differences.\n",
        "\n",
        "---\n",
        "\n",
        "Let's consider a two-armed bandit.\n",
        "\n",
        "The probability of choosing action A would be:\n",
        "\n",
        "$$ P(A) = \\frac{e^{\\beta * Q(A)}}{e^{\\beta * Q(A)} + e^{\\beta * Q(B)}}  = \\frac{e^{\\beta * Q(A)}}{Z}$$\n",
        "\n",
        "The probability of choosing action B would be:\n",
        "\n",
        "$$ P(B) = \\frac{e^{\\beta * Q(B)}}{e^{\\beta * Q(A)} + e^{\\beta * Q(B)}} = \\frac{e^{\\beta * Q(B)}}{Z} $$\n",
        "\n",
        "where\n",
        "\n",
        "$$Z = e^{\\beta * Q(A)} + e^{\\beta * Q(B)}$$\n",
        "\n",
        "\n",
        "Notably, the denominator for both equations is the same (and this holds true for more than two actions). This normalizes the probabilities between 0 and 1 and ensures that:\n",
        "\n",
        "$$\\sum_{i \\in Actions} P(i) = 1 $$\n",
        "\n",
        "like a proper probability distribution. (A sanity check to ensure your softmax is implemented correctly is to sum the actions and ensure they equal 1.)\n",
        "\n",
        "---\n",
        "\n",
        "Using numpy, we can calculate the $P(A)$ and the $P(B)$ simultaneously. The below function also accomodates more than two actions."
      ]
    },
    {
      "cell_type": "code",
      "execution_count": null,
      "metadata": {
        "id": "klcC_zZtn851"
      },
      "outputs": [],
      "source": [
        "# Define softmax function\n",
        "softmax = lambda Q, beta: np.exp(beta * Q) / sum(np.exp(beta * Q))\n",
        "\n",
        "Q = np.array([1,-1])    # example Q values\n",
        "beta = 1                # example beta\n",
        "probs = softmax(Q,beta)\n",
        "print(probs)\n"
      ]
    },
    {
      "cell_type": "markdown",
      "metadata": {
        "id": "dNggZRmbqHRH"
      },
      "source": [
        "It's also helpful to think about the shape of the exponential function and how it interacts with $\\beta$ to get intuition for how this translates to reward probabilities:"
      ]
    },
    {
      "cell_type": "code",
      "execution_count": null,
      "metadata": {
        "id": "UhZN5efagzaH"
      },
      "outputs": [],
      "source": [
        "# Define the Qs and betas\n",
        "beta = 1\n",
        "Q = np.array([1, -1])\n",
        "x = np.linspace(-3, 3, 400)\n",
        "y = np.exp(beta*x)\n",
        "\n",
        "# Plot numerator\n",
        "fig, (ax1, ax2) = plt.subplots(1, 2, figsize=(10, 5))\n",
        "ax1.plot(x, y, color='grey')\n",
        "\n",
        "for idx, q in enumerate(Q):\n",
        "  ax1.scatter(q, np.exp(q*beta), label = f'Action {idx + 1}', s=250)\n",
        "\n",
        "ax1.set_xlabel('Q')\n",
        "ax1.set_ylabel(r'$e^{\\beta * Q}$')\n",
        "ax1.set_title('Softmax numerator')\n",
        "ax1.grid(True)\n",
        "ax1.set_ylim(-1, 20)\n",
        "ax1.legend()\n",
        "\n",
        "# Plot probabilities\n",
        "nactions = len(Q)\n",
        "labels = np.array([f\"Action {i+1}\" for i in np.arange(nactions)])\n",
        "probs = softmax(Q,beta)\n",
        "ax2.pie(probs, labels=labels, autopct='%1.1f%%', startangle=140)\n",
        "ax2.set_title('Action Probabilities')\n",
        "\n",
        "plt.show()"
      ]
    },
    {
      "cell_type": "markdown",
      "metadata": {
        "id": "jGbBiVp_fKxL"
      },
      "source": [
        "#### EXERCISE: The Softmax Function\n",
        "\n",
        "1.   What is the probability of selecting actions A and B when $\\beta = 0$? Why? See if you can think of this in terms of the equations above.\n",
        "\n",
        "2.   What is the probability of selecting actions A and B when $\\beta = 3$?\n",
        "\n",
        "3. Reset $\\beta = 1$. Add another action with Q = 0. How does this change the action probabilities?\n",
        "\n",
        "4. With your three Q values, increase $\\beta = 2$, then $\\beta = 3$, then $\\beta = 4$. How does increasing $\\beta$ change the curve on the left? How does this change correspond to the action probabilities on the right?\n",
        "\n",
        "5. Reset $\\beta = 1$. Set $Q = [-2, -1]$. Observe the action probabilities. Now set $Q = [2, 1]$. Observe the action probabilities. Are the action probabilities the same or different?\n",
        "\n"
      ]
    },
    {
      "cell_type": "markdown",
      "metadata": {
        "id": "BU1obEsA1h8W"
      },
      "source": [
        "#### Let's implement this in the code:"
      ]
    },
    {
      "cell_type": "code",
      "execution_count": null,
      "metadata": {
        "id": "5Ox9rX-nMqvk"
      },
      "outputs": [],
      "source": [
        "# TODO: FILL IN THE POLICY FUNCTION\n",
        "\n",
        "class Agent(object):\n",
        "  \"\"\"Agent class\n",
        "\n",
        "  Parameters\n",
        "  ----------\n",
        "  alpha : float, range (0, 1)\n",
        "      learning rate\n",
        "  beta  : float, range (0,inf)\n",
        "      softmax temperature\n",
        "\n",
        "  \"\"\"\n",
        "\n",
        "  def __init__(self, env, alpha, beta, q_init=False):\n",
        "\n",
        "    # initialize action space\n",
        "    self.action_space = np.arange(env.k) + 1\n",
        "\n",
        "    # initialize parameters\n",
        "    self.alpha = alpha\n",
        "    self.beta = beta\n",
        "\n",
        "    # initialize Q-values\n",
        "    if q_init: # check if initial q-values were provided\n",
        "      # self.q = q_init\n",
        "      self.q_init = q_init\n",
        "    else:\n",
        "      self.q_init = 0\n",
        "\n",
        "    self.q = np.ones((env.k, ))*q_init\n",
        "    self.softmax_prob = np.nan\n",
        "\n",
        "    # track recent experience\n",
        "    self.choice = np.nan\n",
        "    self.reward = np.nan\n",
        "    self.RPE = np.nan\n",
        "\n",
        "\n",
        "  def policy(self):\n",
        "\n",
        "    ''' TODO '''\n",
        "\n",
        "    pass\n",
        "\n",
        "  def update(self):\n",
        "\n",
        "    ''' TODO '''\n",
        "\n",
        "    pass"
      ]
    },
    {
      "cell_type": "code",
      "execution_count": null,
      "metadata": {
        "id": "jZdowoon1gva"
      },
      "outputs": [],
      "source": [
        "# IF YOU WANT HELP (BUT TRY YOURSELF FIRST!)\n",
        "\n",
        "class AgentSolution(object):\n",
        "  \"\"\"Agent class\n",
        "\n",
        "  Parameters\n",
        "  ----------\n",
        "  alpha : float, range (0, 1)\n",
        "      learning rate\n",
        "  beta  : float, range (0,inf)\n",
        "      softmax temperature\n",
        "\n",
        "  \"\"\"\n",
        "\n",
        "  def __init__(self, env, alpha, beta, q_init=False):\n",
        "\n",
        "    # initialize action space\n",
        "    self.action_space = np.arange(env.k) + 1\n",
        "    self.nactions = env.k\n",
        "\n",
        "    # initialize parameters\n",
        "    self.alpha = alpha\n",
        "    self.beta = beta\n",
        "\n",
        "    # initialize Q-values\n",
        "    if q_init: # check if initial q-values were provided\n",
        "      # self.q = q_init\n",
        "      self.q_init = q_init\n",
        "    else:\n",
        "      self.q_init = 0\n",
        "\n",
        "    self.q = np.ones((env.k, ))*q_init\n",
        "    self.softmax_prob = np.nan\n",
        "\n",
        "    # track recent experience\n",
        "    self.choice = np.nan\n",
        "    self.reward = np.nan\n",
        "    self.RPE = np.nan\n",
        "\n",
        "\n",
        "  def policy(self):\n",
        "\n",
        "    action_probs = np.exp(self.beta * self.q) / sum(np.exp(self.beta * self.q)) #softmax\n",
        "    sampled_action = np.random.choice(self.nactions, p=action_probs) + 1 # actions are 1-indexed\n",
        "\n",
        "    # log\n",
        "    self.softmax_prob = action_probs\n",
        "    self.choice = sampled_action\n",
        "\n",
        "  def update(self):\n",
        "\n",
        "    ''' TODO '''\n",
        "\n",
        "    pass"
      ]
    },
    {
      "cell_type": "markdown",
      "metadata": {
        "id": "eDF6AMWB-fvd"
      },
      "source": [
        "### Updating"
      ]
    },
    {
      "cell_type": "markdown",
      "metadata": {
        "id": "ZyTUaRFgLGFq"
      },
      "source": [
        "Recall:\n",
        "\n",
        "*   How do we calculate a reward prediction-error?\n",
        "*   How do we update our value?\n",
        "\n"
      ]
    },
    {
      "cell_type": "code",
      "execution_count": null,
      "metadata": {
        "id": "vuX5eNsHNMQK"
      },
      "outputs": [],
      "source": [
        "# TODO: FILL IN THE UPDATE FUNCTION\n",
        "\n",
        "class Agent(object):\n",
        "  \"\"\"Agent class\n",
        "\n",
        "  Parameters\n",
        "  ----------\n",
        "  alpha : float, range (0, 1)\n",
        "      learning rate\n",
        "  beta  : float, range (0,inf)\n",
        "      softmax temperature\n",
        "\n",
        "  \"\"\"\n",
        "\n",
        "  def __init__(self, env, alpha, beta, q_init=False):\n",
        "\n",
        "    # initialize action space\n",
        "    self.action_space = np.arange(env.k) + 1\n",
        "    self.nactions = env.k\n",
        "\n",
        "    # initialize parameters\n",
        "    self.alpha = alpha\n",
        "    self.beta = beta\n",
        "\n",
        "    # initialize Q-values\n",
        "    if q_init: # check if initial q-values were provided\n",
        "      # self.q = q_init\n",
        "      self.q_init = q_init\n",
        "    else:\n",
        "      self.q_init = 0\n",
        "\n",
        "    self.q = np.ones((env.k, ))*q_init\n",
        "    self.softmax_prob = np.nan\n",
        "\n",
        "    # track recent experience\n",
        "    self.action = np.nan\n",
        "    self.reward = np.nan\n",
        "    self.RPE = np.nan\n",
        "\n",
        "\n",
        "  def policy(self):\n",
        "\n",
        "    action_probs = np.exp(self.beta * self.q) / sum(np.exp(self.beta * self.q)) #softmax\n",
        "    sampled_action = np.random.choice(self.nactions, p=action_probs) + 1  # actions are 1-indexed\n",
        "\n",
        "    # log\n",
        "    self.softmax_prob = action_probs\n",
        "    self.action = sampled_action\n",
        "\n",
        "  def update(self, reward):\n",
        "\n",
        "    ''' TODO '''\n",
        "\n",
        "    pass"
      ]
    },
    {
      "cell_type": "markdown",
      "source": [
        "### Final Agent"
      ],
      "metadata": {
        "id": "RyLtu__1yFgy"
      }
    },
    {
      "cell_type": "code",
      "execution_count": null,
      "metadata": {
        "id": "mNTEuW19LX5_"
      },
      "outputs": [],
      "source": [
        "# IF YOU WANT HELP (BUT TRY YOURSELF FIRST!)\n",
        "\n",
        "class AgentSolution(object):\n",
        "  \"\"\"Agent class\n",
        "\n",
        "  Parameters\n",
        "  ----------\n",
        "  alpha : float, range (0, 1)\n",
        "      learning rate\n",
        "  beta  : float, range (0,inf)\n",
        "      softmax temperature\n",
        "\n",
        "  \"\"\"\n",
        "\n",
        "  def __init__(self, env, alpha, beta, q_init=False):\n",
        "    ''' Initialize our learner '''\n",
        "\n",
        "    # initialize action space\n",
        "    self.action_space = np.arange(env.k) + 1\n",
        "    self.nactions = env.k\n",
        "\n",
        "    # initialize parameters\n",
        "    self.alpha = alpha\n",
        "    self.beta = beta\n",
        "\n",
        "    # initialize Q-values\n",
        "    if q_init: # check if initial q-values were provided\n",
        "      # self.q = q_init\n",
        "      self.q_init = q_init\n",
        "    else:\n",
        "      self.q_init = 0\n",
        "\n",
        "    self.q = np.ones((env.k, ))*q_init\n",
        "    self.softmax_prob = np.nan\n",
        "\n",
        "    # track recent experience\n",
        "    self.action = np.nan\n",
        "    self.reward = np.nan\n",
        "    self.RPE = np.nan\n",
        "\n",
        "\n",
        "  def policy(self):\n",
        "    ''' Generate a choice according to q-values using the\n",
        "    softmax function '''\n",
        "\n",
        "    action_probs = np.exp(self.beta * self.q) / sum(np.exp(self.beta * self.q)) #softmax\n",
        "    sampled_action = np.random.choice(self.nactions, p=action_probs) + 1\n",
        "\n",
        "    # track\n",
        "    self.softmax_prob = action_probs\n",
        "    self.action = sampled_action\n",
        "\n",
        "  def update(self, reward):\n",
        "    ''' Update q-value of chosen action according to feedback '''\n",
        "\n",
        "    action_idx = self.action - 1\n",
        "    cur_val = self.q[action_idx]\n",
        "\n",
        "    # track\n",
        "    self.reward = reward\n",
        "    self.RPE = reward - cur_val\n",
        "\n",
        "    # update\n",
        "    self.q[action_idx] = cur_val + self.alpha*self.RPE\n",
        "\n"
      ]
    },
    {
      "cell_type": "markdown",
      "metadata": {
        "id": "5EFPOQNbN9K3"
      },
      "source": [
        "## Simulating Agent in the Environment"
      ]
    },
    {
      "cell_type": "markdown",
      "metadata": {
        "id": "wQ_oO8CENh3E"
      },
      "source": [
        "Okay, great, let's put this all together!\n",
        "\n",
        "We will now simulate our agent in our two-armed bandi environment for the desired number of trials. We will have a logger that keeps track of the actions and rewards of our agent, as well as the corresponding probability of each action according to the model.\n",
        "\n",
        "Feel free to swap in your \"Agent\" class for the \"AgentSolution\" class to test your implementation!"
      ]
    },
    {
      "cell_type": "code",
      "execution_count": null,
      "metadata": {
        "id": "DLWIQ1VOPjTQ"
      },
      "outputs": [],
      "source": [
        "class LearningLog(object):\n",
        "\n",
        "  def __init__(self, env, agent, ntrials):\n",
        "    self.ntrials = ntrials\n",
        "    self.nactions = env.k\n",
        "    self.agent = agent\n",
        "    self.env = env\n",
        "\n",
        "    # choice log\n",
        "    self.choice_history = pd.DataFrame(columns = [\"Trial\", \"Action\", \"Probability\", \"Reward\"])\n",
        "\n",
        "    # q log\n",
        "    col_names = np.array([f\"Q{i+1}\" for i in np.arange(self.nactions)])\n",
        "    self.q_history = pd.DataFrame(columns = col_names)\n",
        "    q_row = {}  # intialize with starting q values\n",
        "    for q in np.arange(self.nactions):\n",
        "      str_key = f'Q{q+1}'\n",
        "      q_row[str_key] = self.agent.q[q]\n",
        "    self.q_history.loc[len(self.q_history)] = q_row\n",
        "\n",
        "  def run_simulation(self):\n",
        "\n",
        "    # run for the specified number of trials\n",
        "    for t in np.arange(self.ntrials):\n",
        "\n",
        "      self.agent.policy()\n",
        "      action = self.agent.action\n",
        "      reward = self.env.step(action)\n",
        "      self.agent.update(reward)\n",
        "\n",
        "      # update choice log\n",
        "      choice_row = {'Trial': t + 1,\n",
        "             'Action':  action,\n",
        "             'Probability':   self.agent.softmax_prob[action - 1],\n",
        "             'Reward': reward}\n",
        "      self.choice_history.loc[len(self.choice_history)] = choice_row\n",
        "\n",
        "      # update q log\n",
        "      q_row = {}\n",
        "      for q in np.arange(self.nactions):\n",
        "        str_key = f'Q{q+1}'\n",
        "        q_row[str_key] = self.agent.q[q]\n",
        "      self.q_history.loc[len(self.q_history)] = q_row\n",
        "\n",
        "  def plot_choice_history(self):\n",
        "\n",
        "    df = self.choice_history\n",
        "\n",
        "    plt.figure(figsize=(5, 3))\n",
        "    plt.scatter(df['Trial'], df['Action'], s = 100, color = \"black\")\n",
        "    plt.title(f'Learning rate: {self.agent.alpha}  Softmax Temp: {self.agent.beta}')\n",
        "    plt.xlabel('Trial')\n",
        "    plt.ylabel('Action')\n",
        "    plt.show()\n",
        "\n",
        "  def plot_q_history(self):\n",
        "    df = self.q_history\n",
        "    colnames = df.columns\n",
        "\n",
        "    plt.figure(figsize=(5, 3))\n",
        "    for c in enumerate(colnames):\n",
        "      c_str = c[1]\n",
        "      plt.plot(np.array(df.index), df[c_str], label = c_str, linewidth = 3)\n",
        "\n",
        "    plt.title(f'Learning rate: {self.agent.alpha}  Softmax Temp: {self.agent.beta}')\n",
        "    plt.xlabel('Trial')\n",
        "    plt.ylabel('QValue')\n",
        "    plt.legend()\n",
        "    plt.show()"
      ]
    },
    {
      "cell_type": "code",
      "execution_count": null,
      "metadata": {
        "id": "GZB5cHheTt1s"
      },
      "outputs": [],
      "source": [
        "# let's initialize the logger\n",
        "alpha = .1\n",
        "beta = 1\n",
        "ntrials = 50\n",
        "test_agent = AgentSolution(env_twoarm,alpha,beta)\n",
        "log_twoarm = LearningLog(env_twoarm,test_agent,ntrials)\n",
        "\n",
        "# let's run!\n",
        "env_twoarm.visualize(1) # remember what the env looks like\n",
        "log_twoarm.run_simulation()\n",
        "log_twoarm.plot_choice_history()\n",
        "log_twoarm.plot_q_history()"
      ]
    },
    {
      "cell_type": "markdown",
      "metadata": {
        "id": "bjCD3MAK-t__"
      },
      "source": [
        "# Fitting Data"
      ]
    },
    {
      "cell_type": "markdown",
      "metadata": {
        "id": "qIeRXc6uIx8d"
      },
      "source": [
        "Let's treat our simulated data as if it came from a real participant:"
      ]
    },
    {
      "cell_type": "code",
      "execution_count": null,
      "metadata": {
        "id": "sWfyPSX4Ix8d"
      },
      "outputs": [],
      "source": [
        "participant_data = log_twoarm.choice_history[['Trial', 'Action', 'Reward']]\n",
        "print(participant_data.head())"
      ]
    },
    {
      "cell_type": "markdown",
      "metadata": {
        "id": "qVgZALtNIx8d"
      },
      "source": [
        "Like in any behavioral experiment, we only have access to participant's choices. Comparing data to the predictions of computational model allows us to quantify the speed of learning (alpha) and tendancy to explore (beta).\n",
        "\n",
        "How do we estimate these parameters for a given participant?\n"
      ]
    },
    {
      "cell_type": "markdown",
      "metadata": {
        "id": "Lea25We2LEvN"
      },
      "source": [
        "## Maximum likelihood estimation (MLE)"
      ]
    },
    {
      "cell_type": "markdown",
      "metadata": {
        "id": "UazFAck8Ix8e"
      },
      "source": [
        "We want the likelihood of that our model predicts trial 1 choice AND trial 2 choice AND trial 3 choice, etc., given it's parameters, $\\phi$. We want to MAXIMIZE this value.\n",
        "\n",
        "$$LL = \\prod_{t \\in T}P(a_t|\\phi)$$"
      ]
    },
    {
      "cell_type": "markdown",
      "metadata": {
        "id": "5v6hNd0tIx8e"
      },
      "source": [
        "Luckily, we already know how to calculate $P(a_t|\\phi)$ -- we can use the softmax probabilities!"
      ]
    },
    {
      "cell_type": "code",
      "execution_count": null,
      "metadata": {
        "id": "kI1A5p23Ix8e"
      },
      "outputs": [],
      "source": [
        "print(log_twoarm.choice_history.tail())"
      ]
    },
    {
      "cell_type": "markdown",
      "metadata": {
        "id": "h91QGTvZIx8e"
      },
      "source": [
        "We consider the log of the likelihood likelihood of our data, as this is a monotonic transformation (i.e. if LL(guess1) > LL(guess2), logLL(guess1) > logLL(guess2) and avoids computer precision errors (taking the product of probabilities, which are between 0-1, get very small very quickly)."
      ]
    },
    {
      "cell_type": "markdown",
      "metadata": {
        "id": "_u5hgF2HIx8e"
      },
      "source": [
        "$$ logLL = log(\\prod_{t \\in T} P(a_t|\\phi)) $$"
      ]
    },
    {
      "cell_type": "markdown",
      "metadata": {
        "id": "Y67TD6QcIx8e"
      },
      "source": [
        "By the product rule of logs:"
      ]
    },
    {
      "cell_type": "markdown",
      "metadata": {
        "id": "er7DcQSNIx8e"
      },
      "source": [
        "$$ logLL = \\sum_{t \\in T} log(P(a_t)) $$"
      ]
    },
    {
      "cell_type": "markdown",
      "metadata": {
        "id": "RMsFQ_0HIx8e"
      },
      "source": [
        "This makes calculating the likelihood easy! All we need to do is sum the log probabilities of each action across all trials. Since usually we are using minimization optimizers, we will calculate the NEGATIVE log likelihood, which turns our maximization objective into a minimization problem."
      ]
    },
    {
      "cell_type": "markdown",
      "metadata": {
        "id": "FxPmMEZ5Ix8e"
      },
      "source": [
        "$$ NLL = -\\sum_{t \\in T} log(P(a_t)) $$"
      ]
    },
    {
      "cell_type": "markdown",
      "metadata": {
        "id": "rclgEkawIx8f"
      },
      "source": [
        "Let's first add a function to force our Agent to take specific actions:"
      ]
    },
    {
      "cell_type": "code",
      "execution_count": null,
      "metadata": {
        "id": "r1ZIqQXwIx8f"
      },
      "outputs": [],
      "source": [
        "class AgentSolution(object):\n",
        "  \"\"\"Agent class\n",
        "\n",
        "  Parameters\n",
        "  ----------\n",
        "  alpha : float, range (0, 1)\n",
        "      learning rate\n",
        "  beta  : float, range (0,inf)\n",
        "      softmax temperature\n",
        "\n",
        "  \"\"\"\n",
        "\n",
        "  def __init__(self, env, alpha, beta, q_init=False):\n",
        "    ''' Initialize our learner '''\n",
        "\n",
        "    # initialize action space\n",
        "    self.action_space = np.arange(env.k) + 1\n",
        "    self.nactions = env.k\n",
        "\n",
        "    # initialize parameters\n",
        "    self.alpha = alpha\n",
        "    self.beta = beta\n",
        "\n",
        "    # initialize Q-values\n",
        "    if q_init: # check if initial q-values were provided\n",
        "      # self.q = q_init\n",
        "      self.q_init = q_init\n",
        "    else:\n",
        "      self.q_init = 0\n",
        "\n",
        "    self.q = np.ones((env.k, ))*q_init\n",
        "    self.softmax_prob = np.nan\n",
        "\n",
        "    # track recent experience\n",
        "    self.action = np.nan\n",
        "    self.reward = np.nan\n",
        "    self.RPE = np.nan\n",
        "\n",
        "\n",
        "  def policy(self):\n",
        "    ''' Generate a choice according to q-values using the\n",
        "    softmax function '''\n",
        "\n",
        "    action_probs = np.exp(self.beta * self.q) / sum(np.exp(self.beta * self.q)) #softmax\n",
        "    sampled_action = np.random.choice(self.nactions, p=action_probs) + 1\n",
        "\n",
        "    # track\n",
        "    self.softmax_prob = action_probs\n",
        "    self.action = sampled_action\n",
        "\n",
        "  def policy_forced(self,sampled_action): # <------ NEW!!!!!\n",
        "    ''' Force a specific action '''\n",
        "\n",
        "    action_probs = np.exp(self.beta * self.q) / sum(np.exp(self.beta * self.q))  # still calculate\n",
        "    # sampled_action = np.random.choice(self.nactions, p=action_probs) + 1  #no longer needed\n",
        "\n",
        "    # track\n",
        "    self.softmax_prob = action_probs\n",
        "    self.action = sampled_action\n",
        "\n",
        "  def update(self, reward):\n",
        "    ''' Update q-value of chosen action according to feedback '''\n",
        "\n",
        "    action_idx = self.action - 1\n",
        "    cur_val = self.q[action_idx]\n",
        "\n",
        "    # track\n",
        "    self.reward = reward\n",
        "    self.RPE = reward - cur_val\n",
        "\n",
        "    # update\n",
        "    self.q[action_idx] = cur_val + self.alpha*self.RPE\n",
        "\n"
      ]
    },
    {
      "cell_type": "markdown",
      "metadata": {
        "id": "6tFwUk30Ix8f"
      },
      "source": [
        "Now, let's update LearningLog class to take in a data set and  calculate our NLL"
      ]
    },
    {
      "cell_type": "code",
      "execution_count": null,
      "metadata": {
        "id": "6Z44rPZqIx8f"
      },
      "outputs": [],
      "source": [
        "class LearningLog(object):\n",
        "\n",
        "  def __init__(self, env, agent, ntrials):\n",
        "    self.ntrials = ntrials\n",
        "    self.nactions = env.k\n",
        "    self.agent = agent\n",
        "    self.env = env\n",
        "\n",
        "    # choice log\n",
        "    self.choice_history = pd.DataFrame(columns = [\"Trial\", \"Action\", \"Probability\", \"Reward\"])\n",
        "\n",
        "    # q log\n",
        "    col_names = np.array([f\"Q{i+1}\" for i in np.arange(self.nactions)])\n",
        "    self.q_history = pd.DataFrame(columns = col_names)\n",
        "    q_row = {}  # intialize with starting q values\n",
        "    for q in np.arange(self.nactions):\n",
        "      str_key = f'Q{q+1}'\n",
        "      q_row[str_key] = self.agent.q[q]\n",
        "    self.q_history.loc[len(self.q_history)] = q_row\n",
        "\n",
        "  def run_simulation(self):\n",
        "\n",
        "    # run for the specified number of trials\n",
        "    for t in np.arange(self.ntrials):\n",
        "\n",
        "      self.agent.policy()\n",
        "      action = self.agent.action\n",
        "      reward = self.env.step(action)\n",
        "      self.agent.update(reward)\n",
        "\n",
        "      # update choice log\n",
        "      choice_row = {'Trial': t + 1,\n",
        "             'Action':  action,\n",
        "             'Probability':   self.agent.softmax_prob[action - 1],\n",
        "             'Reward': reward}\n",
        "      self.choice_history.loc[len(self.choice_history)] = choice_row\n",
        "\n",
        "      # update q log\n",
        "      q_row = {}\n",
        "      for q in np.arange(self.nactions):\n",
        "        str_key = f'Q{q+1}'\n",
        "        q_row[str_key] = self.agent.q[q]\n",
        "      self.q_history.loc[len(self.q_history)] = q_row\n",
        "\n",
        "  def plot_choice_history(self):\n",
        "    df = self.choice_history\n",
        "\n",
        "    plt.figure(figsize=(5, 3))\n",
        "    plt.scatter(df['Trial'], df['Action'], s = 100, color = \"black\")\n",
        "    plt.title(f'Learning rate: {self.agent.alpha}  Softmax Temp: {self.agent.beta}')\n",
        "    plt.xlabel('Trial')\n",
        "    plt.ylabel('Action')\n",
        "    plt.show()\n",
        "\n",
        "  def plot_q_history(self):\n",
        "    df = self.q_history\n",
        "    colnames = df.columns\n",
        "\n",
        "    plt.figure(figsize=(5, 3))\n",
        "    for c in enumerate(colnames):\n",
        "      c_str = c[1]\n",
        "      plt.plot(np.array(df.index), df[c_str], label = c_str, linewidth = 3)\n",
        "\n",
        "    plt.title(f'Learning rate: {self.agent.alpha}  Softmax Temp: {self.agent.beta}')\n",
        "    plt.xlabel('Trial')\n",
        "    plt.ylabel('QValue')\n",
        "    plt.legend()\n",
        "    plt.show()\n",
        "\n",
        "## NEW ------------------------------------------------------------------------------\n",
        "\n",
        "  def fit_data(self, data):\n",
        "\n",
        "    ntrials = len(data)\n",
        "\n",
        "    # run for the specified number of trials\n",
        "    for t in np.arange(ntrials):\n",
        "\n",
        "      # Only updates ----------------------------------------------------\n",
        "      filtered_data = data[data['Trial'] == t + 1]\n",
        "      action = filtered_data['Action'].to_numpy()[0]\n",
        "      reward = filtered_data['Reward'].to_numpy()[0]\n",
        "\n",
        "      self.agent.policy_forced(action)\n",
        "      self.agent.update(reward)\n",
        "      # -----------------------------------------------------------------\n",
        "\n",
        "      # update choice log\n",
        "      choice_row = {'Trial': t + 1,\n",
        "             'Action':  action,\n",
        "             'Probability':   self.agent.softmax_prob[action - 1],\n",
        "             'Reward': reward}\n",
        "      self.choice_history.loc[len(self.choice_history)] = choice_row\n",
        "\n",
        "      # update q log\n",
        "      q_row = {}\n",
        "      for q in np.arange(self.nactions):\n",
        "        str_key = f'Q{q+1}'\n",
        "        q_row[str_key] = self.agent.q[q]\n",
        "      self.q_history.loc[len(self.q_history)] = q_row\n",
        "\n",
        "  def NLL(self):\n",
        "    ''' Computer and return NLL '''\n",
        "    probs = self.choice_history['Probability'].to_numpy()\n",
        "    NLL = -sum(np.log(probs))\n",
        "\n",
        "    return NLL\n"
      ]
    },
    {
      "cell_type": "markdown",
      "metadata": {
        "id": "yLx4Qv1jIx8f"
      },
      "source": [
        "Now let's estimate the NLL of our agent for different parameters guesses:"
      ]
    },
    {
      "cell_type": "markdown",
      "metadata": {
        "id": "yE9M80cGIx8f"
      },
      "source": [
        "### EXERCISE: Parameter Recovery\n",
        "\n",
        "* Create 3 agents with different parameter combinations\n",
        "* Agent 1: Alpha = .1, Beta = 1\n",
        "* Agent 2: Alpha = .9, Beta = 1\n",
        "* Agent 3: Alpha = .0, Beta = 1\n",
        "\n",
        "What do you observe when you plot the choice history?\n",
        "\n",
        "What do you observe when you plot the q history?\n",
        "\n",
        "Which parameters has the lowest NLL (best fitting parameters)?"
      ]
    },
    {
      "cell_type": "code",
      "execution_count": null,
      "metadata": {
        "id": "RVwsjYJ_Ix8f"
      },
      "outputs": [],
      "source": [
        "# Reminder, we are using simulated data as \"real\" data\n",
        "participant_data = log_twoarm.choice_history[['Trial', 'Action', 'Reward']]\n",
        "\n",
        "# initialize learners\n",
        "ntrials = 50\n",
        "agent1 = AgentSolution(env_twoarm,.1,1) # true alpha/beta\n",
        "agent2 = \"TODO\"\n",
        "agent3 = \"TOOO\"\n",
        "logA1 = LearningLog(env_twoarm,agent1,ntrials)\n",
        "logA2 = \"TODO\"\n",
        "logA3 = \"TODO\"\n",
        "\n",
        "# fit to data\n",
        "logA1.fit_data(participant_data)\n",
        "logA2.fit_data(participant_data)\n",
        "logA3.fit_data(participant_data)"
      ]
    },
    {
      "cell_type": "code",
      "execution_count": null,
      "metadata": {
        "id": "AWt-JZJTIx8f"
      },
      "outputs": [],
      "source": [
        "# IF YOU NEED HELP (BUT TRY YOURSELF FIRST!)\n",
        "\n",
        "# Reminder, we are using simulated data as \"real\" data\n",
        "participant_data = log_twoarm.choice_history[['Trial', 'Action', 'Reward']]\n",
        "\n",
        "# initialize learners\n",
        "ntrials = 50\n",
        "agent1 = AgentSolution(env_twoarm,.1,1) # true alpha/beta\n",
        "agent2 = AgentSolution(env_twoarm,.9,1)\n",
        "agent3 = AgentSolution(env_twoarm,.0,1)\n",
        "logA1 = LearningLog(env_twoarm,agent1,ntrials)\n",
        "logA2 = LearningLog(env_twoarm,agent2,ntrials)\n",
        "logA3 = LearningLog(env_twoarm,agent3,ntrials)\n",
        "\n",
        "# fit to data\n",
        "logA1.fit_data(participant_data)\n",
        "logA2.fit_data(participant_data)\n",
        "logA3.fit_data(participant_data)"
      ]
    },
    {
      "cell_type": "code",
      "execution_count": null,
      "metadata": {
        "id": "Qz-9dpGuIx8f"
      },
      "outputs": [],
      "source": [
        "# Verify same action pattern\n",
        "log_twoarm.plot_choice_history()\n",
        "logA1.plot_choice_history()\n",
        "logA2.plot_choice_history()\n",
        "logA3.plot_choice_history()"
      ]
    },
    {
      "cell_type": "code",
      "execution_count": null,
      "metadata": {
        "id": "Q0btqRi1Ix8g"
      },
      "outputs": [],
      "source": [
        "# Plot q values for each agent\n",
        "log_twoarm.plot_q_history()\n",
        "logA1.plot_q_history()\n",
        "logA2.plot_q_history()\n",
        "logA3.plot_q_history()"
      ]
    },
    {
      "cell_type": "code",
      "execution_count": null,
      "metadata": {
        "id": "GCpMSR6iIx8g"
      },
      "outputs": [],
      "source": [
        "# print NLL\n",
        "print(f\"Agent1 NLL:\\t {logA1.NLL()}\") # Same parameters as generated data\n",
        "print(f\"Agent2 NLL:\\t {logA2.NLL()}\")\n",
        "print(f\"Agent3 NLL:\\t {logA3.NLL()}\")"
      ]
    },
    {
      "cell_type": "markdown",
      "metadata": {
        "id": "DOLF64s2Ix8g"
      },
      "source": [
        "### Using an optimizer"
      ]
    },
    {
      "cell_type": "markdown",
      "metadata": {
        "id": "2M91yC4-Ix8g"
      },
      "source": [
        "Instead of manually testing many parameter combinations, we can use an optimizer to find the parameters which minimize the negative log likelihood!\n",
        "\n",
        "Are the results of the optimizer close to the true parameters?"
      ]
    },
    {
      "cell_type": "code",
      "execution_count": null,
      "metadata": {
        "id": "4pXTt_zTIx8g"
      },
      "outputs": [],
      "source": [
        "# wrap it up formatted for optimizer\n",
        "def minimize_me(params, args):\n",
        "\n",
        "    args_unpack = args[0]\n",
        "\n",
        "    alpha, beta = params\n",
        "    env, data = args_unpack\n",
        "\n",
        "    agent = AgentSolution(env,alpha,beta)\n",
        "    learnlog = LearningLog(env,agent,ntrials)\n",
        "\n",
        "    learnlog.fit_data(data)\n",
        "    return learnlog.NLL()\n",
        "\n",
        "# run the optimizer\n",
        "def run_optimizer(env, data):\n",
        "    arg = (env, data)\n",
        "    n_inits = 5 # try a few times - local minima\n",
        "    for i in range(n_inits):\n",
        "        print(\"starting iter: \", i, \" datetime: \", datetime.datetime.now())\n",
        "\n",
        "        # random initial guesses\n",
        "        alpha_init = np.random.random()\n",
        "        beta_init = random.randint(1,26)\n",
        "\n",
        "        x0 = [alpha_init,beta_init]\n",
        "        bounds = ((0, 1), (0, 26))  # bound in appropriate ranges\n",
        "        opt_output = minimize(minimize_me, x0 = x0, args = [arg],\n",
        "                                method='L-BFGS-B', bounds = bounds)\n",
        "\n",
        "        # save the winner\n",
        "        if i == 0:\n",
        "            best_output = opt_output\n",
        "        elif opt_output.fun < best_output.fun:\n",
        "            best_output = opt_output\n",
        "\n",
        "        print(f'iteration {i} complete')\n",
        "\n",
        "    print(\"complete datetime: \", datetime.datetime.now())\n",
        "    best_output.BIC = len(x0) * np.log(len(participant_data)) + 2*best_output.fun\n",
        "\n",
        "    return best_output\n",
        "\n",
        "\n",
        "best_output = run_optimizer(env_twoarm, participant_data)\n",
        ""
      ]
    },
    {
      "cell_type": "code",
      "execution_count": null,
      "metadata": {
        "id": "JInBvEzQIx8g"
      },
      "outputs": [],
      "source": [
        "# Compare results (x) to true parameters: alpha = .1, beta = 1.\n",
        "print(best_output)"
      ]
    },
    {
      "cell_type": "markdown",
      "source": [
        "Ideally, you would run this recovery procedure for a variety of $\\alpha$s and $\\beta$s. Then, check that the recovered parameters are correlated with the true parameters.\n",
        "\n",
        "\n",
        "\n",
        "![lax_49547_elife-49547-box4-fig1-v2.tif.jpg](data:image/jpeg;base64,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)\n",
        "\n",
        "Image from [Wilson and Collins (2019)](https://elifesciences.org/articles/49547)"
      ],
      "metadata": {
        "id": "GsqcVvvMNlGn"
      }
    },
    {
      "cell_type": "markdown",
      "metadata": {
        "id": "yDgxDzLlPE8w"
      },
      "source": [
        "## Model comparison"
      ]
    },
    {
      "cell_type": "markdown",
      "metadata": {
        "id": "PYKwC7LvIx8g"
      },
      "source": [
        "### Bayesian Information Criterion (BIC)\n",
        "\n",
        "Above, you might have noticed a metric \"BIC\".\n",
        "\n",
        "When we have multiple models of interest, BIC is one method for penalising the complexity of a model. We want the simplest models, else we run into a risk of overfitting to our data and our results capturing noise. To calculate BIC, we compute the following:\n",
        "\n",
        "$$BIC = -2 * logLL + k_m log (T)$$\n",
        "\n",
        "where $k_m$ is the number of parameters in a model and T is the number of trials we have.  The LOWER the BIC, the better the model fit."
      ]
    },
    {
      "cell_type": "markdown",
      "metadata": {
        "id": "HkhUFPXXIx8g"
      },
      "source": [
        "Below, we can consider a two learning rate model - one for positive prediction errors and one for negative prediction errors. This adds an additional parameter ($k_m = 3$, two learning rates and softmax temp) relative to the model we originally explored ($k_m = 2$)"
      ]
    },
    {
      "cell_type": "code",
      "execution_count": null,
      "metadata": {
        "id": "7p1fZLn3Ix8h"
      },
      "outputs": [],
      "source": [
        "# Two learning rate model\n",
        "\n",
        "class Agent_TwoLearningRates(object):\n",
        "  \"\"\"Agent class\n",
        "\n",
        "  Parameters\n",
        "  ----------\n",
        "  alphaP : float, range (0, 1)\n",
        "      learning rate for +RPE\n",
        "  alphaN : float, range (0, 1)\n",
        "      learning rate for -RPE\n",
        "  beta  : float, range (0,inf)\n",
        "      softmax temperature\n",
        "\n",
        "  \"\"\"\n",
        "\n",
        "  # helper function\n",
        "  softmax = lambda Q, beta: np.exp(beta * Q) / sum(np.exp(beta * Q))\n",
        "\n",
        "\n",
        "  def __init__(self, env, alphaP, alphaN, beta, q_init=False):\n",
        "    ''' Initialize our learner '''\n",
        "\n",
        "    # initialize action space\n",
        "    self.action_space = np.arange(env.k) + 1\n",
        "    self.nactions = env.k\n",
        "\n",
        "    # initialize parameters             <------------ NEW!!!!!!\n",
        "    self.alphaP = alphaP\n",
        "    self.alphaN = alphaN\n",
        "    self.beta = beta\n",
        "\n",
        "    # initialize Q-values\n",
        "    if q_init: # check if initial q-values were provided\n",
        "      # self.q = q_init\n",
        "      self.q_init = q_init\n",
        "    else:\n",
        "      self.q_init = 0\n",
        "\n",
        "    self.q = np.ones((env.k, ))*q_init\n",
        "    self.softmax_prob = np.nan\n",
        "\n",
        "    # track recent experience\n",
        "    self.action = np.nan\n",
        "    self.reward = np.nan\n",
        "    self.RPE = np.nan\n",
        "\n",
        "  def policy(self):\n",
        "    ''' Generate a choice according to q-values using the\n",
        "    softmax function '''\n",
        "\n",
        "    action_probs = softmax(self.q, self.beta)\n",
        "    sampled_action = np.random.choice(self.nactions, p=action_probs) + 1\n",
        "\n",
        "    # track\n",
        "    self.softmax_prob = action_probs\n",
        "    self.action = sampled_action\n",
        "\n",
        "  def policy_forced(self,sampled_action):\n",
        "    ''' Force a specific action '''\n",
        "\n",
        "    action_probs = softmax(self.q, self.beta)\n",
        "\n",
        "    # track\n",
        "    self.softmax_prob = action_probs\n",
        "    self.action = sampled_action\n",
        "\n",
        "  def update(self, reward):\n",
        "    ''' Update q-value of chosen action according to feedback '''\n",
        "\n",
        "    action_idx = self.action - 1\n",
        "    cur_val = self.q[action_idx]\n",
        "\n",
        "    # track\n",
        "    self.reward = reward\n",
        "    self.RPE = reward - cur_val\n",
        "\n",
        "    # update                                <------------ NEW!!!!!!\n",
        "    if self.RPE > 0:\n",
        "      self.q[action_idx] = cur_val + self.alphaP*self.RPE\n",
        "    else:\n",
        "      self.q[action_idx] = cur_val + self.alphaN*self.RPE\n",
        "\n"
      ]
    },
    {
      "cell_type": "markdown",
      "metadata": {
        "id": "_md1j92ZIx8h"
      },
      "source": [
        "### EXCERCISE: Model Recovery\n",
        "\n",
        "Modify the optimizer functions to fit the for two learning rate model to our data.\n",
        "\n",
        "When you get the gist:\n",
        "* What do the learning rates of the two learning rate model look like?\n",
        "* Compare the BIC of best_output (one learning rate) and best_output_TWOALPHAS (two learning rates). Taking into account complexity, which model best fits the data?\n"
      ]
    },
    {
      "cell_type": "code",
      "execution_count": null,
      "metadata": {
        "id": "A6SFXpDyIx8h"
      },
      "outputs": [],
      "source": [
        "#TODO:\n",
        "\n",
        "# wrap it up formatted for optimizer\n",
        "def minimize_me_TWOALPHAS(params, args):\n",
        "\n",
        "    args_unpack = args[0]\n",
        "\n",
        "    alpha, beta = params\n",
        "    env, data = args_unpack\n",
        "\n",
        "    agent = AgentSolution(env,alpha,beta)\n",
        "    learnlog = LearningLog(env,agent,ntrials)\n",
        "\n",
        "    learnlog.fit_data(data)\n",
        "    return learnlog.NLL()\n",
        "\n",
        "# run the optimizer\n",
        "def run_optimizer_TWOALPHAS(env, data):\n",
        "    arg = (env, data)\n",
        "    n_inits = 5 # try a few times - local minima\n",
        "    for i in range(n_inits):\n",
        "        print(\"starting iter: \", i, \" datetime: \", datetime.datetime.now())\n",
        "\n",
        "        # random initial guesses\n",
        "        alpha_init = np.random.random()\n",
        "        beta_init = random.randint(1,26)\n",
        "\n",
        "        x0 = [alpha_init,beta_init]\n",
        "        bounds = ((0, 1), (0, 26))\n",
        "        opt_output = minimize(minimize_me, x0 = x0, args = [arg],\n",
        "                                method='L-BFGS-B', bounds = bounds) # method = 'L-BFGS-B'\n",
        "\n",
        "        # save the winner\n",
        "        if i == 0:\n",
        "            best_output = opt_output\n",
        "        elif opt_output.fun < best_output.fun:\n",
        "            best_output = opt_output\n",
        "\n",
        "        print(f'iteration {i} complete')\n",
        "\n",
        "    print(\"complete datetime: \", datetime.datetime.now())\n",
        "    best_output.BIC = len(x0) * np.log(len(participant_data)) + 2*best_output.fun\n",
        "\n",
        "    return best_output\n",
        "\n",
        "\n",
        "best_output_TWOALPHAS = run_optimizer(env_twoarm, participant_data)"
      ]
    },
    {
      "cell_type": "code",
      "execution_count": null,
      "metadata": {
        "id": "3_PKVxbOIx8h"
      },
      "outputs": [],
      "source": [
        "# IF YOU NEED HELP (BUT TRY YOURSELF FIRST!)\n",
        "\n",
        "# wrap it up formatted for optimizer\n",
        "def minimize_me_TWOALPHAS(params, args):\n",
        "\n",
        "    args_unpack = args[0]\n",
        "\n",
        "    alphaP, alphaN, beta = params\n",
        "    env, data = args_unpack\n",
        "\n",
        "    agent = Agent_TwoLearningRates(env,alphaP,alphaN,beta)\n",
        "    learnlog = LearningLog(env,agent,ntrials)\n",
        "\n",
        "    learnlog.fit_data(data)\n",
        "    return learnlog.NLL()\n",
        "\n",
        "# run the optimizer\n",
        "def run_optimizer_TWOALPHAS(env, data):\n",
        "    arg = (env, data)\n",
        "    n_inits = 5 # try a few times - local minima\n",
        "    for i in range(n_inits):\n",
        "        print(\"starting iter: \", i, \" datetime: \", datetime.datetime.now())\n",
        "\n",
        "        # random initial guesses\n",
        "        alphaP_init = np.random.random()\n",
        "        alphaN_init = np.random.random()\n",
        "        beta_init = random.randint(1,26)\n",
        "\n",
        "        x0 = [alphaP_init,alphaN_init,beta_init]\n",
        "        bounds = ((0, 1), (0, 1), (0, 26))\n",
        "        opt_output = minimize(minimize_me_TWOALPHAS, x0 = x0, args = [arg],\n",
        "                                method='L-BFGS-B', bounds = bounds)\n",
        "\n",
        "        # save the winner\n",
        "        if i == 0:\n",
        "            best_output = opt_output\n",
        "        elif opt_output.fun < best_output.fun:\n",
        "            best_output = opt_output\n",
        "\n",
        "        print(f'iteration {i} complete')\n",
        "\n",
        "    print(\"complete datetime: \", datetime.datetime.now())\n",
        "    best_output.BIC = len(x0) * np.log(len(participant_data)) + 2*best_output.fun\n",
        "\n",
        "    return best_output\n",
        "\n",
        "\n",
        "best_output_TWOALPHAS = run_optimizer_TWOALPHAS(env_twoarm, participant_data)"
      ]
    },
    {
      "cell_type": "code",
      "execution_count": null,
      "metadata": {
        "id": "qebRIHdNIx8h"
      },
      "outputs": [],
      "source": [
        "print(best_output_TWOALPHAS)"
      ]
    },
    {
      "cell_type": "markdown",
      "metadata": {
        "id": "lz8TDqguIx8h"
      },
      "source": [
        "## Validation"
      ]
    },
    {
      "cell_type": "markdown",
      "source": [
        "Finally, when you you have selected your winning model, it is important that it captures the dynamics you care about.\n",
        "\n",
        "To do this, you can take your parameters from your optimizer and feed them back into your model and simulate the task once more.\n",
        "\n",
        "In this tutorial, we only looked at choice behavior, so this validation step is less surprising (we see roughly the same amount choice distribution for the validation run vs. the original data).\n",
        "\n",
        "However, you can use this to ensure your model can account for other summary metrics (e.g. proportion of switching after a negative reward, learning curves aggregated over subjects)."
      ],
      "metadata": {
        "id": "kTz7UpKuJxoN"
      }
    },
    {
      "cell_type": "code",
      "execution_count": null,
      "metadata": {
        "id": "WVIG5tV7Ix8h"
      },
      "outputs": [],
      "source": [
        "winning_model_param = AgentSolution(env_twoarm,best_output.x[0],best_output.x[1])\n",
        "winning_log = LearningLog(env_twoarm,winning_model_param,ntrials)\n",
        "winning_log.run_simulation()  # run  a new simulation with recovered parameters\n",
        "\n",
        "log_twoarm.plot_choice_history()\n",
        "winning_log.plot_choice_history()"
      ]
    },
    {
      "cell_type": "markdown",
      "metadata": {
        "id": "05W9YQ7nZafe"
      },
      "source": [
        "# Summary:\n",
        "\n",
        "## Good coding practices:\n",
        "\n",
        "* Object oriented programming\n",
        "\n",
        "## Good Modeling Practices\n",
        "\n",
        "* Simulation\n",
        "* Parameter recovery\n",
        "* Model recovery\n",
        "* Validation (i.e. predictive checks)\n",
        "\n",
        "See [Wilson and Collins (2019)](https://elifesciences.org/articles/49547) for more information. To explore these concepts further in code, check out [this rep](https://github.com/christinamaher/10SimpleRulesPythonTutorial/blob/main/03-10simplerules-python.ipynb).\n",
        "\n",
        "## Advanced methods:\n",
        "\n",
        "Hierarchical model fitting\n",
        "* [emfit](https://github.com/mpc-ucl/emfit)\n",
        "* [cbm](https://payampiray.github.io/cbm)"
      ]
    }
  ],
  "metadata": {
    "colab": {
      "collapsed_sections": [
        "SGtIS036RILT"
      ],
      "provenance": []
    },
    "kernelspec": {
      "display_name": "Python 3",
      "name": "python3"
    },
    "language_info": {
      "codemirror_mode": {
        "name": "ipython",
        "version": 3
      },
      "file_extension": ".py",
      "mimetype": "text/x-python",
      "name": "python",
      "nbconvert_exporter": "python",
      "pygments_lexer": "ipython3",
      "version": "3.12.3"
    }
  },
  "nbformat": 4,
  "nbformat_minor": 0
}